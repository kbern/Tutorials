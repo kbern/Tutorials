{
 "cells": [
  {
   "cell_type": "markdown",
   "metadata": {},
   "source": [
    "### Natural language processing (NLP) is a field of computer science that is focused on developing applications and services that are able to understand human languages. Practical examples of NLP include speech recognition, speech translation, understanding complete sentences, understanding synonyms of matching words, and writing complete grammatically correct sentences and paragraphs."
   ]
  },
  {
   "cell_type": "markdown",
   "metadata": {},
   "source": [
    "#### In this tutorial we will first be exploring NLTK (natural language toolkit), one of the NLP libraries. NLTK is a leading platform for building Python programs to work with human language data. It can be used for classification, tokenization, stemming, tagging, parsing, and much more. We will be exploring just a few things that can be done with this library. But before we do anything, we must import all of the necessary libraries. "
   ]
  },
  {
   "cell_type": "code",
   "execution_count": 1,
   "metadata": {},
   "outputs": [],
   "source": [
    "from elasticsearch import Elasticsearch\n",
    "import pandas as pd \n",
    "import numpy as np\n",
    "import nltk\n",
    "from datetime import *\n",
    "from dateutil.relativedelta import *\n",
    "import nltk\n",
    "import tokenize\n",
    "from nltk import word_tokenize\n",
    "from nltk.corpus import stopwords\n",
    "from nameparser import HumanName\n",
    "from bs4 import BeautifulSoup\n",
    "from nltk.corpus import names\n",
    "import sklearn\n",
    "import string\n",
    "from nltk.tokenize import SpaceTokenizer\n",
    "from nltk.text import Text\n",
    "import spacy\n",
    "import boto3"
   ]
  },
  {
   "cell_type": "markdown",
   "metadata": {},
   "source": [
    "#### We can now access our data by placing our desired csv file in an s3 bucket on AWS and downloading the file from that bucket. Then we will read in the file and save it as a dataframe. "
   ]
  },
  {
   "cell_type": "code",
   "execution_count": 2,
   "metadata": {},
   "outputs": [],
   "source": [
    "bucket = 'data-science-tutorials'\n",
    "key = 'nltk_practice.csv'\n",
    "\n",
    "s3 = boto3.resource('s3')\n",
    "\n",
    "s3.Bucket(bucket).download_file(key,key)\n",
    "\n",
    "df = pd.read_csv('./nltk_practice.csv')\n",
    "transcript = df['transcript']"
   ]
  },
  {
   "cell_type": "markdown",
   "metadata": {},
   "source": [
    "#### In order to extract anything from a corpus, we must first process the transcripts. The function ie_preprocess loops through each transcript and gets rid of stop words (such as I, am, we, the, etc..) and tokenizes each word so that they are separated by commas. Once tokenized, it loops through each word and applies the nltk function 'pos_tag', which assignes a part of speech to each word.  "
   ]
  },
  {
   "cell_type": "code",
   "execution_count": 3,
   "metadata": {},
   "outputs": [],
   "source": [
    "#assign Parts of Speech to each word\n",
    "def ie_preprocess(document):\n",
    "    pos_words = []\n",
    "    \n",
    "    for transcript in document:\n",
    "        document = ' '.join([i for i in transcript.split()])\n",
    "        sentences = nltk.sent_tokenize(document) #tokenizes into sentences\n",
    "        sentences = [nltk.word_tokenize(sent) for sent in sentences] #tokenizes into word\n",
    "        for sent in sentences:\n",
    "            pos_words.append(nltk.pos_tag(sent)) #assign parts of speech label to each word\n",
    "    return pos_words"
   ]
  },
  {
   "cell_type": "markdown",
   "metadata": {},
   "source": [
    "#### We will now call ie_preprocess() on the transcripts, getting an output of each word and its part of speech. 'NNP' refers to proper noun. [Here](https://medium.com/@gianpaul.r/tokenization-and-parts-of-speech-pos-tagging-in-pythons-nltk-library-2d30f70af13b) is a referrence for each part of speech."
   ]
  },
  {
   "cell_type": "code",
   "execution_count": 4,
   "metadata": {},
   "outputs": [
    {
     "name": "stdout",
     "output_type": "stream",
     "text": [
      "\n",
      "\n",
      "WORD,Parts of Speech:\n",
      "[[('Thank', 'NNP'), ('you', 'PRP'), ('for', 'IN'), ('calling', 'VBG'), ('REI', 'NNP'), ('headquarters', 'NN'), ('.', '.')], [('If', 'IN'), ('you', 'PRP'), ('would', 'MD'), ('like', 'VB'), ('to', 'TO'), ('speak', 'VB'), ('with', 'IN'), ('a', 'DT'), ('customer', 'NN'), ('service', 'NN'), ('representative', 'NN'), ('.', '.')], [('Please', 'NNP'), ('press', 'VB'), ('one', 'CD'), ('if', 'IN'), ('you', 'PRP'), ('would', 'MD'), ('like', 'VB'), ('to', 'TO'), ('say', 'VB'), ('hello', 'NN'), ('.', '.')], [('Sorry', 'NNP'), ('I', 'PRP'), ('called', 'VBD'), ('up', 'RP'), ('.', '.')], [('I', 'PRP'), ('may', 'MD'), ('direct', 'VB'), ('your', 'PRP$'), ('call', 'NN'), ('.', '.')], [('Okay', 'NNP'), ('hold', 'NN'), ('on', 'IN'), ('please', 'NN'), ('.', '.')], [('You', 'PRP'), ('.', '.')], [('Hello', 'NNP'), ('.', '.')], [('Please', 'NNP'), ('leave', 'VB'), ('a', 'DT'), ('message', 'NN'), ('for', 'IN'), ('Nolan', 'NNP'), ('Cross', 'NNP'), ('.', '.')], [('Hey', 'NNP'), ('Mack', 'NNP'), ('calling', 'VBG'), ('from', 'IN'), ('Cross', 'NNP'), ('.', '.')], [('George', 'NNP'), ('Mike', 'NNP'), ('Lang', 'NNP'), ('.', '.')], [('I', 'PRP'), (\"'m\", 'VBP'), ('calling', 'VBG'), ('about', 'IN'), ('an', 'DT'), ('overdue', 'JJ'), ('bill', 'NN'), ('.', '.')], [('I', 'PRP'), ('Kelly', 'RB'), ('this', 'DT'), ('is', 'VBZ'), ('Sally', 'RB'), ('Ray', 'NNP'), ('Slater', 'NNP'), ('calling', 'VBG'), ('.', '.')], [('Calling', 'VBG'), ('about', 'IN'), ('an', 'DT'), ('overdue', 'JJ'), ('bill', 'NN'), ('.', '.')], [('I', 'PRP'), (\"'m\", 'VBP'), ('sorry', 'JJ'), ('we', 'PRP'), (\"'re\", 'VBP'), ('driving', 'VBG'), ('in', 'IN'), ('the', 'DT'), ('car', 'NN'), ('my', 'PRP$'), ('husband', 'NN'), ('asked', 'VBD'), ('me', 'PRP'), ('to', 'TO'), ('call', 'VB'), ('.', '.')], [('Kinda', 'NNP'), ('fighting', 'VBG'), ('the', 'DT'), ('lady', 'NN'), ('is', 'VBZ'), ('telling', 'VBG'), ('us', 'PRP'), ('where', 'WRB'), ('to', 'TO'), ('go', 'VB'), ('.', '.')], [('The', 'DT'), ('invoice', 'NN'), ('number', 'NN'), ('is', 'VBZ'), ('two', 'CD'), ('two', 'CD'), ('four', 'CD'), ('three', 'CD'), ('six', 'CD'), ('seven', 'CD'), ('one', 'CD'), ('seven', 'CD'), ('five', 'CD'), ('.', '.')], [('Weiss', 'JJ'), ('leader', 'NN'), ('weiss', 'JJ'), ('leader', 'NN'), ('associates', 'NNS'), ('.', '.')], [('W', 'NNP'), ('E', 'NNP'), ('I', 'PRP'), ('S', 'NNP'), ('W', 'NNP'), ('E', 'NNP'), ('I', 'PRP'), ('S', 'NNP'), ('L', 'NNP'), ('E', 'NNP'), ('D', 'NNP'), ('ER', 'NNP'), ('.', '.')], [('Bye', 'NNP'), ('okay', 'MD'), ('hold', 'VB'), ('on', 'IN'), ('one', 'CD'), ('second', 'NN'), ('.', '.')], [('Okay', 'NNP'), ('.', '.')], [('Thank', 'NNP'), ('you', 'PRP'), ('.', '.')], [('Hi', 'NNP'), ('I', 'PRP'), (\"'m\", 'VBP'), ('Brooke', 'NNP'), ('Weiss', 'NNP'), ('later', 'RB'), ('.', '.')], [('Fine', 'JJ'), ('fine', 'NN'), ('.', '.')], [('I', 'PRP'), ('got', 'VBD'), ('an', 'DT'), ('e-mail', 'NN'), ('.', '.')], [('It', 'PRP'), (\"'s\", 'VBZ'), ('said', 'VBD'), ('I', 'PRP'), (\"'m\", 'VBP'), ('missing', 'VBG'), ('a', 'DT'), ('payment', 'NN'), ('from', 'IN'), ('May', 'NNP'), ('thirty', 'NN'), ('first', 'RB'), ('or', 'CC'), ('something', 'NN'), ('like', 'IN'), ('that', 'DT'), ('.', '.')], [('I', 'PRP'), (\"'m\", 'VBP'), ('gon', 'VBG'), ('na', 'TO'), ('Carmen', 'NNP'), ('I', 'PRP'), (\"'m\", 'VBP'), ('sorry', 'JJ'), ('to', 'TO'), ('hear', 'VB'), ('have', 'VB'), ('you', 'PRP'), ('received', 'VBN'), ('any', 'DT'), ('payment', 'NN'), ('since', 'IN'), ('May', 'NNP'), ('since', 'IN'), ('May', 'NNP'), ('thirty', 'NN'), ('first', 'RB'), ('and', 'CC'), ('any', 'DT'), ('payment', 'NN'), ('.', '.')], [('Okay', 'NNP'), ('.', '.')], [('Okay', 'NNP'), ('.', '.')], [('I', 'PRP'), (\"'m\", 'VBP'), ('in', 'IN'), ('the', 'DT'), ('car', 'NN'), ('I', 'PRP'), ('will', 'MD'), ('not', 'RB'), ('be', 'VB'), ('in', 'IN'), ('my', 'PRP$'), ('home', 'NN'), ('until', 'IN'), ('Tuesday', 'NNP'), ('but', 'CC'), ('I', 'PRP'), ('will', 'MD'), ('look', 'VB'), ('at', 'IN'), ('it', 'PRP'), ('and', 'CC'), ('if', 'IN'), ('it', 'PRP'), ('is', 'VBZ'), ('not', 'RB'), ('in', 'IN'), ('my', 'PRP$'), ('bank', 'NN'), ('statement', 'NN'), ('I', 'PRP'), ('will', 'MD'), ('tell', 'VB'), ('you', 'PRP'), ('ASAP', 'NNP'), ('.', '.')], [('I', 'PRP'), (\"'m\", 'VBP'), ('sorry', 'JJ'), ('man', 'NN'), ('.', '.')], [('That', 'DT'), ('would', 'MD'), ('be', 'VB'), ('great', 'JJ'), ('.', '.')], [('Thank', 'NNP'), ('you', 'PRP'), ('very', 'RB'), ('much', 'RB'), ('.', '.')], [('Mel', 'NNP'), ('Mel', 'NNP'), ('now', 'RB'), ('.', '.')], [('If', 'IN'), ('you', 'PRP'), ('did', 'VBD'), (\"n't\", 'RB'), ('get', 'VB'), ('it', 'PRP'), ('maybe', 'RB'), ('I', 'PRP'), ('did', 'VBD'), (\"n't\", 'RB'), ('hey', 'VB'), ('I', 'PRP'), ('for', 'IN'), ('some', 'DT'), ('reason', 'NN'), ('I', 'PRP'), ('do', 'VBP'), ('it', 'PRP'), ('.', '.')], [('I', 'PRP'), ('do', 'VBP'), ('it', 'PRP'), ('through', 'IN'), ('wells', 'NNS'), ('Fargo', 'NNP'), (\"'s\", 'POS'), ('bill', 'NN'), ('pay', 'NN'), ('.', '.')], [('So', 'RB'), ('sometimes', 'RB'), ('when', 'WRB'), ('it', 'PRP'), ('you', 'PRP'), ('know', 'VBP'), ('it', 'PRP'), ('does', 'VBZ'), (\"n't\", 'RB'), ('necessarily', 'RB'), ('look', 'VB'), ('like', 'IN'), ('a', 'DT'), ('check', 'NN'), ('.', '.')], [('I', 'PRP'), ('do', 'VBP'), (\"n't\", 'RB'), ('know', 'VB'), ('if', 'IN'), ('you', 'PRP'), (\"'ve\", 'VBP'), ('ever', 'RB'), ('seen', 'VBN'), ('these', 'DT'), ('things', 'NNS'), ('that', 'WDT'), ('come', 'VBP'), ('but', 'CC'), ('you', 'PRP'), ('know', 'VBP'), ('it', 'PRP'), (\"'s\", 'VBZ'), ('printed', 'VBN'), ('out', 'RP'), ('by', 'IN'), ('the', 'DT'), ('bank', 'NN'), ('and', 'CC'), ('you', 'PRP'), ('got', 'VBD'), ('somehow', 'RB'), ('tear', 'JJ'), ('in', 'IN'), ('and', 'CC'), ('off', 'IN'), ('to', 'TO'), ('open', 'VB'), ('it', 'PRP'), ('up', 'RP'), ('and', 'CC'), ('then', 'RB'), ('the', 'DT'), ('check', 'NN'), ('is', 'VBZ'), ('part', 'NN'), ('of', 'IN'), ('that', 'DT'), ('whole', 'JJ'), ('thing', 'NN'), ('.', '.')], [('But', 'CC'), ('again', 'RB'), ('I', 'PRP'), ('will', 'MD'), ('check', 'VB'), ('and', 'CC'), ('see', 'VB'), ('if', 'IN'), ('it', 'PRP'), ('was', 'VBD'), ('set', 'VBN'), ('or', 'CC'), ('if', 'IN'), ('it', 'PRP'), ('was', 'VBD'), ('not', 'RB'), ('set', 'VBN'), ('sometimes', 'RB'), ('I', 'PRP'), ('mean', 'VBP'), ('maybe', 'RB'), ('I', 'PRP'), ('overlooked', 'VBD'), ('it', 'PRP'), ('but', 'CC'), ('thank', 'VB'), ('you', 'PRP'), ('very', 'RB'), ('much', 'JJ'), ('and', 'CC'), ('I', 'PRP'), ('will', 'MD'), ('get', 'VB'), ('to', 'TO'), ('it', 'PRP'), ('when', 'WRB'), ('I', 'PRP'), ('get', 'VBP'), ('home', 'NN'), ('on', 'IN'), ('Tuesday', 'NNP'), ('.', '.')], [('Bye', 'NNP'), ('.', '.')], [('Hello', 'NNP'), ('dialog', 'NN'), ('Tech', 'NNP'), ('.', '.')], [('The', 'DT'), ('leader', 'NN'), ('in', 'IN'), ('call', 'NN'), ('at', 'IN'), ('your', 'PRP$'), ('vision', 'NN'), ('and', 'CC'), ('insides', 'NNS'), ('.', '.')], [('To', 'TO'), ('speak', 'VB'), ('with', 'IN'), ('a', 'DT'), ('sales', 'NNS'), ('representative', 'NN'), ('.', '.')], [('Press', 'NNP'), ('one', 'CD'), ('if', 'IN'), ('you', 'PRP'), (\"'re\", 'VBP'), ('an', 'DT'), ('existing', 'VBG'), ('customer', 'NN'), ('in', 'IN'), ('need', 'NN'), ('of', 'IN'), ('support', 'NN'), ('.', '.')], [('Press', 'NNP'), ('two', 'CD'), ('.', '.')], [('If', 'IN'), ('you', 'PRP'), ('are', 'VBP'), ('interested', 'JJ'), ('in', 'IN'), ('a', 'DT'), ('career', 'NN'), ('at', 'IN'), ('dialog', 'NN'), ('Tech', 'NNP'), ('press', 'NN'), ('four', 'CD'), ('.', '.')], [('For', 'IN'), ('all', 'DT'), ('of', 'IN'), ('connecting', 'VBG'), ('your', 'PRP$'), ('call', 'NN'), ('.', '.')], [('This', 'DT'), ('call', 'NN'), ('maybe', 'RB'), ('monitored', 'VBD'), ('or', 'CC'), ('recorded', 'VBN'), ('for', 'IN'), ('quality', 'NN'), ('purposes', 'NNS'), ('.', '.')], [('You', 'PRP'), ('this', 'DT'), ('is', 'VBZ'), ('you', 'PRP'), ('okay', 'JJ'), ('and', 'CC'), ('what', 'WP'), (\"'s\", 'VBZ'), ('the', 'DT'), ('name', 'NN'), ('of', 'IN'), ('the', 'DT'), ('account', 'NN'), ('for', 'IN'), ('the', 'DT'), ('company', 'NN'), ('.', '.')], [('Could', 'NNP'), ('you', 'PRP'), ('spell', 'VBP'), ('that', 'IN'), ('for', 'IN'), ('me', 'PRP'), ('.', '.')], [('Okay', 'NNP'), ('just', 'RB'), ('one', 'CD'), ('moment', 'NN'), ('.', '.')], [('Okay', 'NNP'), ('so', 'IN'), ('it', 'PRP'), ('looks', 'VBZ'), ('like', 'IN'), ('the', 'DT'), ('account', 'NN'), ('is', 'VBZ'), ('currently', 'RB'), ('being', 'VBG'), ('billed', 'VBN'), ('through', 'IN'), ('invoice', 'NN'), ('so', 'IN'), ('we', 'PRP'), ('would', 'MD'), ('be', 'VB'), ('able', 'JJ'), ('to', 'TO'), ('accept', 'VB'), ('check', 'NN'), ('or', 'CC'), ('wire', 'NN'), ('transfer', 'NN'), ('for', 'IN'), ('payment', 'NN'), ('.', '.')], [('Hi', 'NNP'), ('how', 'WRB'), ('are', 'VBP'), ('you', 'PRP'), ('.', '.')], [('Yes', 'UH'), ('that', 'WDT'), ('is', 'VBZ'), ('the', 'DT'), ('invoice', 'NN'), ('that', 'WDT'), ('were', 'VBD'), ('showing', 'VBG'), ('as', 'IN'), ('unpaid', 'JJ'), ('.', '.')], [('I', 'PRP'), ('do', 'VBP'), ('need', 'VB'), ('me', 'PRP'), ('to', 'TO'), ('repeat', 'VB'), ('that', 'DT'), ('so', 'IN'), ('we', 'PRP'), (\"'re\", 'VBP'), ('showing', 'VBG'), ('that', 'IN'), ('June', 'NNP'), ('is', 'VBZ'), ('paid', 'VBN'), ('but', 'CC'), ('the', 'DT'), ('May', 'NNP'), ('invoice', 'NN'), ('is', 'VBZ'), ('not', 'RB'), ('been', 'VBN'), ('paid', 'VBN'), ('.', '.')], [('Okay', 'NNP'), ('.', '.')], [('I', 'PRP'), ('will', 'MD'), ('let', 'VB'), ('our', 'PRP$'), ('accounts', 'NNS'), ('receivable', 'JJ'), ('team', 'NN'), ('know', 'NN'), ('.', '.')], [('I', 'PRP'), (\"'ll\", 'MD'), ('I', 'PRP'), (\"'ll\", 'MD'), ('make', 'VB'), ('make', 'VB'), ('sure', 'JJ'), ('that', 'IN'), ('our', 'PRP$'), ('accounts', 'NNS'), ('receivable', 'JJ'), ('team', 'NN'), ('is', 'VBZ'), ('aware', 'JJ'), ('.', '.')], [('Yeah', 'NN'), ('is', 'VBZ'), ('there', 'RB'), ('anything', 'NN'), ('else', 'JJ'), ('I', 'PRP'), ('can', 'MD'), ('help', 'VB'), ('you', 'PRP'), ('okay', 'VB'), ('perfect', 'JJ'), ('thank', 'NN'), ('you', 'PRP'), ('.', '.')], [('Alright', 'NNP'), ('.', '.')], [('Have', 'VB'), ('a', 'DT'), ('good', 'JJ'), ('one', 'CD'), ('.', '.')], [('Bye', 'NNP'), ('.', '.')], [('Hi', 'NNP'), ('reach', 'VBP'), ('Karen', 'NNP'), ('Lancaster', 'NNP'), ('at', 'IN'), ('Security', 'NNP'), ('Care', 'NNP'), ('Network', 'NNP'), ('.', '.')], [('Please', 'NNP'), ('leave', 'VB'), ('me', 'PRP'), ('a', 'DT'), ('detailed', 'JJ'), ('message', 'NN'), ('and', 'CC'), ('a', 'DT'), ('phone', 'NN'), ('number', 'NN'), ('.', '.')], [('I', 'PRP'), ('will', 'MD'), ('get', 'VB'), ('back', 'RB'), ('with', 'IN'), ('you', 'PRP'), ('as', 'RB'), ('soon', 'RB'), ('as', 'IN'), ('I', 'PRP'), ('possibly', 'RB'), ('can', 'MD'), ('.', '.')], [('Thank', 'NNP'), ('you', 'PRP'), ('.', '.')], [('Hi', 'NNP'), ('Karen', 'NNP'), ('this', 'DT'), ('is', 'VBZ'), ('Devon', 'NNP'), ('foreman', 'NN'), ('over', 'IN'), ('at', 'IN'), ('dialog', 'NN'), ('Tech', 'NNP'), ('.', '.')], [('We', 'PRP'), ('have', 'VBP'), ('this', 'DT'), ('time', 'NN'), ('blocked', 'VBD'), ('off', 'RP'), ('to', 'TO'), ('speak', 'VB'), ('about', 'IN'), ('your', 'PRP$'), ('needs', 'NNS'), ('for', 'IN'), ('outbound', 'NN'), ('voice', 'NN'), ('messages', 'NNS'), ('put', 'VBD'), ('patient', 'JJ'), ('reminders', 'NNS'), ('.', '.')], [('Emergency', 'NN'), ('response', 'NN'), ('.', '.')], [('When', 'WRB'), ('you', 'PRP'), ('get', 'VBP'), ('a', 'DT'), ('chance', 'NN'), ('please', 'NN'), ('give', 'VB'), ('me', 'PRP'), ('a', 'DT'), ('call', 'NN'), ('back', 'RB'), ('the', 'DT'), ('best', 'JJS'), ('number', 'NN'), ('to', 'TO'), ('reach', 'VB'), ('me', 'PRP'), ('at', 'IN'), ('is', 'VBZ'), ('seven', 'CD'), ('six', 'CD'), ('five', 'CD'), ('eight', 'CD'), ('six', 'CD'), ('zero', 'CD'), ('nine', 'CD'), ('nine', 'CD'), ('nine', 'CD'), ('two', 'CD'), ('.', '.')], [('Again', 'NNP'), ('Devon', 'NNP'), ('foreman', 'NN'), ('at', 'IN'), ('dialog', 'NN'), ('Tech', 'NNP'), ('seven', 'CD'), ('six', 'CD'), ('five', 'CD'), ('eight', 'CD'), ('six', 'CD'), ('zero', 'CD'), ('nine', 'CD'), ('nine', 'CD'), ('nine', 'CD'), ('two', 'CD'), ('.', '.')], [('Thank', 'NNP'), ('you', 'PRP'), ('.', '.')], [('Thank', 'NNP'), ('you', 'PRP'), ('for', 'IN'), ('choosing', 'VBG'), ('Yancy', 'NNP'), ('.', '.')], [('My', 'PRP$'), ('name', 'NN'), ('is', 'VBZ'), ('Kelly', 'NNP'), ('message', 'NN'), ('.', '.')], [('How', 'WRB'), ('about', 'IN'), ('connecting', 'VBG'), ('your', 'PRP$'), ('personal', 'JJ'), ('medical', 'JJ'), ('records', 'NNS'), ('online', 'NN'), ('.', '.')], [('Hello', 'NNP'), ('.', '.')], [('Please', 'NNP'), ('leave', 'VB'), ('a', 'DT'), ('message', 'NN'), ('for', 'IN'), ('Taylor', 'NNP'), ('Neely', 'NNP'), ('.', '.')], [('To', 'TO'), ('speak', 'VB'), ('to', 'TO'), ('an', 'DT'), ('operator', 'NN'), ('press', 'NN'), ('zero', 'NN'), ('.', '.')], [('After', 'IN'), ('the', 'DT'), ('.', '.')], [('Hey', 'NNP'), ('Shelly', 'NNP'), ('I', 'PRP'), ('was', 'VBD'), ('just', 'RB'), ('looking', 'VBG'), ('to', 'TO'), ('be', 'VB'), ('connected', 'VBN'), ('to', 'TO'), ('an', 'DT'), ('internal', 'JJ'), ('employee', 'NN'), ('by', 'IN'), ('the', 'DT'), ('name', 'NN'), ('of', 'IN'), ('Taylor', 'NNP'), ('Neely', 'NNP'), ('.', '.')], [('She', 'PRP'), ('works', 'VBZ'), ('in', 'IN'), ('the', 'DT'), ('marking', 'NN'), ('department', 'NN'), ('.', '.')], [('Hello', 'NNP'), ('.', '.')], [('Thank', 'NNP'), ('you', 'PRP'), ('for', 'IN'), ('calling', 'VBG'), ('Barry', 'NNP'), ('University', 'NNP'), ('.', '.')], [('For', 'IN'), ('information', 'NN'), ('on', 'IN'), ('our', 'PRP$'), ('.', '.')], [('Please', 'NNP'), ('save', 'VB'), ('the', 'DT'), ('phone', 'NN'), ('name', 'NN'), ('or', 'CC'), ('enter', 'VB'), ('the', 'DT'), ('extension', 'NN'), ('of', 'IN'), ('the', 'DT'), ('person', 'NN'), ('you', 'PRP'), ('were', 'VBD'), ('trying', 'VBG'), ('to', 'TO'), ('reach', 'VB'), ('to', 'TO'), ('return', 'VB'), ('to', 'TO'), ('the', 'DT'), ('main', 'JJ'), ('menu', 'NN'), ('press', 'NN'), ('zero', 'NN'), ('.', '.')], [('Please', 'NNP'), ('hold', 'VB'), ('while', 'IN'), ('we', 'PRP'), ('transfer', 'VBP'), ('your', 'PRP$'), ('call', 'NN'), ('to', 'TO'), ('campus', 'NN'), ('.', '.')], [('Hello', 'NNP'), ('.', '.')], [('Thank', 'NNP'), ('you', 'PRP'), ('for', 'IN'), ('calling', 'VBG'), ('Perry', 'NNP'), ('University', 'NNP'), ('.', '.')], [('If', 'IN'), ('you', 'PRP'), ('would', 'MD'), ('like', 'VB'), ('to', 'TO'), ('learn', 'VB'), ('more', 'JJR'), ('about', 'IN'), ('us', 'PRP'), ('press', 'VBP'), ('one', 'CD'), ('to', 'TO'), ('get', 'VB'), ('an', 'DT'), ('update', 'NN'), ('on', 'IN'), ('your', 'PRP$'), ('application', 'NN'), ('status', 'NN'), ('press', 'NN'), ('two', 'CD'), ('.', '.')], [('If', 'IN'), ('you', 'PRP'), ('have', 'VBP'), ('an', 'DT'), ('active', 'JJ'), ('application', 'NN'), ('.', '.')], [('I', 'PRP'), ('need', 'VBP'), ('one', 'CD'), ('of', 'IN'), ('our', 'PRP$'), ('helpful', 'JJ'), ('councilors', 'NNS'), ('for', 'IN'), ('undergraduate', 'JJ'), ('admission', 'NN'), ('graduate', 'NN'), ('admissions', 'NNS'), ('or', 'CC'), ('financial', 'JJ'), ('aid', 'NN'), ('.', '.')], [('Press', 'NNP'), ('three', 'CD'), ('.', '.')], [('If', 'IN'), ('you', 'PRP'), ('know', 'VBP'), ('the', 'DT'), ('extension', 'NN'), ('you', 'PRP'), ('want', 'VBP'), ('to', 'TO'), ('reach', 'VB'), ('press', 'NN'), ('four', 'CD'), ('.', '.')], [('To', 'TO'), ('repeat', 'VB'), ('this', 'DT'), ('menu', 'NN'), ('press', 'NN'), ('star', 'NN'), ('.', '.')], [('Kim', 'NNP'), ('beers', 'NNS'), ('.', '.')], [('Thank', 'NNP'), ('you', 'PRP'), ('for', 'IN'), ('calling', 'VBG'), ('for', 'IN'), ('Brothers', 'NNP'), ('moment', 'NN'), ('with', 'IN'), ('thank', 'NN'), ('you', 'PRP'), ('for', 'IN'), ('holding', 'VBG'), ('how', 'WRB'), ('can', 'MD'), ('I', 'PRP'), ('direct', 'VB'), ('your', 'PRP$'), ('call', 'NN'), ('.', '.')], [('One', 'CD'), ('moment', 'NN'), ('please', 'NN'), ('.', '.')], [('Please', 'NNP'), ('leave', 'VBP'), ('a', 'DT'), ('voice', 'NN'), ('message', 'NN'), ('for', 'IN'), ('Heather', 'NNP'), ('Corel', 'NNP'), ('at', 'IN'), ('the', 'DT'), ('tone', 'NN'), ('please', 'NN'), ('record', 'VB'), ('your', 'PRP$'), ('message', 'NN'), ('.', '.')], [('When', 'WRB'), ('you', 'PRP'), ('are', 'VBP'), ('finished', 'VBN'), ('recording', 'VBG'), ('hang', 'NN'), ('up', 'RB'), ('or', 'CC'), ('press', 'VB'), ('one', 'CD'), ('for', 'IN'), ('more', 'JJR'), ('options', 'NNS'), ('.', '.')], [('Love', 'NNP'), ('you', 'PRP'), ('.', '.')], [('Speak', 'NN'), ('with', 'IN'), ('Heather', 'NNP'), ('crab', 'NN'), ('please', 'NN'), ('.', '.')], [('Thank', 'NNP'), ('you', 'PRP'), ('hey', 'VBP'), ('Heather', 'JJR'), ('it', 'PRP'), (\"'s\", 'VBZ'), ('Daniel', 'NNP'), ('Gory', 'NNP'), ('.', '.')], [('The', 'DT'), ('reason', 'NN'), ('for', 'IN'), ('my', 'PRP$'), ('call', 'NN'), ('is', 'VBZ'), ('that', 'IN'), ('I', 'PRP'), (\"'m\", 'VBP'), ('currently', 'RB'), ('looking', 'VBG'), ('at', 'IN'), ('to', 'TO'), ('advertisement', 'VB'), ('that', 'IN'), ('Toll_Brothers', 'NNP'), ('puts', 'VBZ'), ('out', 'RP'), ('.', '.')], [('One', 'CD'), ('is', 'VBZ'), ('a', 'DT'), ('Google', 'NNP'), ('ad', 'NN'), ('words', 'NNS'), ('campaign', 'NN'), ('which', 'WDT'), ('I', 'PRP'), ('searched', 'VBD'), ('new', 'JJ'), ('homes', 'NNS'), ('in', 'IN'), ('the', 'DT'), ('bay', 'JJ'), ('area', 'NN'), ('in', 'IN'), ('the', 'DT'), ('top', 'JJ'), ('results', 'NNS'), ('and', 'CC'), ('another', 'DT'), ('display', 'NN'), ('advertisement', 'NN'), ('that', 'IN'), ('I', 'PRP'), (\"'m\", 'VBP'), ('looking', 'VBG'), ('at', 'IN'), ('as', 'RB'), ('well', 'RB'), ('work', 'NN'), ('for', 'IN'), ('a', 'DT'), ('company', 'NN'), ('called', 'VBN'), ('dialog', 'NN'), ('Tech', 'NNP'), ('and', 'CC'), ('we', 'PRP'), (\"'re\", 'VBP'), ('partnering', 'VBG'), ('with', 'IN'), ('several', 'JJ'), ('home', 'NN'), ('builders', 'NNS'), ('and', 'CC'), ('it', 'PRP'), ('should', 'MD'), ('be', 'VB'), ('needing', 'VBG'), ('views', 'NNS'), ('and', 'CC'), ('clicks', 'NNS'), ('on', 'IN'), ('advertisement', 'NN'), ('similar', 'JJ'), ('to', 'TO'), ('those', 'DT'), ('back', 'JJ'), ('to', 'TO'), ('the', 'DT'), ('phone', 'NN'), ('calls', 'VBZ'), ('that', 'IN'), ('often', 'RB'), ('follow', 'JJ'), ('and', 'CC'), ('I', 'PRP'), ('could', 'MD'), ('be', 'VB'), ('of', 'IN'), ('use', 'NN'), ('to', 'TO'), ('Toll_Brothers', 'NNPS'), ('as', 'RB'), ('well', 'RB'), ('given', 'VBN'), ('the', 'DT'), ('several', 'JJ'), ('phone', 'NN'), ('numbers', 'NNS'), ('listed', 'VBN'), ('across', 'IN'), ('this', 'DT'), ('website', 'NN'), ('.', '.')], [('I', 'PRP'), (\"'m\", 'VBP'), ('gon', 'VBG'), ('na', 'TO'), ('send', 'VB'), ('you', 'PRP'), ('an', 'DT'), ('e-mail', 'JJ'), ('with', 'IN'), ('some', 'DT'), ('screen', 'JJ'), ('shots', 'NNS'), ('of', 'IN'), ('the', 'DT'), ('advertisers', 'NNS'), ('I', 'PRP'), (\"'m\", 'VBP'), ('currently', 'RB'), ('looking', 'VBG'), ('at', 'IN'), ('.', '.')], [('It', 'PRP'), (\"'s\", 'VBZ'), ('going', 'VBG'), ('to', 'TO'), ('say', 'VB'), ('that', 'IN'), ('your', 'PRP$'), ('meeting', 'NN'), ('calls', 'VBZ'), ('to', 'TO'), ('clicks', 'NNS'), ('.', '.')], [('So', 'RB'), ('keep', 'VB'), ('an', 'DT'), ('eye', 'NN'), ('out', 'RP'), ('for', 'IN'), ('it', 'PRP'), ('and', 'CC'), ('I', 'PRP'), ('look', 'VBP'), ('forward', 'RB'), ('to', 'TO'), ('speaking', 'VBG'), ('with', 'IN'), ('you', 'PRP'), ('soon', 'RB'), ('.', '.')], [('Thanks', 'NNS'), ('.', '.')], [('Hello', 'NNP'), ('and', 'CC'), ('thank', 'VB'), ('you', 'PRP'), ('for', 'IN'), ('calling', 'VBG'), ('fish', 'JJ'), ('Paul', 'NNP'), ('.', '.')], [('The', 'DT'), ('results', 'NNS'), ('are', 'VBP'), ('served', 'JJ'), ('daily', 'JJ'), ('.', '.')], [('Please', 'NNP'), ('listen', 'VBZ'), ('carefully', 'RB'), ('as', 'IN'), ('our', 'PRP$'), ('options', 'NNS'), ('have', 'VBP'), ('changed', 'VBN'), ('.', '.')], [('If', 'IN'), ('you', 'PRP'), ('know', 'VBP'), ('your', 'PRP$'), ('party', 'NN'), (\"'s\", 'POS'), ('extension', 'NN'), ('you', 'PRP'), ('can', 'MD'), ('dial', 'VB'), ('it', 'PRP'), ('at', 'IN'), ('any', 'DT'), ('time', 'NN'), ('.', '.')], [('For', 'IN'), ('client', 'NN'), ('support', 'NN'), ('.', '.')], [('Press', 'NNP'), ('one', 'CD'), ('for', 'IN'), ('sales', 'NNS'), ('press', 'NN'), ('two', 'CD'), ('for', 'IN'), ('billing', 'VBG'), ('press', 'NN'), ('three', 'CD'), ('.', '.')], [('To', 'TO'), ('order', 'NN'), ('envelope', 'NN'), ('and', 'CC'), ('sign', 'VB'), ('up', 'RP'), ('slips', 'NNS'), ('press', 'RB'), ('four', 'CD'), ('to', 'TO'), ('reach', 'VB'), ('the', 'DT'), ('operator', 'NN'), ('press', 'NN'), ('zero', 'NN'), ('.', '.')], [('For', 'IN'), ('dial', 'JJ'), ('by', 'IN'), ('name', 'NN'), ('directory', 'NN'), ('press', 'NN'), ('the', 'DT'), ('star', 'NN'), ('key', 'NN'), ('.', '.')], [('Hello', 'NNP'), ('.', '.')], [('Thank', 'NNP'), ('you', 'PRP'), ('for', 'IN'), ('calling', 'VBG'), ('fish', 'NN'), ('for', 'IN'), ('results', 'NNS'), ('or', 'CC'), ('served', 'VBD'), ('daily', 'RB'), ('.', '.')], [('Reception', 'NN'), ('is', 'VBZ'), ('currently', 'RB'), ('unavailable', 'JJ'), ('.', '.')], [('If', 'IN'), ('you', 'PRP'), ('wish', 'VBP'), ('to', 'TO'), ('leave', 'VB'), ('a', 'DT'), ('message', 'NN'), ('please', 'NN'), ('identify', 'VB'), ('which', 'WDT'), ('.', '.')], [('Thank', 'NNP'), ('you', 'PRP'), ('for', 'IN'), ('calling', 'VBG'), ('American', 'JJ'), ('carpet', 'NN'), ('all', 'DT'), ('calls', 'NNS'), ('are', 'VBP'), ('recorded', 'VBN'), ('for', 'IN'), ('quality', 'NN'), ('assurance', 'NN'), ('.', '.')], [('If', 'IN'), ('you', 'PRP'), ('know', 'VBP'), ('your', 'PRP$'), ('parties', 'NNS'), ('extension', 'VBP'), ('you', 'PRP'), ('may', 'MD'), ('enter', 'VB'), ('it', 'PRP'), ('at', 'IN'), ('any', 'DT'), ('time', 'NN'), ('or', 'CC'), ('sale', 'NN'), ('.', '.')], [('Please', 'NNP'), ('hold', 'VB'), ('on', 'IN'), ('while', 'IN'), ('I', 'PRP'), ('try', 'VBP'), ('that', 'DT'), ('extension', 'NN'), ('.', '.')], [('Hello', 'NNP'), ('.', '.')], [('Hello', 'NNP'), ('.', '.')], [('Hello', 'NNP'), ('.', '.')], [('Hello', 'NNP'), ('.', '.')], [('Hello', 'NNP'), ('.', '.')], [('Hello', 'NNP'), ('.', '.')], [('I', 'PRP'), (\"'m\", 'VBP'), ('calling', 'VBG'), ('.', '.')], [('You', 'PRP'), ('have', 'VBP'), ('reached', 'VBN'), ('the', 'DT'), ('voicemail', 'NN'), ('box', 'NN'), ('of', 'IN'), ('six', 'CD'), ('two', 'CD'), ('six', 'CD'), ('four', 'CD'), ('eight', 'CD'), ('eight', 'CD'), ('five', 'CD'), ('five', 'CD'), ('one', 'CD'), ('five', 'CD'), ('.', '.')], [('At', 'IN'), ('the', 'DT'), ('tone', 'NN'), ('please', 'NN'), ('record', 'VB'), ('your', 'PRP$'), ('voice', 'NN'), ('message', 'NN'), ('.', '.')], [('When', 'WRB'), ('you', 'PRP'), ('are', 'VBP'), ('finished', 'VBN'), ('recording', 'VBG'), ('you', 'PRP'), ('may', 'MD'), ('hang', 'VB'), ('up', 'RP'), ('or', 'CC'), ('press', 'NN'), ('pound', 'NN'), ('for', 'IN'), ('more', 'JJR'), ('options', 'NNS'), ('.', '.')], [('Hey', 'NNP'), ('Jack', 'NNP'), ('this', 'DT'), ('is', 'VBZ'), ('Catherine', 'NNP'), ('over', 'IN'), ('at', 'IN'), ('dialog', 'NN'), ('Tech', 'NNP'), ('.', '.')], [('I', 'PRP'), (\"'m\", 'VBP'), ('looking', 'VBG'), ('I', 'PRP'), ('got', 'VBD'), ('an', 'DT'), ('e-mail', 'JJ'), ('put', 'NN'), ('in', 'IN'), ('a', 'DT'), ('demo', 'NN'), ('request', 'NN'), ('on', 'IN'), ('our', 'PRP$'), ('website', 'NN'), ('earlier', 'RBR'), ('this', 'DT'), ('week', 'NN'), ('.', '.')], [('Just', 'RB'), ('wan', 'WP'), ('na', 'RB'), ('make', 'VBP'), ('sure', 'JJ'), ('that', 'WDT'), ('does', 'VBZ'), (\"n't\", 'RB'), ('get', 'VB'), ('this', 'DT'), ('and', 'CC'), ('we', 'PRP'), ('get', 'VBP'), ('that', 'DT'), ('scheduled', 'VBD'), ('.', '.')], [('My', 'PRP$'), ('phone', 'NN'), ('number', 'NN'), ('is', 'VBZ'), ('three', 'CD'), ('one', 'CD'), ('two', 'CD'), ('seven', 'CD'), ('six', 'CD'), ('five', 'CD'), ('seven', 'CD'), ('nine', 'CD'), ('two', 'CD'), ('zero', 'NN'), ('.', '.')], [('Give', 'VB'), ('me', 'PRP'), ('a', 'DT'), ('call', 'NN'), ('back', 'RB'), ('or', 'CC'), ('I', 'PRP'), (\"'m\", 'VBP'), ('also', 'RB'), ('about', 'RB'), ('to', 'TO'), ('send', 'VB'), ('you', 'PRP'), ('an', 'DT'), ('e-mail', 'JJ'), ('you', 'PRP'), ('can', 'MD'), ('respond', 'VB'), ('that', 'DT'), ('way', 'NN'), ('as', 'RB'), ('well', 'RB'), ('.', '.')], [('Talk', 'NN'), ('to', 'TO'), ('you', 'PRP'), ('soon', 'RB'), ('.', '.')], [('Bye-bye', 'NNP'), ('.', '.')], [('Hi', 'NNP'), ('Rob', 'NNP'), ('.', '.')], [('I', 'PRP'), ('send', 'VBP'), ('the', 'DT'), ('call', 'NN'), ('extension', 'NN'), ('tracking', 'VBG'), ('when', 'WRB'), ('Google', 'NNP'), ('Edward', 'NNP'), ('yesterday', 'NN'), ('and', 'CC'), ('I', 'PRP'), (\"'m\", 'VBP'), ('not', 'RB'), ('seen', 'VBN'), ('the', 'DT'), ('labels', 'NNS'), ('come', 'VBP'), ('through', 'IN'), ('on', 'IN'), ('my', 'PRP$'), ('report', 'NN'), ('.', '.')], [('John', 'NNP'), ('Walsh', 'NNP'), ('three', 'CD'), ('seven', 'CD'), ('three', 'CD'), ('two', 'CD'), ('six', 'CD'), ('five', 'CD'), ('.', '.')], [('Yes', 'UH'), ('.', '.')], [('Okay', 'NNP'), ('.', '.')], [('Yeah', 'UH'), ('yeah', 'NN'), ('.', '.')], [('Okay', 'NNP'), ('.', '.')], [('Yeah', 'UH'), ('hello', 'NN'), ('this', 'DT'), ('is', 'VBZ'), ('Gabriel', 'NNP'), ('in', 'IN'), ('two', 'CD'), ('days', 'NNS'), ('yeah', 'VBP'), ('okay', 'RB'), ('so', 'RB'), ('just', 'RB'), ('going', 'VBG'), ('through', 'IN'), ('some', 'DT'), ('text', 'NN'), ('with', 'IN'), ('labels', 'NNS'), ('.', '.')], [('Okay', 'NNP'), ('beautiful', 'NN'), ('that', 'WDT'), ('explains', 'VBZ'), ('that', 'IN'), ('.', '.')], [('Okay', 'NNP'), ('.', '.')], [('Is', 'VBZ'), ('there', 'EX'), ('any', 'DT'), ('other', 'JJ'), ('any', 'DT'), ('other', 'JJ'), ('advance', 'NN'), ('options', 'NNS'), ('that', 'IN'), ('you', 'PRP'), ('recommend', 'VBP'), ('I', 'PRP'), ('apply', 'VBP'), ('.', '.')], [('I', 'PRP'), ('do', 'VBP'), (\"n't\", 'RB'), ('know', 'VB'), ('what', 'WP'), ('the', 'DT'), ('private', 'JJ'), ('implications', 'NNS'), ('are', 'VBP'), ('there', 'RB'), ('do', 'VBP'), ('you', 'PRP'), ('.', '.')], [('Hey', 'NNP'), ('I', 'PRP'), (\"'m\", 'VBP'), ('not', 'RB'), ('playing', 'VBG'), ('with', 'IN'), ('that', 'DT'), ('.', '.')], [('Okay', 'VB'), ('what', 'WP'), ('about', 'IN'), ('leave', 'VBP'), ('source', 'NN'), ('name', 'NN'), ('.', '.')], [('Okay', 'NNP'), ('okay', 'NN'), ('.', '.')], [('Hey', 'NNP'), ('can', 'MD'), ('you', 'PRP'), ('know', 'VB'), ('the', 'DT'), ('case', 'NN'), ('for', 'IN'), ('me', 'PRP'), ('.', '.')], [('This', 'DT'), ('is', 'VBZ'), ('with', 'IN'), ('all', 'DT'), ('due', 'JJ'), ('respect', 'NN'), ('you', 'PRP'), (\"'ve\", 'VBP'), ('been', 'VBN'), ('the', 'DT'), ('most', 'RBS'), ('helpful', 'JJ'), ('of', 'IN'), ('the', 'DT'), ('support', 'NN'), ('folks', 'NNS'), ('have', 'VBP'), ('spoken', 'VBN'), ('to', 'TO'), ('there', 'RB'), ('.', '.')], [('I', 'PRP'), (\"'d\", 'MD'), ('love', 'VB'), ('to', 'TO'), ('get', 'VB'), ('back', 'RB'), ('to', 'TO'), ('your', 'PRP$'), ('desk', 'NN'), ('if', 'IN'), ('I', 'PRP'), ('need', 'VBP'), ('help', 'NN'), ('.', '.')], [('Okay', 'NNP'), ('.', '.')], [('Okay', 'NNP'), ('.', '.')], [('Cool', 'NNP'), ('.', '.')], [('No', 'DT'), ('let', 'VB'), ('me', 'PRP'), ('get', 'VB'), ('there', 'RB'), ('.', '.')], [('That', 'DT'), (\"'s\", 'VBZ'), ('temporary', 'JJ'), ('number', 'NN'), ('I', 'PRP'), (\"'m\", 'VBP'), ('gon', 'VBG'), ('na', 'TO'), ('give', 'VB'), ('you', 'PRP'), ('my', 'PRP$'), ('mobile', 'IN'), ('it', 'PRP'), (\"'s\", 'VBZ'), ('three', 'CD'), ('one', 'CD'), ('two', 'CD'), ('eight', 'CD'), ('eight', 'CD'), ('two', 'CD'), ('eight', 'CD'), ('eight', 'CD'), ('two', 'CD'), ('one', 'CD'), ('nine', 'CD'), ('nine', 'CD'), ('zero', 'NN'), ('.', '.')], [('Correct', 'NNP'), ('yeah', 'PRP'), ('Jay', 'NNP'), ('Walsh', 'NNP'), ('J', 'NNP'), ('W', 'NNP'), ('a', 'DT'), ('L', 'NNP'), ('S', 'NNP'), ('H', 'NNP'), ('at', 'IN'), ('North_Side', 'NNP'), ('E', 'NNP'), ('N', 'NNP'), ('O', 'NNP'), ('R', 'NNP'), ('T', 'NNP'), ('H', 'NNP'), ('I', 'PRP'), ('V', 'NNP'), ('Y', 'NNP'), ('.com', 'NNP'), ('.', '.')], [('Thanks', 'NNS'), ('very', 'RB'), ('much', 'RB'), ('.', '.')], [('I', 'PRP'), ('appreciate', 'VBP'), ('your', 'PRP$'), ('help', 'NN'), ('today', 'NN'), ('with', 'IN'), ('all', 'PDT'), ('the', 'DT'), ('way', 'NN'), ('to', 'TO'), ('noted', 'VBN'), ('as', 'IN'), ('a', 'DT'), ('test', 'NN'), ('call', 'NN'), ('somehow', 'NN'), ('.', '.')], [('Okay', 'NNP'), ('.', '.')], [('Any', 'DT'), ('best', 'JJS'), ('practice', 'NN'), ('is', 'VBZ'), ('on', 'IN'), ('the', 'DT'), ('phone', 'NN'), ('labels', 'NNS'), ('that', 'IN'), ('I', 'PRP'), ('should', 'MD'), ('be', 'VB'), ('aware', 'JJ'), ('of', 'IN'), ('or', 'CC'), ('that', 'IN'), ('you', 'PRP'), (\"'ve\", 'VBP'), ('seen', 'VBN'), ('Brett', 'NNP'), ('okay', 'NN'), ('.', '.')], [('Alright', 'NNP'), ('I', 'PRP'), (\"'ll\", 'MD'), ('give', 'VB'), ('it', 'PRP'), ('some', 'DT'), ('thought', 'NN'), ('.', '.')], [('Thanks', 'NNS'), ('very', 'RB'), ('much', 'RB'), ('again', 'RB'), ('appreciate', 'VB'), ('your', 'PRP$'), ('help', 'NN'), ('.', '.')], [('Have', 'VB'), ('a', 'DT'), ('good', 'JJ'), ('afternoon', 'NN'), ('.', '.')], [('Have', 'VB'), ('a', 'DT'), ('good', 'JJ'), ('day', 'NN'), ('bye', 'NN'), ('.', '.')], [('Thank', 'NNP'), ('you', 'PRP'), ('for', 'IN'), ('calling', 'VBG'), ('dialog', 'NN'), ('Tech', 'NNP'), ('this', 'DT'), ('is', 'VBZ'), ('Rob', 'NNP'), ('how', 'WRB'), ('can', 'MD'), ('help', 'VB'), ('you', 'PRP'), ('.', '.')], [('Okay', 'NNP'), ('.', '.')], [('Okay', 'NNP'), ('.', '.')], [('Let', 'VB'), (\"'s\", 'POS'), ('do', 'VB'), ('this', 'DT'), ('can', 'MD'), ('get', 'VB'), ('your', 'PRP$'), ('name', 'NN'), ('.', '.')], [('John', 'NNP'), ('Jeff', 'NNP'), ('I', 'PRP'), ('know', 'VBP'), ('your', 'PRP$'), ('account', 'NN'), ('ID', 'NNP'), ('is', 'VBZ'), ('ever', 'RB'), ('texting', 'VBG'), ('.', '.')], [('Okay', 'NNP'), ('.', '.')], [('Gim', 'NNP'), ('me', 'PRP'), ('just', 'RB'), ('a', 'DT'), ('second', 'JJ'), ('let', 'NN'), ('me', 'PRP'), ('get', 'VB'), ('logged', 'VBN'), ('in', 'IN'), ('real', 'JJ'), ('fast', 'JJ'), ('hi', 'NN'), ('John', 'NNP'), ('so', 'IN'), ('let', 'NN'), (\"'s\", 'POS'), ('do', 'VB'), ('this', 'DT'), ('.', '.')], [('Go', 'NNP'), ('ahead', 'RB'), ('and', 'CC'), ('go', 'VB'), ('to', 'TO'), ('call', 'VB'), ('check', 'NN'), ('and', 'CC'), ('call', 'VB'), ('extension', 'NN'), ('.', '.')], [('Let', 'VB'), ('me', 'PRP'), ('know', 'VB'), ('once', 'RB'), ('you', 'PRP'), (\"'re\", 'VBP'), ('there', 'RB'), ('.', '.')], [('So', 'RB'), ('just', 'RB'), ('grandson', 'NN'), ('.', '.')], [('See', 'VB'), ('that', 'IN'), ('sales', 'NNS'), ('tax', 'NN'), ('automation', 'NN'), ('is', 'VBZ'), ('for', 'IN'), ('calls', 'NNS'), ('I', 'PRP'), ('was', 'VBD'), ('gon', 'VBG'), ('na', 'TO'), ('go', 'VB'), ('and', 'CC'), ('grab', 'VB'), ('that', 'DT'), ('since', 'IN'), ('we', 'PRP'), ('already', 'RB'), ('know', 'VBP'), ('it', 'PRP'), (\"'s\", 'VBZ'), ('getting', 'VBG'), ('calls', 'NNS'), ('.', '.')], [('So', 'RB'), ('let', 'VB'), (\"'s\", 'POS'), ('go', 'VB'), ('ahead', 'RB'), ('and', 'CC'), ('look', 'VB'), ('into', 'IN'), ('it', 'PRP'), ('.', '.')], [('Now', 'RB'), ('you', 'PRP'), ('gon', 'VBP'), ('na', 'TO'), ('see', 'VB'), ('transfer', 'NN'), ('call', 'NN'), ('and', 'CC'), ('you', 'PRP'), (\"'re\", 'VBP'), ('gon', 'VBG'), ('na', 'TO'), ('see', 'VB'), ('an', 'DT'), ('eight', 'CD'), ('hundred', 'VBD'), ('number', 'NN'), ('right', 'NN'), ('.', '.')], [('Go', 'NNP'), ('ahead', 'RB'), ('and', 'CC'), ('click', 'VB'), ('on', 'IN'), ('that', 'DT'), ('transfer', 'NN'), ('call', 'NN'), ('.', '.')], [('It', 'PRP'), ('should', 'MD'), ('bring', 'VB'), ('up', 'RP'), ('an', 'DT'), ('option', 'NN'), ('where', 'WRB'), ('it', 'PRP'), ('says', 'VBZ'), ('your', 'PRP$'), ('phone', 'NN'), ('number', 'NN'), ('will', 'MD'), ('come', 'VB'), ('from', 'IN'), ('area', 'NN'), ('code', 'NN'), ('eight', 'CD'), ('five', 'CD'), ('five', 'CD'), ('.', '.')], [('Yeah', 'NN'), ('perfect', 'NN'), ('go', 'VBP'), ('ahead', 'RB'), ('at', 'IN'), ('the', 'DT'), ('bottom', 'JJ'), ('right', 'NN'), ('hit', 'VBD'), ('next', 'JJ'), ('should', 'MD'), ('bring', 'VB'), ('it', 'PRP'), ('to', 'TO'), ('another', 'DT'), ('the', 'DT'), ('next', 'JJ'), ('page', 'NN'), ('says', 'VBZ'), ('set', 'VBN'), ('up', 'RP'), ('at', 'IN'), ('the', 'DT'), ('top', 'JJ'), ('left', 'NN'), ('so', 'RB'), ('you', 'PRP'), (\"'ll\", 'MD'), ('see', 'VB'), ('a', 'DT'), ('show', 'NN'), ('advance', 'NN'), ('options', 'NNS'), ('a', 'DT'), ('little', 'JJ'), ('bit', 'NN'), ('below', 'IN'), ('that', 'DT'), ('.', '.')], [('Go', 'NNP'), ('ahead', 'RB'), ('and', 'CC'), ('click', 'VB'), ('on', 'IN'), ('show', 'NN'), ('now', 'RB'), ('.', '.')], [('Once', 'RB'), ('you', 'PRP'), (\"'ve\", 'VBP'), ('done', 'VBN'), ('that', 'IN'), ('you', 'PRP'), (\"'ll\", 'MD'), ('see', 'VB'), ('a', 'DT'), ('reverse', 'NN'), ('look', 'NN'), ('up', 'RP'), ('always', 'RB'), ('putting', 'VBG'), ('for', 'IN'), ('caller', 'NN'), ('record', 'NN'), ('Paul', 'NNP'), ('and', 'CC'), ('Paul', 'NNP'), ('Mable', 'NNP'), ('.', '.')], [('Right', 'RB'), ('now', 'RB'), ('you', 'PRP'), ('only', 'RB'), ('will', 'MD'), ('set', 'VB'), ('now', 'RB'), ('go', 'VBP'), ('ahead', 'RB'), ('and', 'CC'), ('change', 'VB'), ('it', 'PRP'), ('to', 'TO'), ('you', 'PRP'), ('it', 'PRP'), ('except', 'IN'), ('and', 'CC'), ('then', 'RB'), ('determine', 'VB'), ('what', 'WP'), ('you', 'PRP'), ('want', 'VBP'), ('your', 'PRP$'), ('phone', 'NN'), ('able', 'JJ'), ('to', 'TO'), ('show', 'VB'), ('up', 'RP'), ('as', 'IN'), ('for', 'IN'), ('that', 'DT'), ('.', '.')], [('So', 'RB'), ('you', 'PRP'), ('might', 'MD'), ('wan', 'VB'), ('na', 'JJ'), ('put', 'VB'), ('sales', 'NNS'), ('tax', 'NN'), ('automation', 'NN'), ('call', 'NN'), ('extensions', 'NNS'), ('or', 'CC'), ('something', 'NN'), ('like', 'IN'), ('that', 'DT'), ('.', '.')], [('Then', 'RB'), ('once', 'RB'), ('yeah', 'JJ'), ('once', 'RB'), ('once', 'IN'), ('you', 'PRP'), ('could', 'MD'), ('call', 'VB'), ('me', 'PRP'), ('we', 'PRP'), (\"'ll\", 'MD'), ('go', 'VB'), ('ahead', 'RB'), ('and', 'CC'), ('ask', 'VB'), ('all', 'PDT'), ('the', 'DT'), ('way', 'NN'), ('through', 'IN'), ('.', '.')], [('Save', 'VB'), ('it', 'PRP'), ('and', 'CC'), ('then', 'RB'), ('do', 'VB'), ('it', 'PRP'), ('for', 'IN'), ('the', 'DT'), ('rest', 'NN'), ('of', 'IN'), ('them', 'PRP'), ('.', '.')], [('You', 'PRP'), ('should', 'MD'), ('be', 'VB'), ('golden', 'JJ'), ('going', 'VBG'), ('forward', 'RB'), ('.', '.')], [('It', 'PRP'), ('is', 'VBZ'), ('kind', 'NN'), ('of', 'IN'), ('like', 'IN'), ('a', 'DT'), ('tricky', 'JJ'), ('thing', 'NN'), ('not', 'RB'), ('to', 'TO'), ('many', 'JJ'), ('people', 'NNS'), ('see', 'VBP'), ('it', 'PRP'), ('but', 'CC'), ('I', 'PRP'), ('agree', 'VBP'), ('like', 'IN'), ('it', 'PRP'), ('.', '.')], [('It', 'PRP'), ('is', 'VBZ'), ('a', 'DT'), ('little', 'JJ'), ('head', 'NN'), ('and', 'CC'), ('unfortunately', 'RB'), ('I', 'PRP'), ('need', 'VBP'), ('any', 'DT'), ('other', 'JJ'), ('questions', 'NNS'), ('about', 'IN'), ('only', 'RB'), ('if', 'IN'), ('you', 'PRP'), ('wan', 'VBP'), ('na', 'JJ'), ('record', 'NN'), ('your', 'PRP$'), ('call', 'NN'), ('if', 'IN'), ('you', 'PRP'), ('do', 'VBP'), ('then', 'RB'), ('go', 'VB'), ('ahead', 'RB'), ('and', 'CC'), ('let', 'VB'), (\"'s\", 'POS'), ('let', 'VB'), (\"'s\", 'POS'), ('add', 'VB'), ('recorded', 'VBN'), ('call', 'NN'), ('but', 'CC'), ('it', 'PRP'), ('really', 'RB'), ('just', 'RB'), ('depends', 'VBZ'), ('on', 'IN'), ('your', 'PRP$'), ('instance', 'NN'), ('like', 'IN'), ('you', 'PRP'), ('wan', 'VBP'), ('na', 'TO'), ('record', 'VB'), ('the', 'DT'), ('whole', 'JJ'), ('call', 'NN'), ('you', 'PRP'), ('only', 'RB'), ('want', 'VBP'), ('like', 'IN'), ('half', 'PDT'), ('a', 'DT'), ('call', 'NN'), ('once', 'IN'), ('it', 'PRP'), (\"'s\", 'VBZ'), ('been', 'VBN'), ('transferred', 'VBD'), ('it', 'PRP'), (\"'s\", 'VBZ'), ('different', 'JJ'), ('for', 'IN'), ('her', 'PRP$'), ('state', 'NN'), ('so', 'IN'), ('you', 'PRP'), ('have_to', 'VBP'), ('look', 'VB'), ('into', 'IN'), ('those', 'DT'), ('laws', 'NNS'), ('for', 'IN'), ('that', 'DT'), ('.', '.')], [('No', 'DT'), ('worries', 'NNS'), ('see', 'VBP'), ('your', 'PRP$'), ('your', 'PRP$'), ('set', 'NN'), ('.', '.')], [('You', 'PRP'), ('wan', 'VBP'), ('na', 'JJ'), ('keep', 'VB'), ('the', 'DT'), ('only', 'JJ'), ('will', 'MD'), ('I', 'PRP'), ('think', 'VB'), ('you', 'PRP'), ('should', 'MD'), ('be', 'VB'), ('good', 'JJ'), ('there', 'RB'), ('.', '.')], [('The', 'DT'), ('only', 'JJ'), ('thing', 'NN'), ('I', 'PRP'), ('do', 'VBP'), (\"n't\", 'RB'), ('think', 'VB'), ('you', 'PRP'), ('have', 'VBP'), ('lead', 'VBN'), ('flow', 'JJ'), ('side', 'NN'), ('up', 'RB'), ('.', '.')], [('I', 'PRP'), (\"'m\", 'VBP'), ('gon', 'VBG'), ('na', 'TO'), ('go', 'VB'), ('and', 'CC'), ('confirm', 'VB'), ('but', 'CC'), ('if', 'IN'), ('you', 'PRP'), ('do', 'VBP'), (\"n't\", 'RB'), ('then', 'RB'), ('do', 'VBP'), (\"n't\", 'RB'), ('even', 'RB'), ('worry', 'VB'), ('about', 'IN'), ('it', 'PRP'), ('.', '.')], [('Yeah', 'NN'), ('you', 'PRP'), ('do', 'VBP'), (\"n't\", 'RB'), ('have', 'VB'), ('anything', 'NN'), ('so', 'IN'), ('you', 'PRP'), (\"'re\", 'VBP'), ('good', 'JJ'), ('.', '.')], [('Yeah', 'UH'), ('definitely', 'RB'), ('.', '.')], [('So', 'IN'), ('what', 'WP'), ('I', 'PRP'), (\"'m\", 'VBP'), ('gon', 'VBG'), ('na', 'TO'), ('do', 'VB'), ('John', 'NNP'), ('I', 'PRP'), (\"'m\", 'VBP'), ('gon', 'VBG'), ('na', 'TO'), ('create', 'VB'), ('the', 'DT'), ('case', 'NN'), ('now', 'RB'), ('.', '.')], [('I', 'PRP'), (\"'ll\", 'MD'), ('go', 'VB'), ('ahead', 'RB'), ('and', 'CC'), ('shoot', 'VB'), ('an', 'DT'), ('e-mail', 'NN'), ('to', 'TO'), ('you', 'PRP'), ('just', 'RB'), ('stating', 'VBG'), ('we', 'PRP'), ('what', 'WP'), ('we', 'PRP'), ('went', 'VBD'), ('over', 'IN'), ('real', 'JJ'), ('fast', 'NN'), ('.', '.')], [('I', 'PRP'), (\"'ll\", 'MD'), ('close', 'VB'), ('it', 'PRP'), ('out', 'RP'), ('.', '.')], [('But', 'CC'), ('if', 'IN'), ('you', 'PRP'), ('need', 'VBP'), ('to', 'TO'), ('re', 'VB'), ('open', 'JJ'), ('it', 'PRP'), ('for', 'IN'), ('any', 'DT'), ('incident', 'JJ'), ('regarding', 'NN'), ('this', 'DT'), ('.', '.')], [('Go', 'NNP'), ('ahead', 'RB'), ('and', 'CC'), ('just', 'RB'), ('e-mail', 'NN'), ('that', 'IN'), ('back', 'RB'), ('or', 'CC'), ('just', 'RB'), ('shoot', 'VB'), ('an', 'DT'), ('e-mail', 'NN'), ('over', 'IN'), ('to', 'TO'), ('us', 'PRP'), ('and', 'CC'), ('say', 'VBP'), ('like', 'IN'), ('attention', 'NN'), ('Rob', 'NNP'), ('or', 'CC'), ('something', 'NN'), ('like', 'IN'), ('that', 'DT'), ('and', 'CC'), ('it', 'PRP'), (\"'ll\", 'MD'), ('come', 'VB'), ('to', 'TO'), ('me', 'PRP'), ('quickly', 'RB'), ('but', 'CC'), ('John', 'NNP'), ('I', 'PRP'), (\"'m\", 'VBP'), ('looking', 'VBG'), ('at', 'IN'), ('your', 'PRP$'), ('contact', 'NN'), ('information', 'NN'), ('and', 'CC'), ('I', 'PRP'), ('see', 'VBP'), ('the', 'DT'), ('phone', 'NN'), ('number', 'NN'), ('is', 'VBZ'), ('six', 'CD'), ('three', 'CD'), ('one', 'CD'), ('five', 'CD'), ('two', 'CD'), ('seven', 'CD'), ('fifty', 'NNS'), ('four', 'CD'), ('nineteen', 'NN'), ('.', '.')], [('Still', 'RB'), ('good', 'JJ'), ('number', 'NN'), ('for', 'IN'), ('you', 'PRP'), ('.', '.')], [('Two', 'CD'), ('one', 'CD'), ('two', 'CD'), ('eight', 'CD'), ('eight', 'CD'), ('one', 'CD'), ('nine', 'CD'), ('nine', 'CD'), ('zero', 'NN'), ('.', '.')], [('Alright', 'NNP'), ('Leslie', 'NNP'), ('I', 'PRP'), ('just', 'RB'), ('need', 'VB'), ('an', 'DT'), ('e-mail', 'NN'), ('for', 'IN'), ('you', 'PRP'), ('.', '.')], [('You', 'PRP'), ('have', 'VBP'), ('one', 'CD'), ('.', '.')], [('Alright', 'NNP'), ('.', '.')], [('I', 'PRP'), (\"'m\", 'VBP'), ('gon', 'VBG'), ('na', 'TO'), ('go', 'VB'), ('and', 'CC'), ('save', 'VB'), ('this', 'DT'), ('I', 'PRP'), (\"'ll\", 'MD'), ('create', 'VB'), ('the', 'DT'), ('case', 'NN'), ('.', '.')], [('Shoot', 'NNP'), ('you', 'PRP'), ('an', 'DT'), ('e-mail', 'JJ'), ('and', 'CC'), ('then', 'RB'), ('I', 'PRP'), (\"'m\", 'VBP'), ('gon', 'VBG'), ('na', 'TO'), ('note', 'VB'), ('that', 'IN'), ('I', 'PRP'), (\"'m\", 'VBP'), ('gon', 'VBG'), ('na', 'TO'), ('close', 'VB'), ('it', 'PRP'), ('out', 'RP'), ('okay', 'RB'), ('.', '.')], [('Alright', 'NNP'), ('no', 'DT'), ('worries', 'NNS'), ('John', 'NNP'), ('again', 'RB'), ('if', 'IN'), ('anything', 'NN'), ('else', 'RB'), ('that', 'DT'), (\"'s\", 'VBZ'), ('it', 'PRP'), ('.', '.')], [('Yeah', 'UH'), ('but', 'CC'), ('there', 'EX'), ('is', 'VBZ'), ('not', 'RB'), ('a', 'DT'), ('way', 'NN'), ('to', 'TO'), ('notarize', 'VB'), ('a', 'DT'), ('test', 'NN'), ('call', 'NN'), ('.', '.')], [('So', 'IN'), ('it', 'PRP'), ('would', 'MD'), ('come', 'VB'), ('through', 'IN'), ('as', 'RB'), ('a', 'DT'), ('as', 'IN'), ('a', 'DT'), ('live', 'JJ'), ('call', 'NN'), ('.', '.')], [('There', 'EX'), (\"'s\", 'VBZ'), ('nothing', 'NN'), ('in', 'IN'), ('particular', 'JJ'), ('I', 'PRP'), (\"'ve\", 'VBP'), ('seen', 'VBN'), ('I', 'PRP'), ('mean', 'VBP'), ('all', 'PDT'), ('these', 'DT'), ('are', 'VBP'), ('naming', 'VBG'), ('conventions', 'NNS'), ('of', 'IN'), ('the', 'DT'), ('client', 'NN'), ('uses', 'VBZ'), ('so', 'IN'), ('it', 'PRP'), (\"'s\", 'VBZ'), ('up', 'RP'), ('to', 'TO'), ('them', 'PRP'), ('what', 'WP'), ('they', 'PRP'), ('really', 'RB'), ('want', 'VBP'), ('decide', 'NN'), ('for', 'IN'), ('your', 'PRP$'), ('best', 'JJS'), ('case', 'NN'), ('I', 'PRP'), ('mean', 'VBP'), ('if', 'IN'), ('you', 'PRP'), (\"'re\", 'VBP'), ('using', 'VBG'), ('sales', 'NNS'), ('tax', 'NN'), ('automation', 'NN'), ('and', 'CC'), ('you', 'PRP'), ('have', 'VBP'), ('another', 'DT'), ('number', 'NN'), ('associated', 'VBN'), ('to', 'TO'), ('the', 'DT'), ('sales', 'NNS'), ('tax', 'NN'), ('automation', 'NN'), ('.', '.')], [('Then', 'RB'), ('you', 'PRP'), ('might', 'MD'), ('wan', 'VB'), ('na', 'RB'), ('break', 'VB'), ('it', 'PRP'), ('up', 'RP'), ('and', 'CC'), ('the', 'DT'), ('call', 'NN'), ('extension', 'NN'), ('but', 'CC'), ('if', 'IN'), ('you', 'PRP'), ('know', 'VBP'), ('that', 'IN'), ('this', 'DT'), ('is', 'VBZ'), ('the', 'DT'), ('only', 'JJ'), ('number', 'NN'), ('tied', 'VBN'), ('to', 'TO'), ('this', 'DT'), ('.', '.')], [('Just', 'RB'), ('ahead', 'RB'), ('label', 'VBP'), ('the', 'DT'), ('sales', 'NNS'), ('tax', 'NN'), ('automation', 'NN'), ('.', '.')], [('Alright', 'NNP'), ('no', 'DT'), ('worries', 'NNS'), ('.', '.')], [('Take', 'NNP'), ('care', 'NN'), ('and', 'CC'), ('have', 'VB'), ('a', 'DT'), ('good', 'JJ'), ('one', 'CD'), ('.', '.')], [('Bye', 'NNP'), ('.', '.')], [('The', 'DT'), ('Simon', 'NNP'), ('Group', 'NNP'), ('.', '.')], [('I', 'PRP'), ('was', 'VBD'), ('calling', 'VBG'), ('.', '.')], [('Oh', 'UH'), ('hi', 'NN'), ('.', '.')], [('Actually', 'RB'), ('he', 'PRP'), ('is', 'VBZ'), ('.', '.')], [('I', 'PRP'), ('just', 'RB'), ('looked', 'VBD'), ('at', 'IN'), ('the', 'DT'), ('phone', 'NN'), ('her', 'PRP$'), ('he', 'PRP'), (\"'s\", 'VBZ'), ('on', 'IN'), ('the', 'DT'), ('other', 'JJ'), ('line', 'NN'), ('because', 'IN'), ('I', 'PRP'), ('took', 'VBD'), ('a', 'DT'), ('message', 'NN'), ('or', 'CC'), ('help', 'VB'), ('you', 'PRP'), ('with', 'IN'), ('something', 'NN'), ('.', '.')], [('Okay', 'NNP'), ('.', '.')], [('Great', 'NNP'), ('.', '.')], [('Thank', 'NNP'), ('you', 'PRP'), ('.', '.')], [('Bye', 'NNP'), ('.', '.')], [('Hi', 'NNP'), ('there', 'EX'), ('looking', 'VBG'), ('for', 'IN'), ('David', 'NNP'), ('.', '.')], [('Yeah', 'IN'), ('it', 'PRP'), (\"'s\", 'VBZ'), ('tomorrow', 'NN'), ('it', 'PRP'), (\"'s\", 'VBZ'), ('dialog', 'JJ'), ('Tech', 'NNP'), ('.', '.')], [('Yeah', 'NN'), ('I', 'PRP'), ('have', 'VBP'), ('his', 'PRP$'), ('e-mail', 'NN'), ('so', 'IN'), ('I', 'PRP'), ('can', 'MD'), ('just', 'RB'), ('go', 'VB'), ('ahead', 'RB'), ('and', 'CC'), ('e-mail', 'JJ'), ('.', '.')], [('Alright', 'NNP'), ('awesome', 'NN'), ('.', '.')], [('Thank', 'NNP'), ('you', 'PRP'), ('.', '.')], [('Hey', 'NNP'), ('Kelly', 'NNP'), ('.', '.')], [('I', 'PRP'), ('have', 'VBP'), ('an', 'DT'), ('invitation', 'NN'), ('with', 'IN'), ('you', 'PRP'), ('guys', 'VBP'), ('and', 'CC'), ('I', 'PRP'), (\"'m\", 'VBP'), ('specifically', 'RB'), ('checking', 'VBG'), ('call', 'NN'), ('extensions', 'NNS'), ('.', '.')], [('My', 'PRP$'), ('Edwards', 'NNS'), ('.', '.')], [('I', 'PRP'), (\"'m\", 'VBP'), ('not', 'RB'), ('getting', 'VBG'), ('data', 'NNS'), ('.', '.')], [('Where', 'WRB'), ('do', 'VBP'), ('I', 'PRP'), ('find', 'VB'), ('that', 'DT'), ('.', '.')], [('I', 'PRP'), ('am', 'VBP'), ('the', 'DT'), ('account', 'NN'), ('ID', 'NNP'), ('three', 'CD'), ('seven', 'CD'), ('three', 'CD'), ('two', 'CD'), ('six', 'CD'), ('five', 'CD'), ('.', '.')], [('Okay', 'NNP'), ('John', 'NNP'), ('Mall', 'NNP'), ('.', '.')], [('If', 'IN'), ('I', 'PRP'), ('need', 'VBP'), ('to', 'TO'), ('be', 'VB'), ('done', 'VBN'), ('with', 'IN'), ('you', 'PRP'), ('make', 'VBP'), ('your', 'PRP$'), ('fine', 'NN'), ('.', '.')], [('You', 'PRP'), ('can', 'MD'), ('do', 'VB'), (\"n't\", 'RB'), ('worry', 'VB'), ('about', 'IN'), ('the', 'DT'), ('noise', 'NN'), ('.', '.')], [('Probably', 'RB'), ('about', 'IN'), ('I', 'PRP'), ('do', 'VBP'), (\"n't\", 'RB'), ('know', 'VB'), ('ten', 'JJ'), ('days', 'NNS'), ('ago', 'RB'), ('maybe', 'RB'), ('just', 'RB'), ('a', 'DT'), ('quick', 'JJ'), ('to', 'TO'), ('call', 'VB'), ('hi', 'NN'), ('do', 'VBP'), ('call', 'VB'), ('extension', 'NN'), ('you', 'PRP'), ('can', 'MD'), ('see', 'VB'), ('a', 'DT'), ('couple', 'NN'), ('of', 'IN'), ('my', 'PRP$'), ('accounts', 'NNS'), ('are', 'VBP'), ('enabled', 'VBN'), ('on', 'IN'), ('it', 'PRP'), ('but', 'CC'), ('it', 'PRP'), (\"'s\", 'VBZ'), ('not', 'RB'), ('showing', 'VBG'), ('any', 'DT'), ('data', 'NN'), ('in', 'IN'), ('yet', 'RB'), ('.', '.')], [('Hey', 'NNP'), ('I', 'PRP'), ('wan', 'VBP'), ('na', 'RB'), ('do', 'VBP'), ('anything', 'NN'), ('else', 'RB'), ('to', 'TO'), ('but', 'CC'), ('I', 'PRP'), ('was', 'VBD'), ('I', 'PRP'), ('wan', 'VBP'), ('na', 'JJ'), ('make', 'VBP'), ('sure', 'JJ'), ('it', 'PRP'), ('works', 'VBZ'), ('.', '.')], [('Okay', 'NNP'), ('.', '.')], [('I', 'PRP'), ('do', 'VBP'), (\"n't\", 'RB'), ('understand', 'VB'), ('what', 'WP'), ('that', 'DT'), ('means', 'VBZ'), ('.', '.')], [('What', 'WP'), ('be', 'VB'), ('a', 'DT'), ('recommendation', 'NN'), ('there', 'RB'), ('.', '.')], [('Do', 'VB'), ('do', 'VB'), ('searches', 'NNS'), ('in', 'IN'), ('Google', 'NNP'), ('it', 'PRP'), ('add', 'VBZ'), ('in', 'IN'), ('Google', 'NNP'), ('but', 'CC'), ('itself', 'PRP'), ('yeah', 'VBP'), ('it', 'PRP'), (\"'s\", 'VBZ'), ('just', 'RB'), ('lesson', 'VBN'), ('with', 'IN'), ('Edward', 'NNP'), ('today', 'NN'), ('at', 'IN'), ('ten', 'JJ'), ('ways', 'NNS'), ('that', 'IN'), ('you', 'PRP'), ('guys', 'VBP'), ('received', 'VBN'), ('just', 'RB'), ('that', 'DT'), ('.', '.')], [('Okay', 'NNP'), ('.', '.')], [('Got', 'NNP'), ('it', 'PRP'), ('.', '.')], [('Okay', 'NNP'), ('.', '.')], [('I', 'PRP'), ('did', 'VBD'), (\"n't\", 'RB'), ('know', 'VB'), ('I', 'PRP'), ('had', 'VBD'), ('them', 'PRP'), ('but', 'CC'), ('that', 'DT'), (\"'s\", 'VBZ'), ('okay', 'NN'), ('.', '.')], [('I', 'PRP'), (\"'m\", 'VBP'), ('not', 'RB'), ('I', 'PRP'), (\"'m\", 'VBP'), ('looking', 'VBG'), ('at', 'IN'), ('state', 'NN'), ('sales', 'NNS'), ('tax', 'NN'), ('general', 'JJ'), ('one', 'CD'), ('you', 'PRP'), ('have', 'VBP'), (\"n't\", 'RB'), ('yet', 'RB'), ('gone', 'VBN'), ('to', 'TO'), ('manually', 'RB'), ('think', 'VB'), ('how', 'WRB'), ('do', 'VB'), ('I', 'PRP'), ('manually', 'RB'), ('send', 'VB'), ('them', 'PRP'), ('out', 'RP'), ('today', 'NN'), ('at', 'IN'), ('ten', 'JJ'), ('oh', 'JJ'), ('nine', 'CD'), ('so', 'IN'), ('you', 'PRP'), ('manually', 'RB'), ('sync', 'VB'), ('them', 'PRP'), ('all', 'DT'), ('at', 'IN'), ('this', 'DT'), ('point', 'NN'), ('.', '.')], [('Hello', 'NNP'), ('and', 'CC'), ('they', 'PRP'), ('were', 'VBD'), ('all', 'DT'), ('in', 'IN'), ('that', 'DT'), ('state', 'NN'), ('in', 'IN'), ('the', 'DT'), ('jeep', 'NN'), ('and', 'CC'), ('you', 'PRP'), ('had', 'VBD'), ('can', 'MD'), ('figure', 'VB'), ('it', 'PRP'), ('and', 'CC'), ('because', 'RB'), ('right', 'RB'), ('now', 'RB'), ('I', 'PRP'), ('just', 'RB'), ('see', 'VB'), ('on', 'IN'), ('can', 'MD'), ('figure', 'VB'), ('is', 'VBZ'), ('my', 'PRP$'), ('only', 'JJ'), ('option', 'NN'), ('on', 'IN'), ('this', 'DT'), ('page', 'NN'), ('basically', 'RB'), ('or', 'CC'), ('added', 'VBD'), ('all', 'DT'), ('add', 'JJ'), ('groups', 'NNS'), ('.', '.')], [('Okay', 'NNP'), ('.', '.')], [('That', 'DT'), (\"'s\", 'VBZ'), ('kinda', 'JJ'), ('weird', 'NN'), ('is', 'VBZ'), (\"n't\", 'RB'), ('it', 'PRP'), ('.', '.')], [('Hey', 'NNP'), ('because', 'IN'), ('I', 'PRP'), ('see', 'VBP'), ('when', 'WRB'), ('it', 'PRP'), ('does', 'VBZ'), ('me', 'PRP'), ('successfully', 'RB'), ('integrated', 'JJ'), ('every', 'DT'), ('time', 'NN'), ('I', 'PRP'), ('speak', 'VBP'), ('to', 'TO'), ('a', 'DT'), ('new', 'JJ'), ('campaign', 'NN'), ('rights', 'NNS'), ('I', 'PRP'), ('would', 'MD'), (\"n't\", 'RB'), ('expect', 'VB'), ('that', 'IN'), ('I', 'PRP'), ('would', 'MD'), ('have_to', 'VB'), ('go', 'VB'), ('just', 'RB'), ('manually', 'RB'), ('.', '.')], [('Okay', 'NNP'), ('.', '.')], [('Okay', 'NNP'), ('alright', 'VBD'), ('I', 'PRP'), (\"'m\", 'VBP'), ('about', 'IN'), ('to', 'TO'), ('light', 'VB'), ('up', 'RP'), ('a', 'DT'), ('time', 'NN'), ('but', 'CC'), ('I', 'PRP'), ('did', 'VBD'), (\"n't\", 'RB'), ('wan', 'VB'), ('na', 'RB'), ('do', 'VBP'), ('that', 'IN'), ('until', 'IN'), ('I', 'PRP'), ('see', 'VBP'), ('you', 'PRP'), ('staying', 'VBG'), ('for', 'IN'), ('every', 'DT'), ('new', 'JJ'), ('one', 'CD'), ('.', '.')], [('Once', 'RB'), ('I', 'PRP'), ('get', 'VBP'), ('into', 'IN'), ('the', 'DT'), ('main', 'JJ'), ('interface', 'NN'), ('I', 'PRP'), ('have_to', 'VBP'), ('click', 'JJ'), ('into', 'IN'), ('the', 'DT'), ('campaign', 'NN'), ('interface', 'NN'), ('itself', 'PRP'), ('and', 'CC'), ('I', 'PRP'), ('do', 'VBP'), (\"n't\", 'RB'), ('force', 'VB'), ('it', 'PRP'), ('to', 'TO'), ('sync', 'VB'), ('.', '.')], [('Okay', 'NNP'), ('.', '.')], [('That', 'DT'), (\"'s\", 'VBZ'), ('good', 'JJ'), ('information', 'NN'), ('down', 'RP'), ('.', '.')], [('How', 'WRB'), ('about', 'IN'), ('being', 'VBG'), ('and', 'CC'), ('how', 'WRB'), ('do', 'VBP'), ('we', 'PRP'), ('think', 'VB'), ('with', 'IN'), ('being', 'VBG'), ('ads', 'NNS'), ('.', '.')], [('Just', 'RB'), ('I', 'PRP'), (\"'m\", 'VBP'), ('not', 'RB'), ('seeing', 'VBG'), ('it', 'PRP'), ('being', 'VBG'), ('off', 'RP'), ('often', 'RB'), ('call', 'JJ'), ('conversion', 'NN'), ('fax', 'NN'), ('source', 'NN'), ('tracking', 'VBG'), ('configuration', 'NN'), ('tagging', 'NN'), ('.', '.')], [('Is', 'VBZ'), ('that', 'IN'), ('what', 'WP'), ('it', 'PRP'), ('is', 'VBZ'), ('source', 'NN'), ('track', 'NN'), ('.', '.')], [('It', 'PRP'), ('it', 'PRP'), (\"'s\", 'VBZ'), ('okay', 'NN'), ('.', '.')], [('Okay', 'NNP'), ('.', '.')], [('I', 'PRP'), ('do', 'VBP'), (\"n't\", 'RB'), ('know', 'VB'), ('if', 'IN'), ('my', 'PRP$'), ('being', 'VBG'), ('ads', 'NNS'), ('is', 'VBZ'), ('set', 'VBN'), ('to', 'TO'), ('append', 'VB'), ('with', 'IN'), ('this', 'DT'), ('Microsoft', 'NNP'), ('quick', 'JJ'), ('idea', 'NN'), ('I', 'PRP'), ('presume', 'VBP'), ('it', 'PRP'), ('is', 'VBZ'), ('that', 'IN'), ('means', 'VBZ'), ('auto', 'NN'), ('tagging', 'VBG'), ('and', 'CC'), ('what', 'WP'), ('had', 'VBD'), ('I', 'PRP'), ('know', 'VBP'), ('that', 'IN'), ('you', 'PRP'), ('using', 'VBG'), ('source', 'NN'), ('track', 'NN'), ('.', '.')], [('It', 'PRP'), (\"'s\", 'VBZ'), ('check', 'VB'), ('your', 'PRP$'), ('product', 'NN'), ('there', 'EX'), (\"'s\", 'VBZ'), ('out_of', 'JJR'), ('be', 'VB'), ('it', 'PRP'), (\"'s\", 'VBZ'), ('product', 'NN'), ('okay', 'NN'), ('.', '.')], [('So', 'RB'), ('okay', 'RB'), ('.', '.')], [('And', 'CC'), ('I', 'PRP'), ('have_to', 'VBP'), ('configure', 'JJ'), ('goals', 'NNS'), ('and', 'CC'), ('so', 'RB'), ('I', 'PRP'), ('see', 'VBP'), ('you', 'PRP'), ('to', 'TO'), ('tell', 'VB'), ('me', 'PRP'), ('to', 'TO'), ('configure', 'VB'), ('phone', 'NN'), ('call', 'NN'), ('goes', 'VBZ'), ('inside', 'IN'), ('being', 'VBG'), ('.', '.')], [('Okay', 'NNP'), ('.', '.')], [('Step', 'VB'), ('four', 'CD'), ('needs', 'NNS'), ('to', 'TO'), ('have', 'VB'), ('that', 'DT'), ('conversion', 'NN'), ('in', 'IN'), ('dialog', 'NN'), ('Tech', 'NNP'), ('with', 'IN'), ('the', 'DT'), ('D', 'NNP'), ('and', 'CC'), ('T', 'NNP'), ('so', 'IN'), ('you', 'PRP'), ('tell', 'VBP'), ('me', 'PRP'), ('.', '.')], [('Okay', 'NNP'), ('.', '.')], [('This', 'DT'), ('is', 'VBZ'), ('all', 'DT'), ('done', 'VBN'), ('automatically', 'RB'), ('inside', 'JJ'), ('Google', 'NNP'), ('ad', 'NN'), ('words', 'NNS'), ('craft', 'NN'), ('will', 'MD'), ('once', 'RB'), ('I', 'PRP'), ('have', 'VBP'), ('a', 'DT'), ('collect', 'NN'), ('call', 'NN'), ('actions', 'NNS'), ('on', 'IN'), ('or', 'CC'), ('my', 'PRP$'), ('supposed', 'VBN'), ('to', 'TO'), ('have', 'VB'), ('done', 'VBN'), ('this', 'DT'), ('for', 'IN'), ('for', 'IN'), ('Edwards', 'NNP'), ('as', 'RB'), ('well', 'RB'), ('.', '.')], [('If', 'IN'), ('I', 'PRP'), ('have', 'VBP'), ('put', 'VBN'), ('to', 'TO'), ('call', 'VB'), ('unable', 'JJ'), ('non-', 'NN'), ('on', 'IN'), ('the', 'DT'), ('campaign', 'NN'), ('and', 'CC'), ('I', 'PRP'), ('integrate', 'VBP'), ('you', 'PRP'), ('guys', 'VBP'), ('it', 'PRP'), ('it', 'PRP'), ('automatically', 'RB'), ('falls', 'VBZ'), ('or', 'CC'), ('drive', 'NN'), ('to', 'TO'), ('go', 'VB'), ('through', 'IN'), ('this', 'DT'), ('whole', 'JJ'), ('process', 'NN'), ('and', 'CC'), ('good', 'JJ'), ('letters', 'NNS'), ('because', 'IN'), ('I', 'PRP'), ('did', 'VBD'), ('not', 'RB'), ('I', 'PRP'), ('believe', 'VBP'), ('so', 'RB'), ('how', 'WRB'), ('do', 'VBP'), ('we', 'PRP'), ('confirm', 'VB'), ('that', 'IN'), ('that', 'DT'), ('data', 'NN'), ('analytics', 'NNS'), ('accountant', 'VBP'), ('to', 'TO'), ('you', 'PRP'), ('later', 'RB'), ('.', '.')], [('Yeah', 'UH'), ('.', '.')], [('Yeah', 'UH'), ('okay', 'MD'), ('see', 'VB'), ('you', 'PRP'), ('.', '.')], [('Bye', 'IN'), ('it', 'PRP'), (\"'s\", 'VBZ'), ('not', 'RB'), ('on', 'IN'), ('so', 'IN'), ('maybe', 'RB'), ('you', 'PRP'), ('were', 'VBD'), ('looking', 'VBG'), ('at', 'IN'), ('.', '.')], [('Yeah', 'UH'), ('that', 'DT'), (\"'s\", 'VBZ'), ('it', 'PRP'), ('okay', 'VBZ'), ('.', '.')], [('So', 'RB'), ('this', 'DT'), ('is', 'VBZ'), ('so', 'RB'), ('you', 'PRP'), (\"'re\", 'VBP'), ('saying', 'VBG'), ('if', 'IN'), ('I', 'PRP'), ('have', 'VBP'), ('the', 'DT'), ('analytics', 'NNS'), ('account', 'VBP'), ('configured', 'JJ'), ('inside', 'IN'), ('dialog', 'NN'), ('tack', 'NN'), ('and', 'CC'), ('I', 'PRP'), ('have', 'VBP'), ('a', 'DT'), ('quick', 'NN'), ('to', 'TO'), ('call', 'VB'), ('on', 'IN'), ('the', 'DT'), ('campaigns', 'JJ'), ('themselves', 'PRP'), ('as', 'RB'), ('long', 'RB'), ('as', 'IN'), ('I', 'PRP'), ('like', 'VBP'), ('texting', 'VBG'), ('in', 'IN'), ('the', 'DT'), ('campaigns', 'NNS'), ('and', 'CC'), ('have', 'VBP'), ('been', 'VBN'), ('manually', 'RB'), ('forced', 'VBN'), ('to', 'TO'), ('sink', 'VB'), ('.', '.')], [('We', 'PRP'), ('should', 'MD'), ('be', 'VB'), ('in', 'IN'), ('play', 'NN'), ('.', '.')], [('So', 'RB'), ('I', 'PRP'), ('should', 'MD'), ('start', 'VB'), ('to', 'TO'), ('see', 'VB'), ('Cook', 'NNP'), ('to', 'TO'), ('call', 'VB'), ('reporting', 'NN'), ('to', 'TO'), ('all', 'PDT'), ('the', 'DT'), ('analytics', 'NNS'), ('activity', 'NN'), ('that', 'IN'), ('showing', 'VBG'), ('is', 'VBZ'), ('PPC', 'NNP'), ('mean', 'JJ'), ('someone', 'NN'), ('came', 'VBD'), ('to', 'TO'), ('the', 'DT'), ('site', 'NN'), ('from', 'IN'), ('PPC', 'NNP'), ('and', 'CC'), ('then', 'RB'), ('dial', 'VB'), ('the', 'DT'), ('number', 'NN'), ('that', 'WDT'), ('appeared', 'VBD'), ('on', 'IN'), ('the', 'DT'), ('site', 'NN'), ('none', 'NN'), ('of', 'IN'), ('that', 'DT'), (\"'s\", 'VBZ'), ('quick', 'JJ'), ('to', 'TO'), ('call', 'VB'), ('yet', 'RB'), ('okay', 'IN'), ('it', 'PRP'), ('would', 'MD'), ('differentiate', 'VB'), ('it', 'PRP'), ('.', '.')], [('Okay', 'NNP'), ('.', '.')], [('Got', 'NNP'), ('it', 'PRP'), ('.', '.')], [('Okay', 'NNP'), ('.', '.')], [('You', 'PRP'), (\"'re\", 'VBP'), ('hi', 'JJ'), ('Bob', 'NNP'), ('this', 'DT'), ('is', 'VBZ'), ('is', 'VBZ'), ('that', 'IN'), ('now', 'RB'), ('the', 'DT'), ('Edward', 'NNP'), (\"'s\", 'POS'), ('account', 'NN'), ('that', 'IN'), ('you', 'PRP'), ('have', 'VBP'), ('manually', 'RB'), ('seen', 'VBN'), ('as', 'RB'), ('long', 'RB'), ('as', 'IN'), ('I', 'PRP'), ('have', 'VBP'), ('quick', 'VBN'), ('to', 'TO'), ('call', 'VB'), ('unable', 'JJ'), ('on', 'IN'), ('them', 'PRP'), ('.', '.')], [('We', 'PRP'), ('should', 'MD'), ('start', 'VB'), ('to', 'TO'), ('see', 'VB'), ('that', 'IN'), ('tracking', 'VBG'), ('and', 'CC'), ('then', 'RB'), ('for', 'IN'), ('me', 'PRP'), ('to', 'TO'), ('get', 'VB'), ('the', 'DT'), ('good', 'JJ'), ('the', 'DT'), ('being', 'VBG'), ('ads', 'NNS'), ('.', '.')], [('I', 'PRP'), ('think', 'VBP'), ('I', 'PRP'), ('have_to', 'VBP'), ('configure', 'NN'), ('that', 'WDT'), (\"'s\", 'VBZ'), ('all', 'DT'), ('on', 'IN'), ('the', 'DT'), ('bad', 'JJ'), ('side', 'NN'), ('.', '.')], [('Alright', 'NNP'), ('.', '.')], [('Okay', 'NNP'), ('.', '.')], [('Okay', 'NNP'), ('.', '.')], [('Alright', 'NNP'), ('let', 'VB'), ('me', 'PRP'), ('give', 'VB'), ('that', 'IN'), ('a', 'DT'), ('shot', 'NN'), ('and', 'CC'), ('then', 'RB'), ('I', 'PRP'), (\"'ll\", 'MD'), ('call', 'VB'), ('you', 'PRP'), ('guys', 'VB'), ('back', 'RB'), ('about', 'IN'), ('any', 'DT'), ('questions', 'NNS'), ('.', '.')], [('Awesome', 'NNP'), ('.', '.')], [('Bye', 'NNP'), ('.', '.')], [('Do', 'VBP'), ('you', 'PRP'), ('want', 'VB'), ('the', 'DT'), ('e-mail', 'JJ'), ('address', 'NN'), ('that', 'IN'), ('I', 'PRP'), ('used', 'VBD'), ('to', 'TO'), ('log', 'VB'), ('in', 'IN'), ('or', 'CC'), ('do', 'VB'), ('you', 'PRP'), ('want', 'VB'), ('because', 'IN'), ('I', 'PRP'), ('use', 'VBP'), ('that', 'DT'), ('shared', 'VBD'), ('e-mail', 'JJ'), ('address', 'NN'), ('for', 'IN'), ('my', 'PRP$'), ('agency', 'NN'), ('to', 'TO'), ('log', 'VB'), ('in', 'IN'), ('to', 'TO'), ('you', 'PRP'), ('guys', 'NNS'), ('but', 'CC'), ('do', 'VBP'), ('you', 'PRP'), ('want', 'VB'), ('me', 'PRP'), ('to', 'TO'), ('use', 'VB'), ('hey', 'NN'), ('this', 'DT'), ('is', 'VBZ'), ('Abel', 'NNP'), ('.', '.')], [('Can', 'MD'), ('you', 'PRP'), ('give', 'VB'), ('you', 'PRP'), ('a', 'DT'), ('message', 'NN'), ('at', 'IN'), ('North_Side', 'NNP'), ('N', 'NNP'), ('O', 'NNP'), ('R', 'NNP'), ('T', 'NNP'), ('H', 'NNP'), ('I', 'PRP'), ('V', 'NNP'), ('Y', 'NNP'), ('.com', 'NNP'), ('.', '.')], [('So', 'RB'), ('I', 'PRP'), ('should', 'MD'), ('see', 'VB'), ('it', 'PRP'), ('will', 'MD'), ('attract', 'VB'), ('fairly', 'RB'), ('real', 'JJ'), ('time', 'NN'), ('like', 'IN'), ('now', 'RB'), ('that', 'IN'), ('you', 'PRP'), ('push', 'VBP'), ('that', 'DT'), ('and', 'CC'), ('the', 'DT'), ('campaigns', 'NNS'), ('are', 'VBP'), ('live', 'JJ'), ('I', 'PRP'), ('should', 'MD'), ('start', 'VB'), ('to', 'TO'), ('see', 'VB'), ('that', 'IN'), ('call', 'NN'), ('activity', 'NN'), ('show', 'VBP'), ('up', 'RP'), ('as', 'IN'), ('a', 'DT'), ('collect', 'NN'), ('call', 'NN'), ('or', 'CC'), ('call', 'VB'), ('extension', 'NN'), ('I', 'PRP'), ('mean', 'VBP'), ('.', '.')], [('Okay', 'NNP'), ('.', '.')], [('So', 'RB'), ('by', 'IN'), ('the', 'DT'), ('end', 'NN'), ('of', 'IN'), ('the', 'DT'), ('day', 'NN'), ('today', 'NN'), ('I', 'PRP'), ('should', 'MD'), ('see', 'VB'), ('assuming', 'VBG'), ('people', 'NNS'), ('have', 'VBP'), ('my', 'PRP$'), ('ads', 'NNS'), ('to', 'TO'), ('call', 'VB'), ('I', 'PRP'), ('should', 'MD'), ('see', 'VB'), ('that', 'IN'), ('data', 'NNS'), ('.', '.')], [('Okay', 'NNP'), ('.', '.')], [('Okay', 'NNP'), ('great', 'JJ'), ('.', '.')], [('Thank', 'NNP'), ('you', 'PRP'), ('been', 'VBN'), ('a', 'DT'), ('big', 'JJ'), ('help', 'NN'), ('.', '.')], [('Have', 'VB'), ('a', 'DT'), ('good', 'JJ'), ('morning', 'NN'), ('you', 'PRP'), ('too', 'RB'), ('.', '.')], [('Bye', 'NNP'), ('.', '.')], [('David', 'NNP'), ('Gonzales', 'NNP'), ('.', '.')], [('This', 'DT'), ('is', 'VBZ'), ('Kelly', 'NNP'), ('.', '.')], [('How', 'WRB'), ('can', 'MD'), ('I', 'PRP'), ('help', 'VB'), ('you', 'PRP'), ('.', '.')], [('Okay', 'NNP'), ('.', '.')], [('Let', 'VB'), ('me', 'PRP'), ('take', 'VB'), ('a', 'DT'), ('look', 'NN'), ('with', 'IN'), ('the', 'DT'), ('account', 'NN'), ('ID', 'NNP'), ('or', 'CC'), ('you', 'PRP'), ('are', 'VBP'), ('done', 'VBN'), ('right', 'RB'), ('now', 'RB'), ('.', '.')], [('Go', 'NNP'), ('ahead', 'RB'), ('and', 'CC'), ('click', 'VB'), ('on', 'IN'), ('the', 'DT'), ('logo', 'NN'), ('in', 'IN'), ('the', 'DT'), ('upper', 'JJ'), ('left', 'JJ'), ('hand', 'NN'), ('corner', 'NN'), ('and', 'CC'), ('that', 'DT'), ('will', 'MD'), ('bring', 'VB'), ('it', 'PRP'), ('to', 'TO'), ('the', 'DT'), ('home', 'NN'), ('page', 'NN'), ('and', 'CC'), ('the', 'DT'), ('account', 'NN'), ('ID', 'NNP'), ('will', 'MD'), ('be', 'VB'), ('on', 'IN'), ('the', 'DT'), ('left', 'JJ'), ('hand', 'NN'), ('side', 'NN'), ('.', '.')], [('Yes', 'UH'), ('the', 'DT'), ('server', 'NN'), ('type', 'NN'), ('.', '.')], [('Okay', 'NNP'), ('.', '.')], [('One', 'CD'), ('moment', 'NN'), ('my', 'PRP$'), ('pull', 'NN'), ('up', 'RB'), ('and', 'CC'), ('my', 'PRP$'), ('speaking', 'NN'), ('and', 'CC'), ('Wednesday', 'NNP'), ('with', 'IN'), ('you', 'PRP'), ('and', 'CC'), ('if', 'IN'), ('your', 'PRP$'), ('ad', 'NN'), ('words', 'NNS'), ('account', 'VBP'), ('.', '.')], [('Bye', 'NNP'), ('.', '.')], [('Bye', 'NNP'), ('buy', 'NN'), ('and', 'CC'), ('ad', 'NN'), ('words', 'NNS'), ('correct', 'VBP'), ('right', 'JJ'), ('.', '.')], [('So', 'RB'), ('typically', 'RB'), ('when', 'WRB'), ('we', 'PRP'), ('are', 'VBP'), ('not', 'RB'), ('pushing', 'VBG'), ('data', 'NNS'), ('to', 'TO'), ('add', 'VB'), ('words', 'NNS'), ('because', 'IN'), ('the', 'DT'), ('campaigns', 'NNS'), ('have', 'VBP'), (\"n't\", 'RB'), ('been', 'VBN'), ('I', 'PRP'), ('think', 'VBP'), ('fully', 'RB'), ('.', '.')], [('So', 'IN'), ('we', 'PRP'), ('we', 'PRP'), ('recommend', 'VBP'), ('clicking', 'VBG'), ('into', 'IN'), ('each', 'DT'), ('call', 'NN'), ('extension', 'NN'), ('each', 'DT'), ('campaign', 'NN'), ('every', 'DT'), ('so', 'RB'), ('often', 'RB'), ('to', 'TO'), ('make', 'VB'), ('sure', 'JJ'), ('that', 'IN'), ('we', 'PRP'), (\"'re\", 'VBP'), ('continuing', 'VBG'), ('to', 'TO'), ('sync', 'VB'), ('with', 'IN'), ('your', 'PRP$'), ('ad', 'NN'), ('words', 'NNS'), ('account', 'VBP'), ('.', '.')], [('I', 'PRP'), (\"'m\", 'VBP'), ('clicking', 'VBG'), ('into', 'IN'), ('them', 'PRP'), ('now', 'RB'), ('to', 'TO'), ('see', 'VB'), ('if', 'IN'), ('they', 'PRP'), (\"'re\", 'VBP'), ('all', 'DT'), ('properly', 'RB'), ('brought', 'VBN'), ('in', 'IN'), ('.', '.')], [('So', 'IN'), ('the', 'DT'), ('moment', 'NN'), ('so', 'RB'), ('if', 'IN'), ('you', 'PRP'), ('go', 'VBP'), ('to', 'TO'), ('know', 'VB'), ('so', 'RB'), ('I', 'PRP'), (\"'m\", 'VBP'), ('in', 'IN'), ('the', 'DT'), ('call', 'NN'), ('extension', 'NN'), ('section', 'NN'), ('of', 'IN'), ('the', 'DT'), ('dialog', 'NN'), ('Tech', 'NNP'), ('account', 'NN'), ('where', 'WRB'), ('you', 'PRP'), ('see', 'VBP'), ('your', 'PRP$'), ('campaigns', 'NNS'), ('.', '.')], [('Just', 'RB'), ('clicking', 'VBG'), ('into', 'IN'), ('them', 'PRP'), ('and', 'CC'), ('then', 'RB'), ('you', 'PRP'), ('would', 'MD'), ('see', 'VB'), ('yet', 'RB'), ('you', 'PRP'), ('will', 'MD'), ('see', 'VB'), ('at', 'IN'), ('the', 'DT'), ('top', 'JJ'), ('little', 'JJ'), ('yellow', 'JJ'), ('highlighted', 'VBN'), ('taxes', 'NNS'), ('patching', 'VBG'), ('at', 'IN'), ('Group', 'NNP'), ('campaign', 'NN'), ('something', 'NN'), ('like', 'IN'), ('that', 'DT'), ('address', 'NN'), ('for', 'IN'), ('this', 'DT'), ('campaign', 'NN'), ('.', '.')], [('I', 'PRP'), ('mean', 'VBP'), ('that', 'DT'), (\"'s\", 'VBZ'), ('our', 'PRP$'), ('system', 'NN'), ('thinking', 'VBG'), ('with', 'IN'), ('your', 'PRP$'), ('ad', 'NN'), ('words', 'NNS'), ('account', 'VBP'), ('.', '.')], [('Yes', 'UH'), ('correct', 'NN'), ('.', '.')], [('Yeah', 'UH'), ('that', 'DT'), (\"'s\", 'VBZ'), ('typically', 'RB'), ('where', 'WRB'), ('we', 'PRP'), ('.', '.')], [('Yeah', 'UH'), ('that', 'DT'), (\"'s\", 'VBZ'), ('typically', 'RB'), ('where', 'WRB'), ('we', 'PRP'), ('see', 'VBP'), ('the', 'DT'), ('issue', 'NN'), ('but', 'CC'), ('that', 'DT'), (\"'s\", 'VBZ'), ('not', 'RB'), ('to', 'TO'), ('say', 'VB'), ('that', 'IN'), ('yes', 'RB'), ('I', 'PRP'), ('just', 'RB'), ('went', 'VBD'), ('through', 'IN'), ('so', 'IN'), ('all', 'DT'), ('you', 'PRP'), ('need', 'VBP'), ('to', 'TO'), ('do', 'VB'), ('is', 'VBZ'), ('just', 'RB'), ('click', 'VBN'), ('on', 'IN'), ('each', 'DT'), ('campaign', 'NN'), ('to', 'TO'), ('go', 'VB'), ('into', 'IN'), ('it', 'PRP'), ('and', 'CC'), ('you', 'PRP'), (\"'ll\", 'MD'), ('see', 'VB'), ('at', 'IN'), ('the', 'DT'), ('top', 'JJ'), ('just', 'RB'), ('the', 'DT'), ('yellow', 'JJ'), ('highlighted', 'VBD'), ('text', 'NN'), ('that', 'WDT'), ('says', 'VBZ'), ('searching', 'VBG'), ('ad', 'NN'), ('groups', 'NNS'), ('for', 'IN'), ('this', 'DT'), ('campaign', 'NN'), ('.', '.')], [('Yes', 'UH'), ('when', 'WRB'), ('I', 'PRP'), ('clicked', 'VBD'), ('into', 'IN'), ('them', 'PRP'), ('.', '.')], [('So', 'RB'), ('what', 'WP'), ('we', 'PRP'), ('can', 'MD'), ('what', 'WP'), ('we', 'PRP'), ('can', 'MD'), ('.', '.')], [('Yeah', 'UH'), ('so', 'RB'), ('you', 'PRP'), ('do', 'VBP'), (\"n't\", 'RB'), ('even', 'RB'), ('need', 'VB'), ('to', 'TO'), ('do', 'VB'), ('anything', 'NN'), ('once', 'RB'), ('you', 'PRP'), (\"'re\", 'VBP'), ('in', 'IN'), ('here', 'RB'), ('you', 'PRP'), (\"'re\", 'VBP'), ('just', 'RB'), ('clicking', 'VBG'), ('in', 'IN'), ('yeah', 'NN'), ('I', 'PRP'), ('wo', 'MD'), (\"n't\", 'RB'), ('lie', 'VB'), ('.', '.')], [('That', 'DT'), (\"'s\", 'VBZ'), ('right', 'JJ'), ('yeah', 'NN'), ('it', 'PRP'), ('is', 'VBZ'), ('something', 'NN'), ('that', 'WDT'), ('were', 'VBD'), ('working', 'VBG'), ('to', 'TO'), ('improve', 'VB'), ('especially', 'RB'), ('you', 'PRP'), ('know', 'VBP'), ('when', 'WRB'), ('people', 'NNS'), ('have', 'VBP'), ('a', 'DT'), ('tone', 'NN'), ('of', 'IN'), ('campaigns', 'NNS'), ('.', '.')], [('You', 'PRP'), ('know', 'VBP'), ('not', 'RB'), ('very', 'RB'), ('ideal', 'JJ'), ('.', '.')], [('So', 'RB'), ('yes', 'RB'), ('correct', 'NN'), ('.', '.')], [('Yeah', 'UH'), ('.', '.')], [('So', 'IN'), ('it', 'PRP'), ('maybe', 'RB'), ('helpful', 'JJ'), ('to', 'TO'), ('have', 'VB'), ('a', 'DT'), ('visual', 'JJ'), ('if', 'IN'), ('you', 'PRP'), ('click', 'VBP'), ('on', 'IN'), ('the', 'DT'), ('help', 'NN'), ('center', 'NN'), ('link', 'NN'), ('and', 'CC'), ('then', 'RB'), ('just', 'RB'), ('take', 'VB'), ('the', 'DT'), ('spring', 'NN'), ('to', 'TO'), ('see', 'VB'), ('if', 'IN'), ('you', 'PRP'), ('are', 'VBP'), ('just', 'RB'), ('general', 'JJ'), ('support', 'NN'), ('community', 'NN'), ('.', '.')], [('Feel', 'NNP'), ('free', 'JJ'), ('to', 'TO'), ('reference', 'VB'), ('us', 'PRP'), ('.', '.')], [('Whenever', 'WRB'), ('you', 'PRP'), (\"'re\", 'VBP'), ('working', 'VBG'), ('in', 'IN'), ('the', 'DT'), ('account', 'NN'), ('but', 'CC'), ('go', 'VBP'), ('ahead', 'RB'), ('and', 'CC'), ('type', 'VB'), ('in', 'IN'), ('thing', 'NN'), ('integration', 'NN'), ('and', 'CC'), ('one', 'CD'), ('of', 'IN'), ('our', 'PRP$'), ('Walkers', 'NNS'), ('will', 'MD'), ('pop', 'VB'), ('up', 'RB'), ('and', 'CC'), ('it', 'PRP'), ('will', 'MD'), ('have', 'VB'), ('all', 'DT'), ('of', 'IN'), ('the', 'DT'), ('necessary', 'JJ'), ('links', 'NNS'), ('that', 'IN'), ('you', 'PRP'), ('need', 'VBP'), ('to', 'TO'), ('get', 'VB'), ('that', 'DT'), ('set', 'VB'), ('up', 'RP'), ('.', '.')], [('Yeah', 'UH'), ('so', 'IN'), ('it', 'PRP'), (\"'s\", 'VBZ'), ('it', 'PRP'), (\"'s\", 'VBZ'), ('me', 'PRP'), ('being', 'VBG'), ('off-line', 'JJ'), ('call', 'NN'), ('conversion', 'NN'), ('Auto', 'NNP'), ('tagging', 'NN'), ('.', '.')], [('Yes', 'UH'), ('yeah', 'UH'), ('oh', 'IN'), ('that', 'DT'), (\"'s\", 'VBZ'), ('our', 'PRP$'), ('product', 'NN'), ('and', 'CC'), ('it', 'PRP'), ('looks', 'VBZ'), ('like', 'IN'), ('you', 'PRP'), ('guys', 'NNS'), ('are', 'VBP'), ('utilizing', 'VBG'), ('first', 'JJ'), ('track', 'NN'), ('.', '.')], [('Yes', 'UH'), ('and', 'CC'), ('when', 'WRB'), ('you', 'PRP'), (\"'re\", 'VBP'), ('setting', 'VBG'), ('up', 'RP'), ('the', 'DT'), ('the', 'DT'), ('conversion', 'NN'), ('goal', 'NN'), ('in', 'IN'), ('Bangor', 'NNP'), ('and', 'CC'), ('then', 'RB'), ('the', 'DT'), ('conversion', 'NN'), ('name', 'NN'), ('within', 'IN'), ('the', 'DT'), ('integration', 'NN'), ('settings', 'NNS'), ('if', 'IN'), ('you', 'PRP'), ('if', 'IN'), ('you', 'PRP'), ('look', 'VBP'), ('at', 'IN'), ('that', 'DT'), ('for', 'IN'), ('that', 'DT'), ('.', '.')], [('That', 'DT'), ('name', 'NN'), ('needs', 'VBZ'), ('to', 'TO'), ('be', 'VB'), ('exactly', 'RB'), ('the', 'DT'), ('same', 'JJ'), ('down', 'RB'), ('to', 'TO'), ('the', 'DT'), ('letter', 'NN'), ('.', '.')], [('So', 'RB'), ('just', 'RB'), ('keep', 'VB'), ('that', 'IN'), ('in', 'IN'), ('mind', 'NN'), ('that', 'WDT'), (\"'s\", 'VBZ'), ('usually', 'RB'), ('where', 'WRB'), ('if', 'IN'), ('we', 'PRP'), ('if', 'IN'), ('clients', 'NNS'), ('are', 'VBP'), ('not', 'RB'), ('seeing', 'VBG'), ('data', 'NNS'), ('and', 'CC'), ('things', 'NNS'), ('.', '.')], [('That', 'DT'), (\"'s\", 'VBZ'), ('typically', 'RB'), ('where', 'WRB'), ('the', 'DT'), ('issue', 'NN'), ('is', 'VBZ'), ('you', 'PRP'), ('if', 'IN'), ('there', 'EX'), (\"'s\", 'VBZ'), ('a', 'DT'), ('need', 'NN'), ('to', 'TO'), ('be', 'VB'), ('that', 'IN'), ('exact', 'JJ'), ('same', 'JJ'), ('name', 'NN'), ('I', 'PRP'), ('just', 'RB'), ('need', 'VB'), ('to', 'TO'), ('be', 'VB'), ('the', 'DT'), ('same', 'JJ'), ('names', 'NNS'), ('that', 'IN'), ('you', 'PRP'), ('have', 'VBP'), ('created', 'VBN'), ('in', 'IN'), ('the', 'DT'), ('conversion', 'NN'), ('call', 'NN'), ('with', 'IN'), ('and', 'CC'), ('being', 'VBG'), ('as', 'IN'), ('and', 'CC'), ('have', 'VBP'), ('you', 'PRP'), ('and', 'CC'), ('I', 'PRP'), ('have', 'VBP'), ('you', 'PRP'), ('integrated', 'VBN'), ('the', 'DT'), ('analytics', 'NNS'), ('account', 'VBP'), ('.', '.')], [('Okay', 'NNP'), ('.', '.')], [('Than', 'NN'), ('that', 'IN'), ('that', 'DT'), ('is', 'VBZ'), ('all', 'DT'), ('set', 'VBN'), ('up', 'RP'), ('and', 'CC'), ('good', 'JJ'), ('to', 'TO'), ('go', 'VB'), ('.', '.')], [('If', 'IN'), ('you', 'PRP'), (\"'re\", 'VBP'), ('in', 'IN'), ('Alex', 'NNP'), (\"'s\", 'POS'), ('and', 'CC'), ('agree', 'VBP'), ('that', 'IN'), ('it', 'PRP'), ('looks', 'VBZ'), ('like', 'IN'), ('you', 'PRP'), ('have', 'VBP'), ('one', 'CD'), ('if', 'IN'), ('you', 'PRP'), ('go', 'VBP'), ('to', 'TO'), ('the', 'DT'), ('developer', 'NN'), ('tools', 'NNS'), ('and', 'CC'), ('then', 'RB'), ('post', 'VB'), ('call', 'NN'), ('actions', 'NNS'), ('and', 'CC'), ('then', 'RB'), ('if', 'IN'), ('you', 'PRP'), ('click', 'VBP'), ('in', 'IN'), ('to', 'TO'), ('add', 'VB'), ('it', 'PRP'), ('.', '.')], [('If', 'IN'), ('you', 'PRP'), ('wan', 'VBP'), ('na', 'JJ'), ('confirm', 'NN'), ('that', 'WDT'), ('at', 'IN'), ('the', 'DT'), ('same', 'JJ'), ('analytics', 'NNS'), ('.', '.')], [('If', 'IN'), ('you', 'PRP'), ('got', 'VBD'), ('your', 'PRP$'), ('your', 'PRP$'), ('Rebecca', 'NNP'), ('yeah', 'NN'), ('no', 'DT'), ('we', 'PRP'), ('were', 'VBD'), ('determine', 'VBN'), ('in', 'IN'), ('our', 'PRP$'), ('reporting', 'NN'), ('if', 'IN'), ('it', 'PRP'), ('was', 'VBD'), ('a', 'DT'), ('Google', 'NNP'), ('call', 'NN'), ('extension', 'NN'), ('call', 'NN'), ('or', 'CC'), ('came', 'VBD'), ('.', '.')], [('Yes', 'UH'), ('correct', 'NN'), ('.', '.')], [('Yes', 'UH'), ('.', '.')], [('Yeah', 'UH'), ('.', '.')], [('Yeah', 'UH'), ('absolutely', 'RB'), ('.', '.')], [('John', 'NNP'), ('what', 'WP'), (\"'s\", 'VBZ'), ('your', 'PRP$'), ('e-mail', 'JJ'), ('go', 'NN'), ('ahead', 'RB'), ('and', 'CC'), ('create', 'VB'), ('a', 'DT'), ('case', 'NN'), ('and', 'CC'), ('you', 'PRP'), ('call', 'VBP'), ('back', 'RB'), ('and', 'CC'), ('I', 'PRP'), ('can', 'MD'), ('either', 'VB'), ('reach', 'VB'), ('me', 'PRP'), ('or', 'CC'), ('someone', 'NN'), ('else', 'RB'), ('on', 'IN'), ('my', 'PRP$'), ('team', 'NN'), ('and', 'CC'), ('we', 'PRP'), ('can', 'MD'), ('reference', 'VB'), ('the', 'DT'), ('conversation', 'NN'), ('okay', 'NN'), ('perfect', 'NN'), ('and', 'CC'), ('yeah', 'NN'), ('feel', 'VBP'), ('free', 'JJ'), ('to', 'TO'), ('give', 'VB'), ('us', 'PRP'), ('a', 'DT'), ('call', 'NN'), ('back', 'RB'), ('if', 'IN'), ('if', 'IN'), ('you', 'PRP'), ('need', 'VBP'), ('more', 'JJR'), ('assistance', 'NN'), ('.', '.')], [('We', 'PRP'), ('given', 'VBN'), ('about', 'IN'), ('four', 'CD'), ('to', 'TO'), ('six', 'CD'), ('hours', 'NNS'), ('for', 'IN'), ('the', 'DT'), ('integration', 'NN'), ('of', 'IN'), ('the', 'DT'), ('crack', 'NN'), ('.', '.')], [('Yeah', 'UH'), ('.', '.')], [('Yeah', 'UH'), ('no', 'DT'), ('problem', 'NN'), ('.', '.')], [('Have', 'VB'), ('a', 'DT'), ('good', 'JJ'), ('day', 'NN'), ('.', '.')], [('Thank', 'NNP'), ('you', 'PRP'), ('for', 'IN'), ('calling', 'VBG'), ('help', 'NN'), ('a', 'DT'), ('Child', 'NNP'), ('smile', 'NN'), ('on', 'IN'), ('the', 'DT'), ('comprehensive', 'JJ'), ('Dental', 'NNP'), ('Care', 'NNP'), ('for', 'IN'), ('children', 'NNS'), ('across', 'IN'), ('Georgia', 'NNP'), ('since', 'IN'), ('nineteen', 'JJ'), ('ninety', 'NN'), ('three', 'CD'), ('.', '.')], [('This', 'DT'), ('call', 'NN'), ('maybe', 'RB'), ('recorded', 'VBD'), ('for', 'IN'), ('quality', 'NN'), ('and', 'CC'), ('training', 'NN'), ('purposes', 'NNS'), ('.', '.')], [('Please', 'NNP'), ('note', 'VBP'), ('all', 'DT'), ('of', 'IN'), ('our', 'PRP$'), ('extensions', 'NNS'), ('have', 'VBP'), ('changed', 'VBN'), ('to', 'TO'), ('include', 'VB'), ('reading', 'VBG'), ('for', 'IN'), ('two', 'CD'), ('before', 'IN'), ('the', 'DT'), ('existing', 'VBG'), ('extension', 'NN'), ('number', 'NN'), ('.', '.')], [('If', 'IN'), ('you', 'PRP'), ('know', 'VBP'), ('your', 'PRP$'), ('party', 'NN'), (\"'s\", 'POS'), ('extension', 'NN'), ('you', 'PRP'), ('may', 'MD'), ('dial', 'VB'), ('it', 'PRP'), ('now', 'RB'), ('.', '.')], [('If', 'IN'), ('you', 'PRP'), ('are', 'VBP'), ('a', 'DT'), ('school', 'NN'), ('representative', 'JJ'), ('press', 'NN'), ('one', 'CD'), ('now', 'RB'), ('.', '.')], [('If', 'IN'), ('you', 'PRP'), ('are', 'VBP'), ('a', 'DT'), ('parent', 'NN'), ('or', 'CC'), ('have', 'VBP'), ('general', 'JJ'), ('questions', 'NNS'), ('press', 'VBP'), ('two', 'CD'), ('now', 'RB'), ('.', '.')], [('That', 'DT'), ('equity', 'NN'), ('not', 'RB'), ('any', 'DT'), ('spaniel', 'NN'), ('or', 'CC'), ('Prima', 'NNP'), ('trace', 'VBP'), ('our', 'PRP$'), ('small', 'JJ'), ('this', 'DT'), ('is', 'VBZ'), ('Crystal', 'NNP'), ('how', 'WRB'), ('may', 'MD'), ('help', 'VB'), ('you', 'PRP'), ('.', '.')], [('Okay', 'NNP'), ('yes', 'PRP'), ('I', 'PRP'), ('can', 'MD'), ('send', 'VB'), ('you', 'PRP'), ('over', 'IN'), ('to', 'TO'), ('Alison', 'NNP'), ('hello', 'NN'), ('.', '.')], [('Hello', 'NNP'), ('.', '.')], [('Hello', 'NNP'), ('.', '.')], [('Hello', 'NNP'), ('.', '.')], [('The', 'DT'), ('person', 'NN'), ('at', 'IN'), ('extension', 'NN'), ('four', 'CD'), ('two', 'CD'), ('one', 'CD'), ('eight', 'CD'), ('zero', 'NN'), ('is', 'VBZ'), ('unavailable', 'JJ'), ('please', 'NN'), ('leave', 'VB'), ('your', 'PRP$'), ('message', 'NN'), ('after', 'IN'), ('the', 'DT'), ('town', 'NN'), ('when', 'WRB'), ('done', 'VBN'), ('hang', 'NN'), ('up', 'RB'), ('or', 'CC'), ('press', 'VB'), ('the', 'DT'), ('.', '.')], [('Hey', 'NNP'), ('Crystal', 'NNP'), ('I', 'PRP'), ('was', 'VBD'), ('just', 'RB'), ('looking', 'VBG'), ('to', 'TO'), ('speak', 'VB'), ('to', 'TO'), ('the', 'DT'), ('person', 'NN'), ('that', 'WDT'), ('handles', 'VBZ'), ('your', 'PRP$'), ('digital', 'JJ'), ('marketing', 'NN'), ('efforts', 'NNS'), ('you', 'PRP'), ('need', 'VBP'), ('to', 'TO'), ('reach', 'VB'), ('out', 'RP'), ('to', 'TO'), ('for', 'IN'), ('the', 'DT'), ('okay', 'NN'), ('.', '.')], [('Thank', 'NNP'), ('you', 'PRP'), ('very', 'RB'), ('much', 'RB'), ('.', '.')], [('Good', 'JJ'), ('morning', 'NN'), ('thank', 'NN'), ('you', 'PRP'), ('for', 'IN'), ('calling', 'VBG'), ('Penn', 'NNP'), ('State', 'NNP'), ('University', 'NNP'), ('this', 'DT'), ('is', 'VBZ'), ('Connie', 'NNP'), ('.', '.')], [('Mama', 'NNP'), ('please', 'NN'), ('.', '.')], [('Hello', 'NNP'), ('.', '.')], [('Sorry', 'NNP'), ('.', '.')], [('Heather', 'PRP$'), ('Torres', 'NNS'), ('is', 'VBZ'), ('not', 'RB'), ('available', 'JJ'), ('.', '.')], [('Record', 'NNP'), ('your', 'PRP$'), ('message', 'NN'), ('at', 'IN'), ('the', 'DT'), ('tone', 'NN'), ('when', 'WRB'), ('you', 'PRP'), ('are', 'VBP'), ('finished', 'VBN'), ('hang', 'NN'), ('up', 'RB'), ('or', 'CC'), ('press', 'NN'), ('pound', 'NN'), ('for', 'IN'), ('more', 'JJR'), ('options', 'NNS'), ('.', '.')], [('Hello', 'NNP'), ('.', '.')], [('Hi', 'NNP'), ('County', 'NNP'), ('what', 'WP'), ('I', 'PRP'), ('will', 'MD'), ('speak', 'VB'), ('to', 'TO'), ('Heather', 'NNP'), ('kerber', 'NNP'), ('please', 'NN'), ('.', '.')], [('Thank', 'NNP'), ('you', 'PRP'), ('.', '.')], [('Hey', 'NNP'), ('Heather', 'NNP'), ('it', 'PRP'), (\"'s\", 'VBZ'), ('Daniel', 'NNP'), ('Gory', 'NNP'), ('.', '.')], [('Reason', 'NNP'), ('for', 'IN'), ('my', 'PRP$'), ('call', 'NN'), ('is', 'VBZ'), ('because', 'IN'), ('you', 'PRP'), ('all', 'DT'), ('received', 'VBD'), ('the', 'DT'), ('digital', 'JJ'), ('marketing', 'NN'), ('efforts', 'NNS'), ('and', 'CC'), ('state', 'NN'), ('and', 'CC'), ('because', 'IN'), ('I', 'PRP'), (\"'m\", 'VBP'), ('currently', 'RB'), ('on', 'IN'), ('Penn', 'NNP'), ('State', 'NNP'), ('website', 'NN'), ('and', 'CC'), ('I', 'PRP'), ('noticed', 'VBD'), ('the', 'DT'), ('bottom', 'NN'), ('of', 'IN'), ('it', 'PRP'), ('there', 'EX'), (\"'s\", 'VBZ'), ('eight', 'CD'), ('one', 'CD'), ('four', 'CD'), ('eight', 'CD'), ('six', 'CD'), ('five', 'CD'), ('phone', 'NN'), ('number', 'NN'), ('listed', 'VBN'), ('.', '.')], [('I', 'PRP'), ('work', 'VBP'), ('for', 'IN'), ('company', 'NN'), ('called', 'VBN'), ('dialog', 'NN'), ('Tech', 'NNP'), ('and', 'CC'), ('we', 'PRP'), (\"'re\", 'VBP'), ('partnering', 'VBG'), ('with', 'IN'), ('several', 'JJ'), ('schools', 'NNS'), ('including', 'VBG'), ('duke', 'NN'), ('in', 'IN'), ('University', 'NNP'), ('of', 'IN'), ('Georgia', 'NNP'), ('and', 'CC'), ('helping', 'VBG'), ('them', 'PRP'), ('have', 'VBP'), ('a', 'DT'), ('better', 'JJR'), ('understanding', 'VBG'), ('the', 'DT'), ('marketing', 'NN'), ('efforts', 'NNS'), ('that', 'WDT'), ('are', 'VBP'), ('influencing', 'VBG'), ('their', 'PRP$'), ('phone', 'NN'), ('calls', 'VBZ'), ('as', 'RB'), ('well', 'RB'), ('as', 'IN'), ('the', 'DT'), ('type', 'NN'), ('of', 'IN'), ('phone', 'NN'), ('calls', 'NNS'), ('that', 'IN'), ('they', 'PRP'), (\"'re\", 'VBP'), ('influencing', 'VBG'), ('because', 'IN'), ('our', 'PRP$'), ('call', 'NN'), ('analytics', 'NNS'), ('platform', 'VBP'), ('able', 'JJ'), ('to', 'TO'), ('pick', 'VB'), ('up', 'RP'), ('on', 'IN'), ('words', 'NNS'), ('resonate', 'VBP'), ('with', 'IN'), ('most', 'JJS'), ('with', 'IN'), ('students', 'NNS'), ('.', '.')], [('Also', 'RB'), ('identify', 'VB'), ('Ms.', 'NNP'), ('and', 'CC'), ('opportunities', 'NNS'), ('.', '.')], [('Missing', 'VBG'), ('you', 'PRP'), ('an', 'DT'), ('e-mail', 'JJ'), ('with', 'IN'), ('some', 'DT'), ('more', 'JJR'), ('information', 'NN'), ('on', 'IN'), ('it', 'PRP'), ('.', '.')], [('It', 'PRP'), (\"'s\", 'VBZ'), ('going', 'VBG'), ('to', 'TO'), ('say', 'VB'), ('analytics', 'NNS'), ('behind', 'IN'), ('ten', 'JJ'), ('states', 'NNS'), ('phone', 'NN'), ('calls', 'NNS'), ('.', '.')], [('Keep', 'VB'), ('an', 'DT'), ('eye', 'NN'), ('out', 'RP'), ('for', 'IN'), ('it', 'PRP'), ('and', 'CC'), ('I', 'PRP'), ('look', 'VBP'), ('forward', 'RB'), ('to', 'TO'), ('connecting', 'VBG'), ('with', 'IN'), ('you', 'PRP'), ('soon', 'RB'), ('.', '.')], [('Have', 'VBP'), ('a', 'DT'), ('wonderful', 'JJ'), ('weekend', 'NN'), ('.', '.')], [('Bye', 'NNP'), ('.', '.')], [('Hey', 'NNP'), ('giver', 'VBD'), ('calling', 'VBG'), ('Ethan', 'NNP'), ('Allen', 'NNP'), ('international', 'JJ'), ('headquarters', 'NN'), ('.', '.')], [('Your', 'PRP$'), ('call', 'NN'), ('is', 'VBZ'), ('important', 'JJ'), ('to', 'TO'), ('us', 'PRP'), ('normal', 'JJ'), ('business', 'NN'), ('hours', 'NNS'), ('are', 'VBP'), ('Monday', 'NNP'), ('through', 'IN'), ('Friday', 'NNP'), ('eight', 'CD'), ('thirty', 'NN'), ('a.m.', 'NN'), ('to', 'TO'), ('four', 'CD'), ('forty', 'NN'), ('five', 'CD'), ('p.m.', 'NN'), ('Eastern', 'NNP'), ('Time', 'NNP'), ('.', '.')], [('If', 'IN'), ('you', 'PRP'), ('know', 'VBP'), ('your', 'PRP$'), ('party', 'NN'), (\"'s\", 'POS'), ('extension', 'NN'), ('please', 'NN'), ('enter', 'VB'), ('it', 'PRP'), ('now', 'RB'), ('.', '.')], [('To', 'TO'), ('access', 'NN'), ('our', 'PRP$'), ('employee', 'NN'), ('directory', 'NN'), ('.', '.')], [('Press', 'NNP'), ('the', 'DT'), ('number', 'NN'), ('sign', 'NN'), ('or', 'CC'), ('two', 'CD'), ('from', 'IN'), ('one', 'CD'), ('of', 'IN'), ('the', 'DT'), ('following', 'JJ'), ('options', 'NNS'), ('for', 'IN'), ('the', 'DT'), ('Danbury', 'NNP'), ('design', 'NN'), ('Center', 'NNP'), ('.', '.')], [('Press', 'NNP'), ('one', 'CD'), ('for', 'IN'), ('directions', 'NNS'), ('to', 'TO'), ('the', 'DT'), ('Ethan', 'NNP'), ('Allen', 'NNP'), ('international', 'JJ'), ('headquarters', 'NN'), ('.', '.')], [('Press', 'NNP'), ('two', 'CD'), ('for', 'IN'), ('customer', 'NN'), ('service', 'NN'), ('press', 'NN'), ('three', 'CD'), ('for', 'IN'), ('benefits', 'NNS'), ('human', 'JJ'), ('resources', 'NNS'), ('or', 'CC'), ('payroll', 'NN'), ('department', 'NN'), ('press', 'NN'), ('four', 'CD'), ('.', '.')], [('For', 'IN'), ('investor', 'NN'), ('relations', 'NNS'), ('or', 'CC'), ('accounts', 'NNS'), ('payable', 'JJ'), ('.', '.')], [('Press', 'NNP'), ('six', 'CD'), ('for', 'IN'), ('public', 'JJ'), ('relations', 'NNS'), ('press', 'NN'), ('seven', 'CD'), ('.', '.')], [('To', 'TO'), ('speak', 'VB'), ('with', 'IN'), ('Ethan', 'NNP'), ('Alan', 'NNP'), ('Headquarters', 'NNP'), ('receptionist', 'NN'), ('.', '.')], [('Press', 'NNP'), ('nine', 'CD'), ('.', '.')], [('Hello', 'NNP'), ('.', '.')], [('Ethan', 'NNP'), ('good', 'JJ'), ('morning', 'NN'), ('Stone', 'NN'), ('that', 'IN'), ('last', 'JJ'), ('name', 'NN'), ('I', 'PRP'), ('do', 'VBP'), (\"n't\", 'RB'), ('see', 'VB'), ('that', 'IN'), ('he', 'PRP'), (\"'s\", 'VBZ'), ('a', 'DT'), ('DA', 'NNP'), ('.', '.')], [('Oh', 'UH'), ('yes', 'UH'), ('.', '.')], [('Okay', 'NNP'), ('.', '.')], [('I', 'PRP'), ('got', 'VBD'), ('it', 'PRP'), ('hold', 'VB'), ('on', 'IN'), ('just', 'RB'), ('a', 'DT'), ('moment', 'NN'), ('.', '.')], [('Hello', 'NNP'), ('.', '.')], [('Hello', 'NNP'), ('hi', 'NN'), ('Avery', 'NNP'), ('Stacy', 'NNP'), ('Patino', 'NNP'), ('at', 'IN'), ('Ethan', 'NNP'), ('now', 'RB'), ('.', '.')], [('Please', 'NNP'), ('note', 'VBP'), ('I', 'PRP'), (\"'ll\", 'MD'), ('be', 'VB'), ('out_of', 'IN'), ('the', 'DT'), ('office', 'NN'), ('the', 'DT'), ('remainder', 'NN'), ('of', 'IN'), ('today', 'NN'), ('through', 'IN'), ('Friday', 'NNP'), ('.', '.')], [('Please', 'NNP'), ('leave', 'VB'), ('me', 'PRP'), ('a', 'DT'), ('message', 'NN'), ('and', 'CC'), ('I', 'PRP'), (\"'ll\", 'MD'), ('get', 'VB'), ('back', 'RB'), ('to', 'TO'), ('you', 'PRP'), ('when', 'WRB'), ('I', 'PRP'), ('return', 'VBP'), ('on', 'IN'), ('Monday', 'NNP'), ('the', 'DT'), ('.', '.')], [('Hey', 'NNP'), ('good', 'JJ'), ('morning', 'NN'), ('and', 'CC'), ('Happy', 'JJ'), ('Friday', 'NNP'), ('this', 'DT'), ('is', 'VBZ'), ('Matt', 'NNP'), ('.', '.')], [('I', 'PRP'), (\"'m\", 'VBP'), ('trying', 'VBG'), ('to', 'TO'), ('get', 'VB'), ('in', 'IN'), ('touch', 'NN'), ('with', 'IN'), ('Stacy', 'NNP'), ('Dave', 'NNP'), ('Christina', 'NNP'), ('but', 'CC'), ('I', 'PRP'), ('tried', 'VBD'), ('typing', 'VBG'), ('in', 'IN'), ('her', 'PRP$'), ('name', 'NN'), ('into', 'IN'), ('.', '.')], [('I', 'PRP'), ('guess', 'VBP'), ('like', 'IN'), ('typing', 'VBG'), ('and', 'CC'), ('keep', 'VB'), ('IKEA', 'NNP'), ('and', 'CC'), ('I', 'PRP'), ('keeps', 'VBP'), ('directing', 'VBG'), ('me', 'PRP'), ('to', 'TO'), ('a', 'DT'), ('another', 'DT'), ('individual', 'JJ'), ('PE', 'NNP'), ('TRO', 'NNP'), ('.', '.')], [('Awesome', 'NNP'), ('thank', 'NN'), ('you', 'PRP'), ('so', 'RB'), ('much', 'RB'), ('.', '.')], [('Hello', 'NNP'), ('Gary', 'NNP'), ('Thompson', 'NNP'), ('agency', 'NN'), ('this', 'DT'), ('is', 'VBZ'), ('Laura', 'NNP'), ('.', '.')], [('If', 'IN'), ('she', 'PRP'), (\"'s\", 'VBZ'), ('available', 'JJ'), ('mask', 'NN'), ('is', 'VBZ'), ('going', 'VBG'), ('.', '.')], [('Just', 'RB'), ('a', 'DT'), ('moment', 'NN'), ('.', '.')], [('Hello', 'NNP'), ('.', '.')], [('Hello', 'NNP'), ('.', '.')], [('Hello', 'NNP'), ('.', '.')], [('Hello', 'NNP'), ('.', '.')], [('Hello', 'NNP'), ('.', '.')], [('Hello', 'NNP'), ('.', '.')], [('Hello', 'NNP'), ('.', '.')], [('This', 'DT'), ('is', 'VBZ'), ('Katie', 'NNP'), ('.', '.')], [('Hello', 'NNP'), ('.', '.')], [('Yeah', 'UH'), ('.', '.')], [('How', 'WRB'), ('are', 'VBP'), ('you', 'PRP'), ('.', '.')], [('I', 'PRP'), (\"'m\", 'VBP'), ('good', 'JJ'), ('.', '.')], [('What', 'WP'), ('can', 'MD'), ('I', 'PRP'), ('do', 'VB'), ('for', 'IN'), ('you', 'PRP'), ('today', 'NN'), ('.', '.')], [('Yes', 'UH'), ('I', 'PRP'), ('had', 'VBD'), ('registered', 'VBN'), ('for', 'IN'), ('it', 'PRP'), ('and', 'CC'), ('then', 'RB'), ('I', 'PRP'), ('ended', 'VBD'), ('up', 'RB'), ('having', 'VBG'), ('to', 'TO'), ('be', 'VB'), ('out', 'RP'), ('the', 'DT'), ('office', 'NN'), ('that', 'DT'), ('day', 'NN'), ('then', 'RB'), ('travel', 'VBD'), ('to', 'TO'), ('one', 'CD'), ('of', 'IN'), ('our', 'PRP$'), ('locations', 'NNS'), ('were', 'VBD'), ('actually', 'RB'), ('actually', 'RB'), ('did', 'VBD'), (\"n't\", 'RB'), ('get', 'VB'), ('to', 'TO'), ('watch', 'VB'), ('it', 'PRP'), ('but', 'CC'), ('it', 'PRP'), (\"'s\", 'VBZ'), ('been', 'VBN'), ('on', 'IN'), ('my', 'PRP$'), ('list', 'NN'), ('to', 'TO'), ('tune', 'VB'), ('into', 'IN'), ('tonight', 'NN'), ('.', '.')], [('So', 'RB'), ('yeah', 'RB'), ('give', 'VB'), ('me', 'PRP'), ('a', 'DT'), ('chance', 'NN'), ('to', 'TO'), ('watch', 'VB'), ('the', 'DT'), ('video', 'NN'), ('first', 'RB'), ('so', 'RB'), ('I', 'PRP'), ('kinda', 'VBP'), ('have', 'VBP'), ('an', 'DT'), ('idea', 'NN'), ('.', '.')], [('You', 'PRP'), ('know', 'VBP'), ('what', 'WP'), ('all', 'DT'), ('about', 'RB'), ('and', 'CC'), ('then', 'RB'), ('yeah', 'VB'), ('I', 'PRP'), ('can', 'MD'), ('be', 'VB'), ('in', 'IN'), ('contact', 'NN'), ('with', 'IN'), ('you', 'PRP'), ('after', 'IN'), ('that', 'DT'), ('if', 'IN'), ('it', 'PRP'), (\"'s\", 'VBZ'), ('something', 'NN'), ('that', 'IN'), ('we', 'PRP'), ('would', 'MD'), ('like', 'VB'), ('to', 'TO'), ('do', 'VB'), ('that', 'DT'), ('work', 'NN'), ('for', 'IN'), ('you', 'PRP'), ('.', '.')], [('Okay', 'NNP'), ('.', '.')], [('Sounds', 'VBZ'), ('great', 'JJ'), ('.', '.')], [('Thank', 'NNP'), ('you', 'PRP'), ('for', 'IN'), ('the', 'DT'), ('call', 'NN'), ('.', '.')], [('Alright', 'NNP'), ('you', 'PRP'), ('too', 'RB'), ('bye-bye', 'JJ'), ('.', '.')], [('Hi', 'NNP'), ('I', 'PRP'), ('was', 'VBD'), ('looking', 'VBG'), ('to', 'TO'), ('speak', 'VB'), ('with', 'IN'), ('Katie', 'NNP'), ('Grace', 'NNP'), ('.', '.')], [('Sherry', 'NNP'), ('this', 'DT'), ('is', 'VBZ'), ('Catherine', 'NNP'), ('over', 'IN'), ('at', 'IN'), ('Tyler', 'NNP'), ('Tech', 'NNP'), ('.', '.')], [('Thanks', 'NNS'), ('.', '.')], [('Bye', 'NNP'), ('.', '.')], [('Hi', 'NNP'), ('this', 'DT'), ('is', 'VBZ'), ('Katie', 'NNP'), ('.', '.')], [('Hi', 'NNP'), ('this', 'DT'), ('is', 'VBZ'), ('Kevin', 'NNP'), ('over', 'IN'), ('at', 'IN'), ('Tyler', 'NNP'), ('Tech', 'NNP'), ('how', 'WRB'), ('you', 'PRP'), ('doing', 'VBG'), ('.', '.')], [('Yes', 'UH'), ('I', 'PRP'), ('just', 'RB'), ('wanted', 'VBD'), ('to', 'TO'), ('quickly', 'RB'), ('give', 'VB'), ('you', 'PRP'), ('a', 'DT'), ('call', 'NN'), ('I', 'PRP'), ('saw', 'VBD'), ('that', 'IN'), ('you', 'PRP'), ('attended', 'VBD'), ('our', 'PRP$'), ('webinar', 'NN'), ('earlier', 'RBR'), ('this', 'DT'), ('week', 'NN'), ('.', '.')], [('The', 'DT'), ('secret', 'JJ'), ('to', 'TO'), ('Edward', 'NNP'), ('Facebook', 'NNP'), ('looking', 'VBG'), ('to', 'TO'), ('slay', 'VB'), ('our', 'PRP$'), ('live', 'JJ'), ('okay', 'NN'), ('.', '.')], [('Okay', 'NNP'), ('.', '.')], [('Okay', 'NNP'), ('great', 'JJ'), ('.', '.')], [('Yeah', 'UH'), ('absolutely', 'RB'), ('I', 'PRP'), ('wanted', 'VBD'), ('to', 'TO'), ('definitely', 'RB'), ('see', 'VB'), ('if', 'IN'), ('you', 'PRP'), ('did', 'VBD'), (\"n't\", 'RB'), ('have', 'VB'), ('a', 'DT'), ('chance', 'NN'), ('or', 'CC'), ('if', 'IN'), ('you', 'PRP'), ('plan', 'VBP'), ('on', 'IN'), ('it', 'PRP'), ('or', 'CC'), ('if', 'IN'), ('you', 'PRP'), ('were', 'VBD'), ('you', 'PRP'), ('know', 'VBP'), ('interested', 'JJ'), ('in', 'IN'), ('kind', 'NN'), ('of', 'IN'), ('learning', 'VBG'), ('more', 'JJR'), ('about', 'IN'), ('our', 'PRP$'), ('clinic', 'JJ'), ('analytics', 'NNS'), ('platform', 'NN'), ('and', 'CC'), ('everything', 'NN'), ('if', 'IN'), ('you', 'PRP'), (\"'re\", 'VBP'), ('not', 'RB'), ('already', 'RB'), ('doing', 'VBG'), ('so', 'RB'), ('for', 'IN'), ('your', 'PRP$'), ('clients', 'NNS'), ('or', 'CC'), ('if', 'IN'), ('you', 'PRP'), ('wanted', 'VBD'), ('to', 'TO'), ('just', 'RB'), ('you', 'PRP'), ('know', 'VBP'), ('have', 'VBP'), ('an', 'DT'), ('discovery', 'NN'), ('call', 'NN'), ('next', 'JJ'), ('week', 'NN'), ('or', 'CC'), ('the', 'DT'), ('demo', 'NN'), ('just', 'RB'), ('to', 'TO'), ('see', 'VB'), ('you', 'PRP'), ('and', 'CC'), ('get', 'VB'), ('a', 'DT'), ('better', 'JJR'), ('understanding', 'VBG'), ('the', 'DT'), ('right', 'JJ'), ('way', 'NN'), ('.', '.')], [('Okay', 'NNP'), ('.', '.')], [('Absolutely', 'RB'), ('then', 'RB'), ('I', 'PRP'), (\"'ll\", 'MD'), ('I', 'PRP'), (\"'ll\", 'MD'), ('send', 'VB'), ('you', 'PRP'), ('perfect', 'VBP'), ('I', 'PRP'), (\"'ll\", 'MD'), ('send', 'VB'), ('you', 'PRP'), ('a', 'DT'), ('quick', 'JJ'), ('e-mail', 'NN'), ('with', 'IN'), ('my', 'PRP$'), ('contact', 'NN'), ('information', 'NN'), ('and', 'CC'), ('then', 'RB'), ('like', 'IN'), ('you', 'PRP'), ('said', 'VBD'), ('just', 'RB'), ('follow', 'VBN'), ('up', 'RP'), ('next', 'JJ'), ('week', 'NN'), ('if', 'IN'), ('that', 'DT'), (\"'s\", 'VBZ'), ('something', 'NN'), ('you', 'PRP'), ('wan', 'VBP'), ('na', 'JJ'), ('continue', 'NN'), ('discussing', 'VBG'), ('.', '.')], [('Also', 'RB'), ('have', 'VBP'), ('a', 'DT'), ('great', 'JJ'), ('weekend', 'NN'), ('.', '.')], [('Thanks', 'NNS'), ('bye', 'NN'), ('.', '.')], [('Hello', 'NNP'), ('the', 'DT'), ('person', 'NN'), ('at', 'IN'), ('extension', 'NN'), ('one', 'CD'), ('zero', 'NN'), ('zero', 'NN'), ('zero', 'NN'), ('zero', 'NN'), ('is', 'VBZ'), ('unavailable', 'JJ'), ('please', 'NN'), ('leave', 'VB'), ('your', 'PRP$'), ('message', 'NN'), ('after', 'IN'), ('the', 'DT'), ('tone', 'NN'), ('.', '.')], [('I', 'PRP'), ('just', 'RB'), ('need', 'VB'), ('to', 'TO'), ('call', 'VB'), ('.', '.')], [('I', 'PRP'), (\"'m\", 'VBP'), ('sorry', 'JJ'), ('I', 'PRP'), ('was', 'VBD'), ('last', 'JJ'), ('night', 'NN'), ('.', '.')], [('It', 'PRP'), ('was', 'VBD'), ('the', 'DT'), ('first', 'JJ'), ('name', 'NN'), ('.', '.')], [('Sorry', 'NNP'), ('now', 'RB'), ('that', 'IN'), ('you', 'PRP'), ('know', 'VBP'), ('what', 'WP'), ('department', 'NN'), ('she', 'PRP'), ('was', 'VBD'), ('in', 'IN'), ('.', '.')], [('Okay', 'NNP'), ('.', '.')], [('One', 'CD'), ('moment', 'NN'), ('yeah', 'NN'), ('you', 'PRP'), ('okay', 'VBP'), ('thanks', 'NNS'), ('for', 'IN'), ('holding', 'VBG'), ('sir', 'NN'), ('so', 'IN'), ('I', 'PRP'), (\"'m\", 'VBP'), ('go', 'JJ'), ('ahead', 'RB'), ('and', 'CC'), ('transfer', 'VB'), ('you', 'PRP'), ('over', 'IN'), ('to', 'TO'), ('the', 'DT'), ('marketing', 'NN'), ('department', 'NN'), ('.', '.')], [('That', 'DT'), ('way', 'NN'), ('they', 'PRP'), (\"'ll\", 'MD'), ('be', 'VB'), ('ready', 'JJ'), ('on', 'IN'), ('extension', 'NN'), ('connect', 'NN'), ('you', 'PRP'), ('with', 'IN'), ('her', 'PRP$'), ('extension', 'NN'), ('because', 'IN'), ('I', 'PRP'), (\"'m\", 'VBP'), ('not', 'RB'), ('seeing', 'VBG'), ('her', 'PRP$'), ('extension', 'NN'), ('here', 'RB'), ('the', 'DT'), ('one', 'CD'), ('moment', 'NN'), ('.', '.')], [('Hello', 'NNP'), ('.', '.')], [('Irvin', 'NNP'), ('this', 'DT'), ('is', 'VBZ'), ('Marcella', 'NNP'), ('.', '.')], [('I', 'PRP'), ('believe', 'VBP'), ('her', 'PRP$'), ('extension', 'NN'), ('is', 'VBZ'), ('three', 'CD'), ('four', 'CD'), ('one', 'CD'), ('eight', 'CD'), ('.', '.')], [('She', 'PRP'), (\"'s\", 'VBZ'), ('over', 'RP'), ('due', 'JJ'), ('for', 'IN'), ('March', 'NNP'), ('.', '.')], [('I', 'PRP'), ('do', 'VBP'), (\"n't\", 'RB'), ('have', 'VB'), ('a', 'DT'), ('dispatch', 'NN'), ('for', 'IN'), ('my', 'PRP$'), ('phone', 'NN'), ('is', 'VBZ'), ('forwarded', 'VBN'), ('to', 'TO'), ('my', 'PRP$'), ('cell', 'NN'), ('phone', 'NN'), ('number', 'NN'), ('.', '.')], [('If', 'IN'), ('this', 'DT'), ('is', 'VBZ'), ('suitable', 'JJ'), ('do', 'VBP'), ('you', 'PRP'), ('know', 'VB'), ('who', 'WP'), ('you', 'PRP'), ('spoke', 'VBP'), ('to', 'TO'), ('.', '.')], [('Yeah', 'NN'), ('I', 'PRP'), (\"'m\", 'VBP'), ('in', 'IN'), ('voices', 'NNS'), ('man', 'NN'), ('.', '.')], [('I', 'PRP'), (\"'m\", 'VBP'), ('in', 'IN'), ('Network', 'NNP'), ('.', '.')], [('I', 'PRP'), ('got', 'VBD'), ('my', 'PRP$'), ('teeth', 'NNS'), ('.', '.')], [('I', 'PRP'), (\"'m\", 'VBP'), ('not', 'RB'), ('at', 'IN'), ('my', 'PRP$'), ('desk', 'NN'), ('phone', 'NN'), ('so', 'RB'), ('I', 'PRP'), ('just', 'RB'), ('got', 'VBD'), ('forwarded', 'VBN'), ('to', 'TO'), ('my', 'PRP$'), ('cell', 'NN'), ('phone', 'NN'), ('I', 'PRP'), (\"'m\", 'VBP'), ('actually', 'RB'), ('in', 'IN'), ('the', 'DT'), ('data', 'NN'), ('center', 'NN'), ('.', '.')], [('No', 'DT'), ('problem', 'NN'), ('before', 'IN'), ('you', 'PRP'), ('go', 'VBP'), ('man', 'NN'), ('try', 'VBP'), ('three', 'CD'), ('four', 'CD'), ('one', 'CD'), ('eight', 'CD'), ('and', 'CC'), ('if', 'IN'), ('that', 'DT'), ('does', 'VBZ'), (\"n't\", 'RB'), ('work', 'VB'), ('.', '.')], [('Three', 'CD'), ('four', 'CD'), ('four', 'CD'), ('eight', 'CD'), ('two', 'CD'), ('nine', 'CD'), ('.', '.')], [('Hi', 'NNP'), ('good', 'JJ'), ('morning', 'NN'), ('and', 'CC'), ('Happy', 'JJ'), ('Friday', 'NNP'), ('this', 'DT'), ('is', 'VBZ'), ('Matt', 'NNP'), ('calling', 'VBG'), ('for', 'IN'), ('Nadia', 'NNP'), ('Austin', 'NNP'), ('.', '.')], [('Austin', 'NNP'), ('H', 'NNP'), ('a', 'DT'), ('S', 'NNP'), ('a', 'DT'), ('and', 'CC'), ('E', 'NNP'), ('I', 'PRP'), ('and', 'CC'), ('Nadia', 'NNP'), ('and', 'CC'), ('a', 'DT'), ('DIA', 'NNP'), ('.', '.')], [('I', 'PRP'), ('guess', 'VBP'), ('marketing', 'VBG'), ('or', 'CC'), ('digital', 'JJ'), ('digital', 'JJ'), ('projects', 'NNS'), ('okay', 'VBP'), ('hey', 'NN'), ('I', 'PRP'), (\"'m\", 'VBP'), ('trying', 'VBG'), ('to', 'TO'), ('get', 'VB'), ('in', 'IN'), ('touch', 'NN'), ('with', 'IN'), ('Nadia', 'NNP'), ('Hoss', 'NNP'), ('I', 'PRP'), ('mean', 'VBP'), ('.', '.')], [('Alright', 'NNP'), ('three', 'CD'), ('four', 'CD'), ('one', 'CD'), ('eight', 'CD'), ('.', '.')], [('Would', 'MD'), ('you', 'PRP'), ('beautiful', 'VB'), ('me', 'PRP'), ('through', 'IN'), ('to', 'TO'), ('her', 'PRP$'), ('.', '.')], [('Okay', 'NNP'), ('.', '.')], [('Are', 'NNP'), ('you', 'PRP'), ('in', 'IN'), ('the', 'DT'), ('marketing', 'NN'), ('department', 'NN'), ('because', 'IN'), ('I', 'PRP'), ('just', 'RB'), ('got', 'VBD'), ('forwarded', 'VBN'), ('to', 'TO'), ('you', 'PRP'), ('and', 'CC'), ('was', 'VBD'), ('told', 'VBN'), ('that', 'IN'), ('for', 'IN'), ('whatever', 'WDT'), ('reason', 'NN'), ('you', 'PRP'), ('were', 'VBD'), ('gon', 'VBG'), ('na', 'TO'), ('put', 'VB'), ('me', 'PRP'), ('through', 'IN'), ('somewhere', 'RB'), ('further', 'JJ'), ('notice', 'NN'), ('think', 'NN'), ('called', 'VBD'), ('the', 'DT'), ('corporate', 'JJ'), ('line', 'NN'), ('.', '.')], [('Okay', 'NNP'), ('.', '.')], [('Alright', 'NNP'), ('.', '.')], [('Appreciate', 'NNP'), ('time', 'NN'), ('do', 'VB'), ('happy', 'JJ'), ('Friday', 'NNP'), ('.', '.')], [('Three', 'CD'), ('four', 'CD'), ('four', 'CD'), ('eight', 'CD'), ('.', '.')], [('Alright', 'NNP'), ('thank', 'NN'), ('you', 'PRP'), ('so', 'RB'), ('much', 'RB'), ('have', 'VB'), ('a', 'DT'), ('good', 'JJ'), ('one', 'CD'), ('.', '.')], [('Hello', 'NNP'), ('and', 'CC'), ('thank', 'VB'), ('you', 'PRP'), ('for', 'IN'), ('calling', 'VBG'), ('City', 'NNP'), ('Wide', 'NNP'), ('.', '.')], [('If', 'IN'), ('you', 'PRP'), ('know', 'VBP'), ('the', 'DT'), ('extension', 'NN'), ('you', 'PRP'), ('were', 'VBD'), ('trying', 'VBG'), ('to', 'TO'), ('reach', 'VB'), ('you', 'PRP'), ('may', 'MD'), ('dial', 'VB'), ('it', 'PRP'), ('at', 'IN'), ('any', 'DT'), ('time', 'NN'), ('or', 'CC'), ('Mike', 'NNP'), ('to', 'TO'), ('.', '.')], [('Hello', 'NNP'), ('.', '.')], [('I', 'PRP'), (\"'m\", 'VBP'), ('doing', 'VBG'), ('fine', 'NN'), ('.', '.')], [('Hello', 'NNP'), ('I', 'PRP'), (\"'m\", 'VBP'), ('not', 'RB'), ('sure', 'JJ'), ('exactly', 'RB'), ('what', 'WP'), ('your', 'PRP$'), ('question', 'NN'), ('is', 'VBZ'), ('how', 'WRB'), ('are', 'VBP'), ('we', 'PRP'), ('training', 'VBG'), ('people', 'NNS'), ('around', 'IN'), ('those', 'DT'), ('phone', 'NN'), ('calls', 'NNS'), ('.', '.')], [('Yeah', 'UH'), ('so', 'RB'), ('inbound', 'JJ'), ('phone', 'NN'), ('calls', 'NNS'), ('.', '.')], [('You', 'PRP'), ('know', 'VBP'), ('the', 'DT'), ('likelihood', 'NN'), ('of', 'IN'), ('us', 'PRP'), ('getting', 'VBG'), ('an', 'DT'), ('inbound', 'NN'), ('phone', 'NN'), ('calls', 'VBZ'), ('about', 'IN'), ('the', 'DT'), ('files', 'NNS'), ('no_one', 'RB'), ('.', '.')], [('Most', 'JJS'), ('of', 'IN'), ('our', 'PRP$'), ('efforts', 'NNS'), ('are', 'VBP'), ('done', 'VBN'), ('on', 'IN'), ('an', 'DT'), ('outbound', 'JJ'), ('basis', 'NN'), ('.', '.')], [('So', 'IN'), ('we', 'PRP'), ('train', 'VBP'), ('our', 'PRP$'), ('sales', 'NNS'), ('people', 'NNS'), ('pretty', 'RB'), ('extensively', 'RB'), ('on', 'IN'), ('some', 'DT'), ('messaging', 'NN'), ('so', 'IN'), ('I', 'PRP'), (\"'m\", 'VBP'), ('not', 'RB'), ('exactly', 'RB'), ('sure', 'JJ'), ('how', 'WRB'), ('that', 'DT'), ('would', 'MD'), ('applied', 'VB'), ('to', 'TO'), ('the', 'DT'), ('dialog', 'NN'), ('Tech', 'NNP'), ('.', '.')], [('Yeah', 'UH'), ('okay', 'NN'), ('.', '.')], [('Love', 'NNP'), ('you', 'PRP'), ('bud', 'VBP'), ('.', '.')], [('Bye-bye', 'NNP'), ('.', '.')], [('Hi', 'NNP'), ('Mike', 'NNP'), ('this', 'DT'), ('is', 'VBZ'), ('Daniel', 'NNP'), ('Gory', 'NNP'), ('how', 'WRB'), ('are', 'VBP'), ('you', 'PRP'), ('.', '.')], [('Well', 'RB'), ('thanks', 'NNS'), ('.', '.')], [('The', 'DT'), ('reason', 'NN'), ('for', 'IN'), ('my', 'PRP$'), ('call', 'NN'), ('is', 'VBZ'), ('because', 'IN'), ('from', 'IN'), ('what', 'WP'), ('I', 'PRP'), ('understand', 'VBP'), ('.', '.')], [('I', 'PRP'), ('do', 'VBP'), ('the', 'DT'), ('business', 'NN'), ('performance', 'NN'), ('coach', 'NN'), ('at', 'IN'), ('City', 'NNP'), ('Wide', 'NNP'), ('is', 'VBZ'), ('still', 'RB'), ('the', 'DT'), ('case', 'NN'), ('today', 'NN'), ('.', '.')], [('Great', 'NNP'), ('.', '.')], [('So', 'RB'), ('I', 'PRP'), (\"'m\", 'VBP'), ('currently', 'RB'), ('on', 'IN'), ('City', 'NNP'), ('Wise', 'NNP'), ('website', 'NN'), ('and', 'CC'), ('I', 'PRP'), ('noticed', 'VBD'), ('when', 'WRB'), ('I', 'PRP'), ('entered', 'VBD'), ('my', 'PRP$'), ('ZIP_Code', 'NN'), ('.', '.')], [('I', 'PRP'), ('live', 'VBP'), ('in', 'IN'), ('Illinois', 'NNP'), ('.', '.')], [('In', 'IN'), ('a', 'DT'), ('North', 'NNP'), ('Brook', 'NNP'), ('location', 'NN'), ('showed', 'VBD'), ('up', 'RP'), ('.', '.')], [('There', 'EX'), (\"'s\", 'VBZ'), ('an', 'DT'), ('eight', 'CD'), ('four', 'CD'), ('seven', 'CD'), ('two', 'CD'), ('three', 'CD'), ('nine', 'CD'), ('phone', 'NN'), ('number', 'NN'), ('listed', 'VBN'), ('at', 'IN'), ('the', 'DT'), ('top', 'JJ'), ('right', 'NN'), ('.', '.')], [('I', 'PRP'), ('was', 'VBD'), ('wondering', 'VBG'), ('how', 'WRB'), ('are', 'VBP'), ('you', 'PRP'), ('currently', 'RB'), ('training', 'VBG'), ('your', 'PRP$'), ('franchise', 'NN'), ('locations', 'NNS'), ('and', 'CC'), ('what', 'WP'), ('insights', 'NNS'), ('are', 'VBP'), ('currently', 'RB'), ('capturing', 'VBG'), ('around', 'RP'), ('those', 'DT'), ('phone', 'NN'), ('calls', 'VBZ'), ('yeah', 'UH'), ('so', 'IN'), ('I', 'PRP'), ('work', 'VBP'), ('for', 'IN'), ('a', 'DT'), ('company', 'NN'), ('called', 'VBN'), ('dialog', 'NN'), ('Tech', 'NNP'), ('and', 'CC'), ('we', 'PRP'), ('partnered', 'VBD'), ('with', 'IN'), ('several', 'JJ'), ('franchises', 'NNS'), ('and', 'CC'), ('helping', 'VBG'), ('them', 'PRP'), ('have', 'VBP'), ('greater', 'JJR'), ('insight', 'VBN'), ('into', 'IN'), ('words', 'NNS'), ('that', 'WDT'), ('are', 'VBP'), ('resonate', 'VBN'), ('in', 'IN'), ('most', 'JJS'), ('with', 'IN'), ('customers', 'NNS'), ('over', 'IN'), ('the', 'DT'), ('phone', 'NN'), ('.', '.')], [('I', 'PRP'), ('can', 'MD'), ('identify', 'VB'), ('missed', 'JJ'), ('opportunities', 'NNS'), ('and', 'CC'), ('it', 'PRP'), ('allows', 'VBZ'), ('marketers', 'NNS'), ('the', 'DT'), ('opportunity', 'NN'), ('to', 'TO'), ('drive', 'VB'), ('more', 'JJR'), ('of', 'IN'), ('the', 'DT'), ('best', 'JJS'), ('calls', 'NNS'), ('through', 'IN'), ('their', 'PRP$'), ('marketing', 'NN'), ('efforts', 'NNS'), ('.', '.')], [('I', 'PRP'), (\"'m\", 'VBP'), ('just', 'RB'), ('was', 'VBD'), ('wondering', 'VBG'), ('what', 'WP'), ('level', 'NN'), ('of', 'IN'), ('insights', 'NNS'), ('you', 'PRP'), ('currently', 'RB'), ('really', 'RB'), ('capturing', 'VBG'), ('around', 'IN'), ('the', 'DT'), ('those', 'DT'), ('phone', 'NN'), ('calls', 'VBZ'), ('yesterday', 'NN'), ('the', 'DT'), ('different', 'JJ'), ('franchise', 'NN'), ('location', 'NN'), ('.', '.')], [('Got', 'NNP'), ('you', 'PRP'), ('yeah', 'VBP'), ('I', 'PRP'), ('just', 'RB'), ('noticed', 'VBD'), ('the', 'DT'), ('phone', 'NN'), ('number', 'NN'), ('but', 'CC'), ('if', 'IN'), ('you', 'PRP'), (\"'re\", 'VBP'), ('only', 'RB'), ('can', 'MD'), ('I', 'PRP'), ('call', 'VB'), ('every', 'DT'), ('thousand', 'NN'), ('in', 'IN'), ('the', 'DT'), ('primary', 'JJ'), ('thousand', 'NN'), ('out', 'RP'), ('reaches', 'NNS'), ('.', '.')], [('I', 'PRP'), ('probably', 'RB'), ('would', 'MD'), ('be', 'VB'), ('the', 'DT'), ('best', 'JJS'), ('fit', 'NN'), ('but', 'CC'), ('thank', 'NN'), ('you', 'PRP'), ('Rick', 'NNP'), ('.', '.')], [('I', 'PRP'), ('know', 'VBP'), ('that', 'DT'), ('Mike', 'NNP'), ('.', '.')], [('Have', 'VBP'), ('a', 'DT'), ('great', 'JJ'), ('rest', 'NN'), ('.', '.')], [('Bye', 'NNP'), ('.', '.')], [('This', 'DT'), ('is', 'VBZ'), ('available', 'JJ'), ('.', '.')], [('This', 'DT'), ('is', 'VBZ'), ('Chris', 'NNP'), ('.', '.')], [('I', 'PRP'), ('message', 'VBP'), ('.', '.')], [('Thank', 'NN'), ('you', 'PRP'), ('this', 'DT'), ('is', 'VBZ'), ('Chris', 'NNP'), ('.', '.')], [('David', 'NNP'), ('said', 'VBD'), ('give', 'VB'), ('you', 'PRP'), ('a', 'DT'), ('call', 'NN'), ('to', 'TO'), ('look', 'VB'), ('for', 'IN'), ('some', 'DT'), ('numbers', 'NNS'), ('.', '.')], [('If', 'IN'), ('you', 'PRP'), ('have', 'VBP'), ('a', 'DT'), ('minute', 'NN'), ('.', '.')], [('Alright', 'NNP'), ('.', '.')], [('You', 'PRP'), ('need', 'VBP'), ('to', 'TO'), ('find', 'VB'), ('my', 'PRP$'), ('account', 'NN'), ('.', '.')], [('Ims', 'NNP'), ('relocation', 'NN'), ('.', '.')], [('I', 'PRP'), ('believe', 'VBP'), ('it', 'PRP'), (\"'s\", 'VBZ'), ('under', 'IN'), ('I', 'PRP'), ('think', 'VBP'), ('your', 'PRP$'), ('call', 'NN'), ('tracking', 'NN'), ('for', 'IN'), ('IMS', 'NNP'), ('relocation', 'NN'), ('.', '.')], [('Alright', 'NNP'), ('.', '.')], [('I', 'PRP'), (\"'m\", 'VBP'), ('trying', 'VBG'), ('to', 'TO'), ('get', 'VB'), ('my', 'PRP$'), ('fifteen', 'JJ'), ('numbers', 'NNS'), ('.', '.')], [('I', 'PRP'), (\"'m\", 'VBP'), ('really', 'RB'), ('looking', 'VBG'), ('for', 'IN'), ('two', 'CD'), ('one', 'CD'), ('four', 'CD'), ('nine', 'CD'), ('seven', 'CD'), ('two', 'CD'), ('.', '.')], [('Those', 'DT'), ('are', 'VBP'), ('the', 'DT'), ('main', 'JJ'), ('ones', 'NNS'), ('.', '.')], [('Just', 'RB'), ('looking', 'VBG'), ('for', 'IN'), ('easy', 'JJ'), ('numbers', 'NNS'), ('eleven', 'RB'), ('eleven', 'RB'), ('twelve', 'VB'), ('twelve', 'NN'), ('ten', 'NNS'), ('ten', 'VBP'), ('oh', 'JJ'), ('one', 'CD'), ('.', '.')], [('Sol', 'NNP'), ('twos', 'NN'), ('or', 'CC'), ('threes', 'NNS'), ('or', 'CC'), ('force', 'NN'), ('.', '.')], [('This', 'DT'), ('easy', 'JJ'), ('to', 'TO'), ('memorize', 'VB'), ('number', 'NN'), ('.', '.')], [('If', 'IN'), ('you', 'PRP'), ('want', 'VBP'), ('take', 'VB'), ('some', 'DT'), ('time', 'NN'), ('and', 'CC'), ('you', 'PRP'), ('just', 'RB'), ('wan', 'VB'), ('na', 'TO'), ('e-mail', 'JJ'), ('me', 'PRP'), ('or', 'CC'), ('call', 'VB'), ('me', 'PRP'), ('or', 'CC'), ('how', 'WRB'), ('does', 'VBZ'), ('that', 'DT'), ('work', 'VB'), ('what', 'WP'), (\"'s\", 'VBZ'), ('easiest', 'JJS'), ('.', '.')], [('How', 'WRB'), ('many', 'JJ'), ('DC', 'NNP'), ('in', 'IN'), ('my', 'PRP$'), ('counter', 'NN'), ('I', 'PRP'), ('do', 'VBP'), ('have', 'VB'), ('three', 'CD'), ('or', 'CC'), ('four', 'CD'), ('.', '.')], [('I', 'PRP'), ('know', 'VBP'), ('you', 'PRP'), ('put', 'VBP'), ('a', 'DT'), ('couple', 'NN'), ('in', 'IN'), ('there', 'RB'), ('yesterday', 'NN'), ('to', 'TO'), ('get', 'VB'), ('our', 'PRP$'), ('SCO', 'NNP'), ('rolling', 'NN'), ('or', 'CC'), ('all', 'DT'), ('of', 'IN'), ('them', 'PRP'), ('are', 'VBP'), ('four', 'CD'), ('six', 'CD'), ('nine', 'CD'), ('two', 'CD'), ('six', 'CD'), ('six', 'CD'), ('oh', 'NNS'), ('four', 'CD'), ('six', 'CD'), ('nine', 'CD'), ('two', 'CD'), ('two', 'CD'), ('two', 'CD'), ('zero', 'CD'), ('two', 'CD'), ('two', 'CD'), ('two', 'CD'), ('one', 'CD'), ('twenty', 'NN'), ('seven', 'CD'), ('twenty', 'NN'), ('six', 'CD'), ('and', 'CC'), ('twenty', 'VB'), ('seven', 'CD'), ('twenty', 'JJ'), ('six', 'CD'), ('.', '.')], [('I', 'PRP'), ('was', 'VBD'), ('trying', 'VBG'), ('to', 'TO'), ('find', 'VB'), ('something', 'NN'), ('close', 'RB'), ('.', '.')], [('I', 'PRP'), ('thought', 'VBD'), ('we', 'PRP'), ('did', 'VBD'), ('it', 'PRP'), ('two', 'CD'), ('one', 'CD'), ('one', 'CD'), ('two', 'CD'), ('number', 'NN'), ('.', '.')], [('But', 'CC'), ('yes', 'UH'), ('oh', 'RB'), ('four', 'CD'), ('six', 'CD'), ('nine', 'CD'), ('nine', 'CD'), ('one', 'CD'), ('two', 'CD'), ('two', 'CD'), ('oh', 'JJ'), ('two', 'CD'), ('.', '.')], [('Got', 'NNP'), ('you', 'PRP'), ('.', '.')], [('Okay', 'NNP'), ('.', '.')], [('Yeah', 'UH'), ('if', 'IN'), ('you', 'PRP'), ('could', 'MD'), ('let', 'VB'), ('me', 'PRP'), ('know', 'VB'), ('what', 'WP'), ('you', 'PRP'), ('can', 'MD'), ('come', 'VB'), ('up', 'RP'), ('with', 'IN'), ('.', '.')], [('I', 'PRP'), (\"'m\", 'VBP'), ('looking', 'VBG'), ('for', 'IN'), ('I', 'PRP'), ('guess', 'VBP'), ('you', 'PRP'), ('said', 'VBD'), ('there', 'EX'), (\"'s\", 'VBZ'), ('four', 'CD'), ('in', 'IN'), ('there', 'RB'), ('three', 'CD'), ('.', '.')], [('So', 'RB'), ('eleven', 'RB'), ('more', 'JJR'), ('which', 'WDT'), ('was', 'VBD'), ('my', 'PRP$'), ('account', 'NN'), ('fifteen', 'NN'), ('.', '.')], [('I', 'PRP'), ('believe', 'VBP'), ('.', '.')], [('So', 'IN'), ('what', 'WP'), ('I', 'PRP'), (\"'m\", 'VBP'), ('looking', 'VBG'), ('for', 'IN'), ('.', '.')], [('Let', 'VB'), ('me', 'PRP'), ('let', 'VB'), ('me', 'PRP'), ('do', 'VB'), ('two', 'CD'), ('eight', 'CD'), ('one', 'CD'), ('seven', 'CD'), ('and', 'CC'), ('and', 'CC'), ('if', 'IN'), ('one', 'CD'), ('of', 'IN'), ('them', 'PRP'), ('can', 'MD'), ('be', 'VB'), ('ending', 'VBG'), ('with', 'IN'), ('at', 'IN'), ('two', 'CD'), ('one', 'CD'), ('one', 'CD'), ('two', 'CD'), ('and', 'CC'), ('then', 'RB'), ('eight', 'CD'), ('one', 'CD'), ('seven', 'CD'), ('.', '.')], [('I', 'PRP'), (\"'m\", 'VBP'), ('at', 'IN'), ('eight', 'CD'), ('one', 'CD'), ('seven', 'CD'), ('with', 'IN'), ('twenty', 'JJ'), ('seven', 'CD'), ('twenty', 'JJ'), ('six', 'CD'), ('on', 'IN'), ('the', 'DT'), ('end', 'NN'), ('of', 'IN'), ('it', 'PRP'), ('.', '.')], [('If', 'IN'), ('possible', 'JJ'), ('and', 'CC'), ('then', 'RB'), ('half', 'NN'), ('and', 'CC'), ('half', 'NN'), ('on', 'IN'), ('the', 'DT'), ('rest', 'NN'), ('I', 'PRP'), ('do', 'VBP'), (\"n't\", 'RB'), ('know', 'VB'), ('if', 'IN'), ('that', 'DT'), ('mouth', 'NN'), ('hurts', 'VBZ'), ('.', '.')], [('So', 'RB'), ('give', 'JJ'), ('us', 'PRP'), ('something', 'NN'), ('easy', 'JJ'), ('.', '.')], [('Yeah', 'UH'), ('sure', 'JJ'), ('you', 'PRP'), ('got', 'VBD'), ('my', 'PRP$'), ('e-mail', 'JJ'), ('signature', 'NN'), ('at', 'IN'), ('IMS', 'NNP'), ('relocation', 'NN'), ('.com', 'NNP'), ('perfect', 'NN'), ('.', '.')], [('Thanks', 'NNS'), ('sir', 'NN'), ('.', '.')], [('Bye', 'NNP'), ('.', '.')], [('Hello', 'NNP'), ('dialog', 'NN'), ('Tech', 'NNP'), ('.', '.')], [('The', 'DT'), ('leader', 'NN'), ('of', 'IN'), ('connecting', 'VBG'), ('your', 'PRP$'), ('call', 'NN'), ('.', '.')], [('This', 'DT'), ('call', 'NN'), ('maybe', 'RB'), ('monitored', 'VBD'), ('or', 'CC'), ('recorded', 'VBN'), ('for', 'IN'), ('quality', 'NN'), ('purposes', 'NNS'), ('.', '.')], [('Hey', 'NNP'), ('regarding', 'VBG'), ('Violet', 'NNP'), ('Bailey', 'NNP'), ('.', '.')], [('How', 'WRB'), ('can', 'MD'), ('I', 'PRP'), ('help', 'VB'), ('Jeremy', 'NNP'), ('Thomas', 'NNP'), ('calling', 'VBG'), ('.', '.')], [('What', 'WP'), ('company', 'NN'), ('or', 'CC'), ('you', 'PRP'), ('have', 'VBP'), ('a', 'DT'), ('moment', 'NN'), ('it', 'PRP'), ('to', 'TO'), ('you', 'PRP'), ('.', '.')], [('I', 'PRP'), ('guess', 'VBP'), ('I', 'PRP'), (\"'m\", 'VBP'), ('transferring', 'VBG'), ('you', 'PRP'), ('now', 'RB'), ('hello', 'VBP'), ('yes', 'UH'), ('sure', 'JJ'), ('.', '.')], [('Yeah', 'UH'), ('okay', 'NN'), ('.', '.')], [('Three', 'CD'), ('seven', 'CD'), ('five', 'CD'), ('two', 'CD'), ('eight', 'CD'), ('four', 'CD'), ('for', 'IN'), ('area', 'NN'), ('code', 'NN'), ('is', 'VBZ'), ('two', 'CD'), ('one', 'CD'), ('four', 'CD'), ('nine', 'CD'), ('seven', 'CD'), ('two', 'CD'), ('.', '.')], [('Okay', 'NNP'), ('.', '.')], [('Yeah', 'UH'), ('.', '.')], [('What', 'WP'), ('I', 'PRP'), ('can', 'MD'), ('do', 'VB'), ('is', 'VBZ'), ('I', 'PRP'), (\"'ll\", 'MD'), ('be', 'VB'), ('a', 'DT'), ('case', 'NN'), ('from', 'IN'), ('a', 'DT'), ('number', 'NN'), ('that', 'IN'), ('you', 'PRP'), ('need', 'VBP'), ('from', 'IN'), ('both', 'DT'), ('area', 'NN'), ('codes', 'NNS'), ('.', '.')], [('Check', 'NNP'), ('.', '.')], [('So', 'RB'), ('there', 'EX'), ('is', 'VBZ'), ('four', 'CD'), ('with', 'IN'), ('the', 'DT'), ('area', 'NN'), ('code', 'NN'), ('four', 'CD'), ('six', 'CD'), ('nine', 'CD'), ('and', 'CC'), ('the', 'DT'), ('IMS', 'NNP'), ('relocation', 'NN'), ('account', 'NN'), ('yeah', 'NN'), ('this', 'DT'), ('is', 'VBZ'), ('four', 'CD'), ('six', 'CD'), ('nine', 'CD'), ('nine', 'CD'), ('one', 'CD'), ('.', '.')], [('Get', 'NNP'), ('back', 'RB'), ('.', '.')], [('Yes', 'UH'), ('for', 'IN'), ('now', 'RB'), ('currently', 'RB'), ('right', 'RB'), ('now', 'RB'), ('.', '.')], [('Let', 'VB'), ('me', 'PRP'), ('look', 'VB'), ('at', 'IN'), ('your', 'PRP$'), ('account', 'NN'), ('here', 'RB'), ('.', '.')], [('Yes', 'UH'), ('so', 'RB'), ('you', 'PRP'), ('have', 'VBP'), ('eleven', 'VBN'), ('more', 'JJR'), ('Locust', 'JJ'), ('address', 'NN'), ('.', '.')], [('So', 'RB'), ('you', 'PRP'), ('said', 'VBD'), ('you', 'PRP'), ('looking', 'VBG'), ('for', 'IN'), ('two', 'CD'), ('one', 'CD'), ('four', 'CD'), ('is', 'VBZ'), ('nine', 'CD'), ('seven', 'CD'), ('two', 'CD'), ('.', '.')], [('So', 'RB'), ('you', 'PRP'), ('want', 'VBP'), ('me', 'PRP'), ('to', 'TO'), ('do', 'VB'), ('like', 'IN'), ('six', 'CD'), ('and', 'CC'), ('five', 'CD'), ('or', 'CC'), ('five', 'CD'), ('and', 'CC'), ('five', 'CD'), ('and', 'CC'), ('just', 'RB'), ('have', 'VB'), ('that', 'DT'), ('one', 'CD'), ('.', '.')], [('Okay', 'NNP'), ('two', 'CD'), ('eight', 'CD'), ('one', 'CD'), ('seven', 'CD'), ('okay', 'NN'), ('.', '.')], [('Okay', 'NNP'), ('.', '.')], [('Half', 'NN'), ('and', 'CC'), ('half', 'NN'), ('for', 'IN'), ('.', '.')], [('So', 'RB'), ('yes', 'RB'), ('two', 'CD'), ('eight', 'CD'), ('one', 'CD'), ('seven', 'CD'), ('they', 'PRP'), ('will', 'MD'), ('be', 'VB'), ('doing', 'VBG'), ('.', '.')], [('So', 'RB'), ('if', 'IN'), ('we', 'PRP'), ('have', 'VBP'), ('eleven', 'VBN'), ('left', 'VBN'), ('so', 'RB'), ('would', 'MD'), ('be', 'VB'), ('like', 'IN'), ('five', 'CD'), ('and', 'CC'), ('four', 'CD'), ('.', '.')], [('Okay', 'NNP'), ('.', '.')], [('So', 'IN'), ('what', 'WP'), ('I', 'PRP'), (\"'ll\", 'MD'), ('do', 'VB'), ('is', 'VBZ'), ('if', 'IN'), ('if', 'IN'), ('I', 'PRP'), ('ca', 'MD'), (\"n't\", 'RB'), ('find', 'VB'), ('the', 'DT'), ('two', 'CD'), ('one', 'CD'), ('one', 'CD'), ('two', 'CD'), ('two', 'CD'), ('seven', 'CD'), ('two', 'CD'), ('six', 'CD'), ('.', '.')], [('I', 'PRP'), (\"'ll\", 'MD'), ('try', 'VB'), ('to', 'TO'), ('get', 'VB'), ('you', 'PRP'), ('some', 'DT'), ('easy', 'JJ'), ('remember', 'NN'), ('.', '.')], [('Yeah', 'UH'), ('like', 'IN'), ('if', 'IN'), ('it', 'PRP'), ('ends', 'VBZ'), ('in', 'IN'), ('like', 'JJ'), ('doubles', 'NNS'), ('like', 'IN'), ('sixteen', 'JJ'), ('sixteen', 'NN'), ('or', 'CC'), ('zero', 'NN'), ('zero', 'CD'), ('something', 'NN'), ('like', 'IN'), ('that', 'DT'), ('.', '.')], [('Okay', 'NNP'), ('.', '.')], [('Okay', 'NNP'), ('.', '.')], [('And', 'CC'), ('once', 'RB'), ('I', 'PRP'), ('get', 'VBP'), ('that', 'IN'), ('I', 'PRP'), (\"'ll\", 'MD'), ('I', 'PRP'), (\"'ll\", 'MD'), ('give', 'VB'), ('you', 'PRP'), ('a', 'DT'), ('e-mail', 'JJ'), ('.', '.')], [('I', 'PRP'), (\"'ll\", 'MD'), ('shoot', 'VB'), ('you', 'PRP'), ('an', 'DT'), ('e-mail', 'JJ'), ('with', 'IN'), ('all', 'PDT'), ('the', 'DT'), ('numbers', 'NNS'), ('in', 'IN'), ('the', 'DT'), ('e-mail', 'NN'), ('.', '.')], [('Make', 'NNP'), ('sure', 'JJ'), ('I', 'PRP'), ('got', 'VBD'), ('it', 'PRP'), ('and', 'CC'), ('yes', 'VB'), ('sir', 'NN'), ('I', 'PRP'), ('do', 'VBP'), ('.', '.')]] \n",
      "\n"
     ]
    }
   ],
   "source": [
    "processed_transcript = ie_preprocess(transcript)\n",
    "print('\\n\\nWORD,Parts of Speech:')\n",
    "print(processed_transcript, \"\\n\")\n"
   ]
  },
  {
   "cell_type": "markdown",
   "metadata": {},
   "source": [
    "#### The function below is similar to ie_preprocess, except that instead of assigning a part of speech to each word, it assigns either 'PERSON', 'GDP, or 'ORGANIZATION' to each word. "
   ]
  },
  {
   "cell_type": "markdown",
   "metadata": {},
   "source": [
    "#### The basic technique used for entity detection is chunking, which segments and labels multi-token sequences. The smaller boxes show the word-level tokenization and part-of-speech tagging, while the large boxes show higher-level chunking. Each of these larger boxes is called a chunk. Like tokenization, which omits whitespace, chunking usually selects a subset of the tokens. Also like tokenization, the pieces produced by a chunker do not overlap in the source text. ![alt text](data/chunking.png \"Chunking\")\n"
   ]
  },
  {
   "cell_type": "code",
   "execution_count": 5,
   "metadata": {},
   "outputs": [],
   "source": [
    "#assign either GDP, Person, or Organization to each word\n",
    "def extract_named_entries(document):\n",
    "    named_entities = []\n",
    "    sentences = ie_preprocess(document) \n",
    "    for tagged_sentences in sentences:\n",
    "        ne_chunked_sents = nltk.ne_chunk(tagged_sentences)\n",
    "        for tagged_tree in ne_chunked_sents:\n",
    "            if hasattr(tagged_tree, 'label'):\n",
    "                entity_name = ' '.join(c[0] for c in tagged_tree.leaves()) #\n",
    "                entity_type = tagged_tree.label() # get NE category\n",
    "                named_entities.append((entity_name, entity_type))\n",
    "    return named_entities"
   ]
  },
  {
   "cell_type": "markdown",
   "metadata": {},
   "source": [
    "#### Here we will call extract_named_entries() which gives an output of each word and its category."
   ]
  },
  {
   "cell_type": "code",
   "execution_count": 6,
   "metadata": {},
   "outputs": [
    {
     "name": "stdout",
     "output_type": "stream",
     "text": [
      "\n",
      "\n",
      "WORD, Category:\n",
      "[('REI', 'ORGANIZATION'), ('Please', 'GPE'), ('Sorry', 'PERSON'), ('Okay', 'GPE'), ('Hello', 'GPE'), ('Please', 'GPE'), ('Nolan Cross', 'PERSON'), ('Hey', 'PERSON'), ('Cross', 'GPE'), ('George', 'PERSON'), ('Mike Lang', 'PERSON'), ('Ray Slater', 'PERSON'), ('Kinda', 'GSP'), ('Weiss', 'GPE'), ('Bye', 'GPE'), ('Okay', 'GPE'), ('Brooke Weiss', 'PERSON'), ('Fine', 'GPE'), ('Okay', 'GPE'), ('Okay', 'GPE'), ('ASAP', 'ORGANIZATION'), ('Mel', 'PERSON'), ('Mel', 'ORGANIZATION'), ('Fargo', 'PERSON'), ('Bye', 'GPE'), ('Hello', 'GPE'), ('Tech', 'PERSON'), ('Tech', 'PERSON'), ('Okay', 'GPE'), ('Okay', 'GPE'), ('Okay', 'GPE'), ('Yeah', 'GPE'), ('Alright', 'GPE'), ('Bye', 'GPE'), ('Karen Lancaster', 'PERSON'), ('Security Care Network', 'ORGANIZATION'), ('Please', 'GPE'), ('Devon', 'PERSON'), ('Tech', 'PERSON'), ('Emergency', 'GPE'), ('Again', 'GPE'), ('Devon', 'ORGANIZATION'), ('Yancy', 'PERSON'), ('Kelly', 'PERSON'), ('Hello', 'GPE'), ('Please', 'GPE'), ('Taylor Neely', 'PERSON'), ('Hey', 'PERSON'), ('Taylor Neely', 'PERSON'), ('Hello', 'GPE'), ('Barry University', 'PERSON'), ('Please', 'GPE'), ('Please', 'GPE'), ('Hello', 'GPE'), ('Perry University', 'PERSON'), ('Kim', 'PERSON'), ('Brothers', 'ORGANIZATION'), ('Please', 'GPE'), ('Heather Corel', 'PERSON'), ('Speak', 'GPE'), ('Heather', 'PERSON'), ('Daniel Gory', 'PERSON'), ('Toll_Brothers', 'ORGANIZATION'), ('Google', 'GPE'), ('Tech', 'PERSON'), ('Thanks', 'GPE'), ('Hello', 'GPE'), ('Paul', 'PERSON'), ('Please', 'GPE'), ('Hello', 'GPE'), ('Reception', 'GPE'), ('American', 'GPE'), ('Please', 'GPE'), ('Hello', 'GPE'), ('Hello', 'GPE'), ('Hello', 'GPE'), ('Hello', 'GPE'), ('Hello', 'GPE'), ('Hello', 'GPE'), ('Hey', 'PERSON'), ('Jack', 'ORGANIZATION'), ('Catherine', 'PERSON'), ('Tech', 'PERSON'), ('Talk', 'GPE'), ('Google Edward', 'PERSON'), ('John', 'PERSON'), ('Okay', 'GPE'), ('Okay', 'GPE'), ('Gabriel', 'PERSON'), ('Okay', 'GPE'), ('Okay', 'GPE'), ('Okay', 'GPE'), ('Okay', 'GPE'), ('Okay', 'GPE'), ('Cool', 'GPE'), ('Jay Walsh', 'PERSON'), ('North_Side E', 'FACILITY'), ('Okay', 'GPE'), ('Brett', 'PERSON'), ('Rob', 'PERSON'), ('Okay', 'GPE'), ('Okay', 'GPE'), ('John', 'PERSON'), ('Okay', 'GPE'), ('John', 'PERSON'), ('Yeah', 'GPE'), ('Paul', 'PERSON'), ('Paul Mable', 'PERSON'), ('John', 'PERSON'), ('Rob', 'PERSON'), ('John', 'PERSON'), ('Alright', 'PERSON'), ('Alright', 'GPE'), ('Alright', 'GPE'), ('John', 'PERSON'), ('Alright', 'GPE'), ('Take', 'GPE'), ('Bye', 'GPE'), ('Simon Group', 'ORGANIZATION'), ('Okay', 'GPE'), ('Great', 'GPE'), ('Bye', 'GPE'), ('David', 'PERSON'), ('Alright', 'GPE'), ('Hey', 'PERSON'), ('Kelly', 'ORGANIZATION'), ('Okay', 'PERSON'), ('John Mall', 'PERSON'), ('Okay', 'GPE'), ('Google', 'GPE'), ('Edward', 'PERSON'), ('Okay', 'GPE'), ('Okay', 'GPE'), ('Hello', 'GPE'), ('Okay', 'GPE'), ('Okay', 'GPE'), ('Okay', 'PERSON'), ('Okay', 'GPE'), ('Okay', 'GPE'), ('Microsoft', 'ORGANIZATION'), ('Okay', 'GPE'), ('D', 'ORGANIZATION'), ('Okay', 'GPE'), ('Edwards', 'PERSON'), ('Cook', 'PERSON'), ('PPC', 'ORGANIZATION'), ('PPC', 'ORGANIZATION'), ('Okay', 'GPE'), ('Okay', 'GPE'), ('Bob', 'PERSON'), ('Edward', 'ORGANIZATION'), ('Alright', 'GPE'), ('Okay', 'GPE'), ('Okay', 'GPE'), ('Alright', 'GPE'), ('Awesome', 'GPE'), ('Bye', 'GPE'), ('Abel', 'PERSON'), ('North_Side N', 'FACILITY'), ('Okay', 'GPE'), ('Okay', 'GPE'), ('Okay', 'GPE'), ('Bye', 'GPE'), ('David', 'PERSON'), ('Gonzales', 'ORGANIZATION'), ('Kelly', 'PERSON'), ('Okay', 'GPE'), ('Okay', 'GPE'), ('Bye', 'GPE'), ('Bye', 'GPE'), ('Tech', 'PERSON'), ('Group', 'ORGANIZATION'), ('Feel', 'GPE'), ('Bangor', 'GPE'), ('Okay', 'GPE'), ('Than', 'GPE'), ('Alex', 'GPE'), ('Google', 'GPE'), ('John', 'PERSON'), ('Child', 'GPE'), ('Dental Care', 'ORGANIZATION'), ('Georgia', 'GPE'), ('Please', 'GPE'), ('Crystal', 'ORGANIZATION'), ('Alison', 'PERSON'), ('Hello', 'GPE'), ('Hello', 'GPE'), ('Hello', 'GPE'), ('Hey', 'PERSON'), ('Good', 'GPE'), ('Penn State University', 'PERSON'), ('Connie', 'PERSON'), ('Mama', 'GPE'), ('Hello', 'GPE'), ('Sorry', 'PERSON'), ('Record', 'GPE'), ('Hello', 'GPE'), ('Hi', 'GPE'), ('Heather', 'PERSON'), ('Hey', 'PERSON'), ('Daniel Gory', 'PERSON'), ('Reason', 'GPE'), ('Penn State', 'FACILITY'), ('Tech', 'PERSON'), ('University', 'ORGANIZATION'), ('Georgia', 'GPE'), ('Bye', 'GPE'), ('Hey', 'PERSON'), ('Ethan Allen', 'PERSON'), ('Eastern Time', 'LOCATION'), ('Danbury', 'ORGANIZATION'), ('Center', 'PERSON'), ('Ethan Allen', 'ORGANIZATION'), ('Ethan Alan', 'PERSON'), ('Hello', 'GPE'), ('Ethan', 'GPE'), ('Okay', 'GPE'), ('Hello', 'GPE'), ('Hello', 'GPE'), ('Avery Stacy Patino', 'PERSON'), ('Ethan', 'ORGANIZATION'), ('Please', 'GPE'), ('Please', 'GPE'), ('Happy', 'PERSON'), ('Matt', 'PERSON'), ('Stacy Dave Christina', 'PERSON'), ('IKEA', 'ORGANIZATION'), ('Awesome', 'GPE'), ('Hello', 'PERSON'), ('Gary Thompson', 'PERSON'), ('Laura', 'PERSON'), ('Hello', 'GPE'), ('Hello', 'GPE'), ('Hello', 'GPE'), ('Hello', 'GPE'), ('Hello', 'GPE'), ('Hello', 'GPE'), ('Hello', 'GPE'), ('Katie', 'PERSON'), ('Hello', 'GPE'), ('Okay', 'GPE'), ('Sounds', 'GPE'), ('Katie Grace', 'PERSON'), ('Sherry', 'GPE'), ('Catherine', 'PERSON'), ('Tyler Tech', 'FACILITY'), ('Thanks', 'GPE'), ('Bye', 'GPE'), ('Katie', 'PERSON'), ('Kevin', 'PERSON'), ('Tyler Tech', 'FACILITY'), ('Edward Facebook', 'PERSON'), ('Okay', 'GPE'), ('Okay', 'GPE'), ('Okay', 'GPE'), ('Thanks', 'GPE'), ('Sorry', 'PERSON'), ('Okay', 'GPE'), ('Hello', 'GPE'), ('Irvin', 'GPE'), ('Marcella', 'PERSON'), ('Network', 'GPE'), ('Happy', 'PERSON'), ('Matt', 'PERSON'), ('Nadia Austin', 'PERSON'), ('Austin', 'PERSON'), ('Nadia', 'GPE'), ('DIA', 'ORGANIZATION'), ('Nadia Hoss', 'PERSON'), ('Okay', 'GPE'), ('Okay', 'GPE'), ('Alright', 'GPE'), ('Appreciate', 'GPE'), ('Alright', 'GPE'), ('Hello', 'GPE'), ('City Wide', 'ORGANIZATION'), ('Mike', 'PERSON'), ('Hello', 'GPE'), ('Tech', 'PERSON'), ('Daniel Gory', 'PERSON'), ('City Wide', 'FACILITY'), ('Great', 'GPE'), ('City Wise', 'FACILITY'), ('ZIP_Code', 'ORGANIZATION'), ('Illinois', 'GPE'), ('North Brook', 'GPE'), ('Tech', 'PERSON'), ('Rick', 'PERSON'), ('Mike', 'PERSON'), ('Bye', 'GPE'), ('Chris', 'PERSON'), ('Thank', 'GPE'), ('Chris', 'PERSON'), ('David', 'PERSON'), ('Alright', 'GPE'), ('Ims', 'GPE'), ('IMS', 'ORGANIZATION'), ('Alright', 'GPE'), ('Sol', 'GPE'), ('SCO', 'ORGANIZATION'), ('Okay', 'GPE'), ('IMS', 'ORGANIZATION'), ('Thanks', 'GPE'), ('Bye', 'GPE'), ('Hello', 'GPE'), ('Tech', 'PERSON'), ('Violet Bailey', 'PERSON'), ('Jeremy Thomas', 'PERSON'), ('Okay', 'GPE'), ('Check', 'GPE'), ('IMS', 'ORGANIZATION'), ('Okay', 'GPE'), ('Half', 'GPE'), ('Okay', 'GPE'), ('Okay', 'GPE'), ('Okay', 'GPE'), ('Make', 'GPE')] \n",
      "\n"
     ]
    }
   ],
   "source": [
    "better_names = extract_named_entries(transcript)\n",
    "print('\\n\\nWORD, Category:')\n",
    "print(better_names, \"\\n\")"
   ]
  },
  {
   "cell_type": "markdown",
   "metadata": {},
   "source": [
    "#### The function extract_names creates a list of names by looking for each word that has a the label 'PERSON' and appending it to a list. "
   ]
  },
  {
   "cell_type": "code",
   "execution_count": 7,
   "metadata": {},
   "outputs": [],
   "source": [
    "#extract the words that have a \"person\" token]\n",
    "#loop through already tagged transcripts\n",
    "#loop through pos_tag's within tagged transcripts\n",
    "#once 'PERSON' label is found, append each words to a list and return it\n",
    "def extract_names(document):\n",
    "    names = []\n",
    "    sentences = ie_preprocess(document) \n",
    "    for tagged_sentence in sentences:\n",
    "        for chunk in nltk.ne_chunk(tagged_sentence): \n",
    "            if type(chunk) == nltk.tree.Tree:\n",
    "                if chunk.label() == 'PERSON':\n",
    "                    names.append(' '.join([c[0] for c in chunk]))\n",
    "    return names"
   ]
  },
  {
   "cell_type": "markdown",
   "metadata": {},
   "source": [
    "#### We can call extract_names to receive a list of all the names found in the transcript. As you can see not all of these outputs are Human names, such as 'Hey', 'Google', and 'Sorry', so there is still much room for improvement."
   ]
  },
  {
   "cell_type": "code",
   "execution_count": 8,
   "metadata": {},
   "outputs": [
    {
     "name": "stdout",
     "output_type": "stream",
     "text": [
      "\n",
      "\n",
      "NAMES:\n",
      "['Sorry', 'Nolan Cross', 'Hey', 'George', 'Mike Lang', 'Ray Slater', 'Brooke Weiss', 'Mel', 'Fargo', 'Tech', 'Tech', 'Karen Lancaster', 'Devon', 'Tech', 'Yancy', 'Kelly', 'Taylor Neely', 'Hey', 'Taylor Neely', 'Barry University', 'Perry University', 'Kim', 'Heather Corel', 'Heather', 'Daniel Gory', 'Tech', 'Paul', 'Hey', 'Catherine', 'Tech', 'Google Edward', 'John', 'Gabriel', 'Jay Walsh', 'Brett', 'Rob', 'John', 'John', 'Paul', 'Paul Mable', 'John', 'Rob', 'John', 'Alright', 'John', 'David', 'Hey', 'Okay', 'John Mall', 'Edward', 'Okay', 'Edwards', 'Cook', 'Bob', 'Abel', 'David', 'Kelly', 'Tech', 'John', 'Alison', 'Hey', 'Penn State University', 'Connie', 'Sorry', 'Heather', 'Hey', 'Daniel Gory', 'Tech', 'Hey', 'Ethan Allen', 'Center', 'Ethan Alan', 'Avery Stacy Patino', 'Happy', 'Matt', 'Stacy Dave Christina', 'Hello', 'Gary Thompson', 'Laura', 'Katie', 'Katie Grace', 'Catherine', 'Katie', 'Kevin', 'Edward Facebook', 'Sorry', 'Marcella', 'Happy', 'Matt', 'Nadia Austin', 'Austin', 'Nadia Hoss', 'Mike', 'Tech', 'Daniel Gory', 'Tech', 'Rick', 'Mike', 'Chris', 'Chris', 'David', 'Tech', 'Violet Bailey', 'Jeremy Thomas'] \n",
      "\n"
     ]
    }
   ],
   "source": [
    "names = extract_names(transcript)\n",
    "print('\\n\\nNAMES:')\n",
    "print(names, \"\\n\")"
   ]
  },
  {
   "cell_type": "markdown",
   "metadata": {},
   "source": [
    "#### Another thing we can do with the nltk library is to search for a particular word or phrase. A concordance method shows us every occurrence of a given word, together with some context. "
   ]
  },
  {
   "cell_type": "code",
   "execution_count": 9,
   "metadata": {},
   "outputs": [
    {
     "name": "stdout",
     "output_type": "stream",
     "text": [
      "Displaying 4 of 4 matches:\n",
      " you for calling REI headquarters . If you\n",
      " you would like to speak with a customer s\n",
      " representative . Please press one if you would like to say hello . Sorry I cal\n",
      "ect your call . Okay hold on please . You . Hello . Please leave a message for \n",
      "Displaying 18 of 18 matches:\n",
      "kay hold on one second . Okay . Thank you . Hi I 'm Brooke Weiss later . Fine f\n",
      "gon na Carmen I 'm sorry to hear have you received any payment since May since \n",
      " not in my bank statement I will tell you ASAP . I 'm sorry man . That would be\n",
      "rry man . That would be great . Thank you very much . Mel Mel now . If you did \n",
      "hank you very much . Mel Mel now . If you did n't get it maybe I did n't hey I \n",
      "go 's bill pay . So sometimes when it you know it does n't necessarily look lik\n",
      " look like a check . I do n't know if you 've ever seen these things that come \n",
      " ever seen these things that come but you know it 's printed out by the bank an\n",
      "now it 's printed out by the bank and you got somehow tear in and off to open i\n",
      " mean maybe I overlooked it but thank you very much and I will get to it when I\n",
      "a sales representative . Press one if you 're an existing customer in need of s\n",
      "r in need of support . Press two . If you are interested in a career at dialog \n",
      "ed or recorded for quality purposes . You this is you okay and what 's the name\n",
      "ed for quality purposes . You this is you okay and what 's the name of the acco\n",
      "f the account for the company . Could you spell that for me . Okay just one mom\n",
      "ire transfer for payment . Hi how are you . Yes that is the invoice that were s\n",
      "eah is there anything else I can help you okay perfect thank you . Alright . Ha\n",
      "lse I can help you okay perfect thank you . Alright . Have a good one . Bye .\n",
      "Displaying 4 of 4 matches:\n",
      "a phone number . I will get back with you as soon as I possibly can . Thank you\n",
      "you as soon as I possibly can . Thank you . Hi Karen this is Devon foreman over\n",
      "reminders . Emergency response . When you get a chance please give me a call ba\n",
      "t six zero nine nine nine two . Thank you .\n",
      "Displaying 1 of 1 matches:\n",
      " you for choosing Yancy . My name is Kelly\n",
      "Displaying 7 of 7 matches:\n",
      " you for calling Barry University . For in\n",
      " or enter the extension of the person you were trying to reach to return to the\n",
      "r your call to campus . Hello . Thank you for calling Perry University . If you\n",
      "you for calling Perry University . If you would like to learn more about us pre\n",
      "our application status press two . If you have an active application . I need o\n",
      "s or financial aid . Press three . If you know the extension you want to reach \n",
      "ess three . If you know the extension you want to reach press four . To repeat \n",
      "Displaying 7 of 7 matches:\n",
      " you for calling for Brothers moment with \n",
      " you for holding how can I direct your cal\n",
      "one please record your message . When you are finished recording hang up or pre\n",
      " or press one for more options . Love you . Speak with Heather crab please . Th\n",
      "peak with Heather crab please . Thank you hey Heather it 's Daniel Gory . The r\n",
      "cross this website . I 'm gon na send you an e-mail with some screen shots of t\n",
      "t and I look forward to speaking with you soon . Thanks .\n",
      "Displaying 5 of 5 matches:\n",
      " you for calling fish Paul . The results a\n",
      "ully as our options have changed . If you know your party 's extension you can \n",
      ". If you know your party 's extension you can dial it at any time . For client \n",
      "ry press the star key . Hello . Thank you for calling fish for results or serve\n",
      "ception is currently unavailable . If you wish to leave a message please identi\n",
      "Displaying 3 of 3 matches:\n",
      " you for calling American carpet all calls\n",
      " you know your parties extension you may e\n",
      " . If you know your parties extension you may enter it at any time or sale . Pl\n",
      "Displaying 6 of 6 matches:\n",
      " You have reached the voicemail box of six\n",
      "ease record your voice message . When you are finished recording you may hang u\n",
      "age . When you are finished recording you may hang up or press pound for more o\n",
      " call back or I 'm also about to send you an e-mail you can respond that way as\n",
      "I 'm also about to send you an e-mail you can respond that way as well . Talk t\n",
      "an respond that way as well . Talk to you soon . Bye-bye .\n",
      "Displaying 25 of 25 matches:\n",
      " other any other advance options that you recommend I apply . I do n't know wha\n",
      "the private implications are there do you . Hey I 'm not playing with that . Ok\n",
      "ave source name . Okay okay . Hey can you know the case for me . This is with a\n",
      "for me . This is with all due respect you 've been the most helpful of the supp\n",
      " 's temporary number I 'm gon na give you my mobile it 's three one two eight e\n",
      "els that I should be aware of or that you 've seen Brett okay . Alright I 'll g\n",
      "ternoon . Have a good day bye . Thank you for calling dialog Tech this is Rob h\n",
      " dialog Tech this is Rob how can help you . Okay . Okay . Let 's do this can ge\n",
      "and call extension . Let me know once you 're there . So just grandson . See th\n",
      "et 's go ahead and look into it . Now you gon na see transfer call and you 're \n",
      " Now you gon na see transfer call and you 're gon na see an eight hundred numbe\n",
      "t page says set up at the top left so you 'll see a show advance options a litt\n",
      "Go ahead and click on show now . Once you 've done that you 'll see a reverse l\n",
      " on show now . Once you 've done that you 'll see a reverse look up always putt\n",
      "ecord Paul and Paul Mable . Right now you only will set now go ahead and change\n",
      "ill set now go ahead and change it to you it except and then determine what you\n",
      "you it except and then determine what you want your phone able to show up as fo\n",
      "hone able to show up as for that . So you might wan na put sales tax automation\n",
      " like that . Then once yeah once once you could call me we 'll go ahead and ask\n",
      "and then do it for the rest of them . You should be golden going forward . It i\n",
      "eed any other questions about only if you wan na record your call if you do the\n",
      "nly if you wan na record your call if you do then go ahead and let 's let 's ad\n",
      "ly just depends on your instance like you wan na record the whole call you only\n",
      "like you wan na record the whole call you only want like half a call once it 's\n",
      "rred it 's different for her state so you have_to look into those laws for that\n",
      "Displaying 3 of 3 matches:\n",
      "line because I took a message or help you with something . Okay . Great . Thank\n",
      "with something . Okay . Great . Thank you . Bye . Hi there looking for David . \n",
      " and e-mail . Alright awesome . Thank you .\n",
      "Displaying 25 of 25 matches:\n",
      " you guys and I 'm specifically checking c\n",
      "John Mall . If I need to be done with you make your fine . You can do n't worry\n",
      " to be done with you make your fine . You can do n't worry about the noise . Pr\n",
      " a quick to call hi do call extension you can see a couple of my accounts are e\n",
      "on with Edward today at ten ways that you guys received just that . Okay . Got \n",
      "ooking at state sales tax general one you have n't yet gone to manually think h\n",
      "send them out today at ten oh nine so you manually sync them all at this point \n",
      "ere all in that state in the jeep and you had can figure it and because right n\n",
      " I did n't wan na do that until I see you staying for every new one . Once I ge\n",
      "auto tagging and what had I know that you using source track . It 's check your\n",
      " have_to configure goals and so I see you to tell me to configure phone call go\n",
      "on in dialog Tech with the D and T so you tell me . Okay . This is all done aut\n",
      " non- on the campaign and I integrate you guys it it automatically falls or dri\n",
      "hat that data analytics accountant to you later . Yeah . Yeah okay see you . By\n",
      "t to you later . Yeah . Yeah okay see you . Bye it 's not on so maybe you were \n",
      "y see you . Bye it 's not on so maybe you were looking at . Yeah that 's it oka\n",
      " Yeah that 's it okay . So this is so you 're saying if I have the analytics ac\n",
      "erentiate it . Okay . Got it . Okay . You 're hi Bob this is is that now the Ed\n",
      "s that now the Edward 's account that you have manually seen as long as I have \n",
      " give that a shot and then I 'll call you guys back about any questions . Aweso\n",
      "ut any questions . Awesome . Bye . Do you want the e-mail address that I used t\n",
      "l address that I used to log in or do you want because I use that shared e-mail\n",
      "il address for my agency to log in to you guys but do you want me to use hey th\n",
      "y agency to log in to you guys but do you want me to use hey this is Abel . Can\n",
      "want me to use hey this is Abel . Can you give you a message at North_Side N O \n",
      "Displaying 9 of 9 matches:\n",
      " you for calling help a Child smile on the\n",
      "re the existing extension number . If you know your party 's extension you may \n",
      ". If you know your party 's extension you may dial it now . If you are a school\n",
      "'s extension you may dial it now . If you are a school representative press one\n",
      "ool representative press one now . If you are a parent or have general question\n",
      "ur small this is Crystal how may help you . Okay yes I can send you over to Ali\n",
      "ow may help you . Okay yes I can send you over to Alison hello . Hello . Hello \n",
      "andles your digital marketing efforts you need to reach out to for the okay . T\n",
      " to reach out to for the okay . Thank you very much .\n",
      "Displaying 6 of 6 matches:\n",
      " you for calling Penn State University thi\n",
      " Record your message at the tone when you are finished hang up or press pound f\n",
      "peak to Heather kerber please . Thank you . Hey Heather it 's Daniel Gory . Rea\n",
      " Gory . Reason for my call is because you all received the digital marketing ef\n",
      "ntify Ms. and opportunities . Missing you an e-mail with some more information \n",
      "and I look forward to connecting with you soon . Have a wonderful weekend . Bye\n",
      "Displaying 3 of 3 matches:\n",
      "our forty five p.m. Eastern Time . If you know your party 's extension please e\n",
      "ve me a message and I 'll get back to you when I return on Monday the . Hey goo\n",
      "her individual PE TRO . Awesome thank you so much .\n",
      "Displaying 22 of 22 matches:\n",
      "his is Katie . Hello . Yeah . How are you . I 'm good . What can I do for you t\n",
      "e you . I 'm good . What can I do for you today . Yes I had registered for it a\n",
      "video first so I kinda have an idea . You know what all about and then yeah I c\n",
      "nd then yeah I can be in contact with you after that if it 's something that we\n",
      "hat we would like to do that work for you . Okay . Sounds great . Thank you for\n",
      "for you . Okay . Sounds great . Thank you for the call . Alright you too bye-by\n",
      "at . Thank you for the call . Alright you too bye-bye . Hi I was looking to spe\n",
      " this is Kevin over at Tyler Tech how you doing . Yes I just wanted to quickly \n",
      "g . Yes I just wanted to quickly give you a call I saw that you attended our we\n",
      "to quickly give you a call I saw that you attended our webinar earlier this wee\n",
      "olutely I wanted to definitely see if you did n't have a chance or if you plan \n",
      "ee if you did n't have a chance or if you plan on it or if you were you know in\n",
      "e a chance or if you plan on it or if you were you know interested in kind of l\n",
      "e or if you plan on it or if you were you know interested in kind of learning m\n",
      " analytics platform and everything if you 're not already doing so for your cli\n",
      "ready doing so for your clients or if you wanted to just you know have an disco\n",
      "your clients or if you wanted to just you know have an discovery call next week\n",
      "all next week or the demo just to see you and get a better understanding the ri\n",
      "ay . Absolutely then I 'll I 'll send you perfect I 'll send you a quick e-mail\n",
      "'ll I 'll send you perfect I 'll send you a quick e-mail with my contact inform\n",
      " my contact information and then like you said just follow up next week if that\n",
      "low up next week if that 's something you wan na continue discussing . Also hav\n",
      "no matches\n",
      "Displaying 12 of 12 matches:\n",
      "t was the first name . Sorry now that you know what department she was in . Oka\n",
      "t she was in . Okay . One moment yeah you okay thanks for holding sir so I 'm g\n",
      "ing sir so I 'm go ahead and transfer you over to the marketing department . Th\n",
      "hey 'll be ready on extension connect you with her extension because I 'm not s\n",
      "phone number . If this is suitable do you know who you spoke to . Yeah I 'm in \n",
      ". If this is suitable do you know who you spoke to . Yeah I 'm in voices man . \n",
      "n the data center . No problem before you go man try three four one eight and i\n",
      " Alright three four one eight . Would you beautiful me through to her . Okay . \n",
      "utiful me through to her . Okay . Are you in the marketing department because I\n",
      "tment because I just got forwarded to you and was told that for whatever reason\n",
      "and was told that for whatever reason you were gon na put me through somewhere \n",
      "Three four four eight . Alright thank you so much have a good one .\n",
      "Displaying 12 of 12 matches:\n",
      " you for calling City Wide . If you know t\n",
      " you know the extension you were trying to\n",
      " you were trying to reach you may dial it \n",
      " you may dial it at any time or Mike to . \n",
      "calls . Yeah so inbound phone calls . You know the likelihood of us getting an \n",
      "to the dialog Tech . Yeah okay . Love you bud . Bye-bye . Hi Mike this is Danie\n",
      ". Hi Mike this is Daniel Gory how are you . Well thanks . The reason for my cal\n",
      "e top right . I was wondering how are you currently training your franchise loc\n",
      " was wondering what level of insights you currently really capturing around the\n",
      "he different franchise location . Got you yeah I just noticed the phone number \n",
      " just noticed the phone number but if you 're only can I call every thousand in\n",
      "bably would be the best fit but thank you Rick . I know that Mike . Have a grea\n",
      "Displaying 23 of 23 matches:\n",
      " you this is Chris . David said give you a\n",
      "k you this is Chris . David said give you a call to look for some numbers . If \n",
      " a call to look for some numbers . If you have a minute . Alright . You need to\n",
      "rs . If you have a minute . Alright . You need to find my account . Ims relocat\n",
      "e . This easy to memorize number . If you want take some time and you just wan \n",
      "mber . If you want take some time and you just wan na e-mail me or call me or h\n",
      "nter I do have three or four . I know you put a couple in there yesterday to ge\n",
      "ix nine nine one two two oh two . Got you . Okay . Yeah if you could let me kno\n",
      "two oh two . Got you . Okay . Yeah if you could let me know what you can come u\n",
      " . Yeah if you could let me know what you can come up with . I 'm looking for I\n",
      "me up with . I 'm looking for I guess you said there 's four in there three . S\n",
      "So give us something easy . Yeah sure you got my e-mail signature at IMS reloca\n",
      "remy Thomas calling . What company or you have a moment it to you . I guess I '\n",
      "at company or you have a moment it to you . I guess I 'm transferring you now h\n",
      "it to you . I guess I 'm transferring you now hello yes sure . Yeah okay . Thre\n",
      "is I 'll be a case from a number that you need from both area codes . Check . S\n",
      "me look at your account here . Yes so you have eleven more Locust address . So \n",
      " have eleven more Locust address . So you said you looking for two one four is \n",
      "ven more Locust address . So you said you looking for two one four is nine seve\n",
      "r two one four is nine seven two . So you want me to do like six and five or fi\n",
      " two seven two six . I 'll try to get you some easy remember . Yeah like if it \n",
      " And once I get that I 'll I 'll give you a e-mail . I 'll shoot you an e-mail \n",
      "I 'll give you a e-mail . I 'll shoot you an e-mail with all the numbers in the\n"
     ]
    }
   ],
   "source": [
    "## Test the function\n",
    "for indiv_transcript in transcript:\n",
    "    tokens = nltk.word_tokenize(indiv_transcript)\n",
    "    text = nltk.Text(tokens)\n",
    "    text.concordance('you') # default text.concordance output"
   ]
  },
  {
   "cell_type": "markdown",
   "metadata": {},
   "source": [
    "#### NLTK is not the only NLP library. There is another very useful one: spaCy, which features models for tagging, parsing, and entity recognition. While they are similar, there are different reasons to use each one. To learn more about the differences between the two, here is an informative [link](https://medium.com/@akankshamalhotra24/introduction-to-libraries-of-nlp-in-python-nltk-vs-spacy-42d7b2f128f2).  For the rest of the tutorial, we will be exploring the spaCy library by extracting parts of speech, categories and other gramatical structures."
   ]
  },
  {
   "cell_type": "markdown",
   "metadata": {},
   "source": [
    "#### spaCy: part of speech tagging\n",
    "#### prints out word, base form of the word, part of speech, abreviated part of speech, more in depth part of speech, shape of word "
   ]
  },
  {
   "cell_type": "code",
   "execution_count": 10,
   "metadata": {},
   "outputs": [
    {
     "name": "stdout",
     "output_type": "stream",
     "text": [
      "Thank thank VERB VBP ROOT Xxxxx\n",
      "you -PRON- PRON PRP dobj xxx\n",
      "for for ADP IN prep xxx\n",
      "calling call VERB VBG pcomp xxxx\n",
      "REI rei PROPN NNP compound XXX\n",
      "headquarters headquarters NOUN NN dobj xxxx\n",
      ". . PUNCT . punct .\n",
      "If if ADP IN mark Xx\n",
      "you -PRON- PRON PRP nsubj xxx\n",
      "would would VERB MD aux xxxx\n",
      "like like VERB VB ROOT xxxx\n",
      "to to PART TO aux xx\n",
      "speak speak VERB VB xcomp xxxx\n",
      "with with ADP IN prep xxxx\n",
      "a a DET DT det x\n",
      "customer customer NOUN NN compound xxxx\n",
      "service service NOUN NN compound xxxx\n",
      "representative representative NOUN NN pobj xxxx\n",
      ". . PUNCT . punct .\n",
      "Please please INTJ UH intj Xxxxx\n",
      "press press VERB VB ROOT xxxx\n",
      "one one NUM CD dobj xxx\n",
      "if if ADP IN mark xx\n",
      "you -PRON- PRON PRP nsubj xxx\n",
      "would would VERB MD aux xxxx\n",
      "like like VERB VB advcl xxxx\n",
      "to to PART TO aux xx\n",
      "say say VERB VB xcomp xxx\n",
      "hello hello INTJ UH intj xxxx\n",
      ". . PUNCT . punct .\n",
      "Sorry sorry INTJ UH intj Xxxxx\n",
      "I -PRON- PRON PRP nsubj X\n",
      "called call VERB VBD ROOT xxxx\n",
      "up up PART RP prt xx\n",
      ". . PUNCT . punct .\n",
      "I -PRON- PRON PRP nsubj X\n",
      "may may VERB MD aux xxx\n",
      "direct direct VERB VB ROOT xxxx\n",
      "your -PRON- ADJ PRP$ poss xxxx\n",
      "call call NOUN NN dobj xxxx\n",
      ". . PUNCT . punct .\n",
      "Okay okay INTJ UH intj Xxxx\n",
      "hold hold VERB VB ROOT xxxx\n",
      "on on PART RP prt xx\n",
      "please please INTJ UH advmod xxxx\n",
      ". . PUNCT . punct .\n",
      "You -PRON- PRON PRP ROOT Xxx\n",
      ". . PUNCT . punct .\n",
      "Hello hello INTJ UH ROOT Xxxxx\n",
      ". . PUNCT . punct .\n",
      "Please please INTJ UH intj Xxxxx\n",
      "leave leave VERB VB ROOT xxxx\n",
      "a a DET DT det x\n",
      "message message NOUN NN dobj xxxx\n",
      "for for ADP IN prep xxx\n",
      "Nolan nolan PROPN NNP compound Xxxxx\n",
      "Cross cross PROPN NNP pobj Xxxxx\n",
      ". . PUNCT . punct .\n",
      "Hey hey INTJ UH intj Xxx\n",
      "Mack mack PROPN NNP nsubj Xxxx\n",
      "calling call VERB VBG ROOT xxxx\n",
      "from from ADP IN prep xxxx\n",
      "Cross cross PROPN NNP pobj Xxxxx\n",
      ". . PUNCT . punct .\n"
     ]
    }
   ],
   "source": [
    "#introduction to spacy\n",
    "#part-of-speech tagging\n",
    "nlp = spacy.load('en')\n",
    "\n",
    "doc = nlp(transcript[0])\n",
    "for token in doc:\n",
    "    print(token.text, token.lemma_, token.pos_, token.tag_, token.dep_,\n",
    "        token.shape_)"
   ]
  },
  {
   "cell_type": "markdown",
   "metadata": {},
   "source": [
    "#### spaCy: noun chunks"
   ]
  },
  {
   "cell_type": "code",
   "execution_count": 11,
   "metadata": {},
   "outputs": [
    {
     "name": "stdout",
     "output_type": "stream",
     "text": [
      "you you dobj Thank\n",
      "REI headquarters headquarters dobj calling\n",
      "you you nsubj like\n",
      "a customer service representative representative pobj with\n",
      "you you nsubj like\n",
      "I I nsubj called\n",
      "I I nsubj direct\n",
      "your call call dobj direct\n",
      "You You ROOT You\n",
      "a message message dobj leave\n",
      "Nolan Cross Cross pobj for\n",
      "Mack Mack nsubj calling\n",
      "Cross Cross pobj from\n"
     ]
    }
   ],
   "source": [
    "#noun chunks\n",
    "#prints \"base noun phrases\" - flat phrases that have a noun as their head. \n",
    "\n",
    "doc = nlp(transcript[0])\n",
    "for token in doc.noun_chunks:\n",
    "    print(token.text, token.root.text, token.root.dep_,\n",
    "        token.root.head.text)"
   ]
  },
  {
   "cell_type": "markdown",
   "metadata": {},
   "source": [
    "#### spaCy: Assigns the label people, numbers (cardinal), date, time, and organization\n",
    "#### prints word, starting character, ending character, and label."
   ]
  },
  {
   "cell_type": "code",
   "execution_count": 12,
   "metadata": {},
   "outputs": [
    {
     "name": "stdout",
     "output_type": "stream",
     "text": [
      "REI 22 25 ORG\n",
      "one 120 123 CARDINAL\n",
      "Nolan Cross 259 270 ORG\n",
      "Mack 276 280 PERSON\n",
      "Cross 294 299 ORG\n"
     ]
    }
   ],
   "source": [
    "doc = nlp(transcript[0])\n",
    "for ent in doc.ents: \n",
    "    print(ent.text, ent.start_char, ent.end_char, ent.label_)"
   ]
  },
  {
   "cell_type": "markdown",
   "metadata": {},
   "source": []
  },
  {
   "cell_type": "code",
   "execution_count": 13,
   "metadata": {},
   "outputs": [
    {
     "name": "stdout",
     "output_type": "stream",
     "text": [
      "Mack\n",
      "George Mike Lang\n",
      "Kelly\n",
      "Sally Ray Slater\n",
      "Kinda\n",
      "Bye\n",
      "Brooke Weiss\n",
      "Mel Mel\n",
      "Bye\n",
      "Bye\n",
      "Karen Lancaster\n",
      "Karen\n",
      "Devon\n",
      "Kelly\n",
      "Taylor\n",
      "Shelly\n",
      "Taylor\n",
      "Perry University\n",
      "Kim\n",
      "Heather Corel\n",
      "Daniel Gory\n",
      "Paul\n",
      "Reception\n",
      "Jack\n",
      "Catherine\n",
      "Bye-bye\n",
      "Google Edward\n",
      "John Walsh\n",
      "Jay Walsh\n",
      "John Jeff\n",
      "Gimme\n",
      "John\n",
      "Paul\n",
      "Paul Mable\n",
      "John\n",
      "John\n",
      "John\n",
      "Bye\n",
      "Bye\n",
      "David\n",
      "Kelly\n",
      "My Edwards\n",
      "John Mall\n",
      "Edward\n",
      "Bye\n",
      "Cook\n",
      "Bob\n",
      "Edward\n",
      "Bye\n",
      "Abel\n",
      "Bye\n",
      "David Gonzales\n",
      "Kelly\n",
      "Bye\n",
      "Bye\n",
      "Walkers\n",
      "John\n",
      "Prima\n",
      "Alison\n",
      "Connie\n",
      "Heather Torres\n",
      "Daniel Gory\n",
      "Bye\n",
      "Ethan Allen\n",
      "Ethan Allen\n",
      "Ethan Alan Headquarters\n",
      "Ethan\n",
      "morning Stone\n",
      "Avery Stacy Patino\n",
      "Ethan\n",
      "Matt\n",
      "Stacy Dave Christina\n",
      "Gary Thompson\n",
      "Laura\n",
      "Katie\n",
      "Katie Grace\n",
      "Sherry\n",
      "Catherine\n",
      "Bye\n",
      "Katie\n",
      "Kevin\n",
      "Edward Facebook\n",
      "Irvin\n",
      "Marcella\n",
      "Matt\n",
      "Nadia Austin\n",
      "Nadia Hoss\n",
      "Mike\n",
      "Bye-bye\n",
      "Mike\n",
      "Daniel Gory\n",
      "Rick\n",
      "Mike\n",
      "Bye\n",
      "Chris\n",
      "Chris\n",
      "David\n",
      "Ims\n",
      "Bye\n",
      "Violet Bailey\n",
      "Jeremy Thomas\n"
     ]
    }
   ],
   "source": [
    "for indiv_transcript in transcript:\n",
    "    doc = nlp(indiv_transcript)\n",
    "    for ent in doc.ents:\n",
    "        if ent.label_ == 'PERSON':\n",
    "            print(ent.text)"
   ]
  },
  {
   "cell_type": "markdown",
   "metadata": {},
   "source": [
    "#### While this list of names is not perfect, if we compare it to the list of names created with the NLTK library, it is clear to see that this list is more accurate. "
   ]
  },
  {
   "cell_type": "markdown",
   "metadata": {},
   "source": [
    "#### Overall, I prefer using spaCy over NLTK. It is faster and has a more a accurate part of speech tagger. Spacy also has integrated word vectors and a fast & accurate part-of-speech tagger + dependency parser. Everything is predefined and you don't need to spend time writing new pos -taggers that you might have to with NLTK"
   ]
  },
  {
   "cell_type": "code",
   "execution_count": null,
   "metadata": {},
   "outputs": [],
   "source": []
  }
 ],
 "metadata": {
  "kernelspec": {
   "display_name": "Python [conda env:nltk_practice]",
   "language": "python",
   "name": "conda-env-nltk_practice-py"
  },
  "language_info": {
   "codemirror_mode": {
    "name": "ipython",
    "version": 3
   },
   "file_extension": ".py",
   "mimetype": "text/x-python",
   "name": "python",
   "nbconvert_exporter": "python",
   "pygments_lexer": "ipython3",
   "version": "3.6.5"
  }
 },
 "nbformat": 4,
 "nbformat_minor": 2
}
